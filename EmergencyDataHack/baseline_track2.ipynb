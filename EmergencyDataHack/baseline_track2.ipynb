{
 "cells": [
  {
   "cell_type": "markdown",
   "metadata": {},
   "source": [
    "## Emergency Datahack, трек #2: предсказание роста максимального уровня воды на реке Лене в весенний период<a class=\"anchor\" id=\"0-bullet\">\n",
    "\n",
    "* [1. Загрузка данных](#1-bullet)\n",
    "* [2. Преобразование гидрологических данных](#2-bullet)\n",
    "* [3. Преобразование метеорологических данных](#3-bullet)\n",
    "* [4. Приведение метеоданных к единой временной детализации](#4-bullet)\n",
    "* [5. Интерполяция метеоданных в точках гидропостов](#5-bullet)\n",
    "* [6. Базовая модель](#6-bullet)"
   ]
  },
  {
   "cell_type": "markdown",
   "metadata": {},
   "source": [
    "Сводка важных сообщений из этого ноутбука:"
   ]
  },
  {
   "cell_type": "markdown",
   "metadata": {},
   "source": [
    "<div class=\"alert alert-block alert-success\">\n",
    "Внимание! Пары {station_id: std_sq}, на которые нормируются ошибки MSE для каждого из целевых гидропостов:\n",
    "        <li>3019: 185.35707752426708,\n",
    "        <li>3027: 1223.8071616577856,\n",
    "        <li>3028: 1357.4062812989373,\n",
    "        <li>3029: 1520.7730161870682,\n",
    "        <li>3030: 1765.9217904996142,\n",
    "        <li>3035: 765.3703832632036,\n",
    "        <li>3041: 443.5766934006718,\n",
    "        <li>3045: 579.1353554017562,\n",
    "        <li>3050: 612.0471238561079,\n",
    "        <li>3230: 516.6669876251401\n",
    "\n",
    "Расчет метрики приведен в пункте 6.\n",
    "</div>"
   ]
  },
  {
   "cell_type": "markdown",
   "metadata": {},
   "source": [
    "<div class=\"alert alert-block alert-danger\">\n",
    "Внимание-2! <b>Нельзя использовать данные из будущего для предсказания прошлых событий</b> (так называемые лики). Иными словами, нельзя использовать данные, временной период для которых позднее, чем время наблюдения, целевую переменную для которого вы пытаетесь предсказать.\n",
    "</div>"
   ]
  },
  {
   "cell_type": "markdown",
   "metadata": {},
   "source": [
    "<div class=\"alert alert-block alert-info\">\n",
    "FYI. В тестовую выборку попали периоды из следующих лет:\n",
    "<li>1989\n",
    "<li>1993\n",
    "<li>1997\n",
    "<li>2001\n",
    "<li>2003\n",
    "<li>2004\n",
    "<li>2005\n",
    "<li>2012\n",
    "<li>2013\n",
    "</div>"
   ]
  },
  {
   "cell_type": "code",
   "execution_count": 5,
   "metadata": {},
   "outputs": [
    {
     "ename": "ModuleNotFoundError",
     "evalue": "No module named 'prophet'",
     "output_type": "error",
     "traceback": [
      "\u001b[1;31m---------------------------------------------------------------------------\u001b[0m",
      "\u001b[1;31mModuleNotFoundError\u001b[0m                       Traceback (most recent call last)",
      "\u001b[1;32m<ipython-input-5-1fa62d5b880a>\u001b[0m in \u001b[0;36m<module>\u001b[1;34m\u001b[0m\n\u001b[0;32m     12\u001b[0m \u001b[1;33m\u001b[0m\u001b[0m\n\u001b[0;32m     13\u001b[0m \u001b[1;31m# from prophet import Prophet\u001b[0m\u001b[1;33m\u001b[0m\u001b[1;33m\u001b[0m\u001b[1;33m\u001b[0m\u001b[0m\n\u001b[1;32m---> 14\u001b[1;33m \u001b[1;32mfrom\u001b[0m \u001b[0mprophet\u001b[0m\u001b[1;33m.\u001b[0m\u001b[0mdiagnostics\u001b[0m \u001b[1;32mimport\u001b[0m \u001b[0mcross_validation\u001b[0m\u001b[1;33m,\u001b[0m \u001b[0mperformance_metrics\u001b[0m\u001b[1;33m\u001b[0m\u001b[1;33m\u001b[0m\u001b[0m\n\u001b[0m\u001b[0;32m     15\u001b[0m \u001b[1;32mfrom\u001b[0m \u001b[0mprophet\u001b[0m\u001b[1;33m.\u001b[0m\u001b[0mplot\u001b[0m \u001b[1;32mimport\u001b[0m \u001b[0mplot_plotly\u001b[0m\u001b[1;33m,\u001b[0m \u001b[0mplot_components_plotly\u001b[0m\u001b[1;33m,\u001b[0m\u001b[0mplot_cross_validation_metric\u001b[0m\u001b[1;33m\u001b[0m\u001b[1;33m\u001b[0m\u001b[0m\n\u001b[0;32m     16\u001b[0m \u001b[1;32mimport\u001b[0m \u001b[0mplotly\u001b[0m\u001b[1;33m.\u001b[0m\u001b[0mgraph_objs\u001b[0m \u001b[1;32mas\u001b[0m \u001b[0mgo\u001b[0m\u001b[1;33m\u001b[0m\u001b[1;33m\u001b[0m\u001b[0m\n",
      "\u001b[1;31mModuleNotFoundError\u001b[0m: No module named 'prophet'"
     ]
    }
   ],
   "source": [
    "from datetime import datetime\n",
    "import json5 as json\n",
    "import numpy as np\n",
    "import pandas as pd\n",
    "import datetime\n",
    "import seaborn as sns\n",
    "\n",
    "import matplotlib.pyplot as plt\n",
    "from pykrige.ok import OrdinaryKriging\n",
    "\n",
    "from multiprocessing import Pool, cpu_count\n",
    "\n",
    "# from prophet import Prophet\n",
    "from prophet.diagnostics import cross_validation, performance_metrics\n",
    "from prophet.plot import plot_plotly, plot_components_plotly,plot_cross_validation_metric\n",
    "import plotly.graph_objs as go\n",
    "from sklearn.metrics import mean_squared_error"
   ]
  },
  {
   "cell_type": "code",
   "execution_count": 1,
   "metadata": {},
   "outputs": [
    {
     "name": "stdout",
     "output_type": "stream",
     "text": [
      "Collecting fbprophet\n",
      "  Using cached fbprophet-0.7.1.tar.gz (64 kB)\n",
      "Requirement already satisfied: Cython>=0.22 in c:\\users\\gorba\\anaconda3\\lib\\site-packages (from fbprophet) (0.29.21)\n",
      "Requirement already satisfied: cmdstanpy==0.9.5 in c:\\users\\gorba\\anaconda3\\lib\\site-packages (from fbprophet) (0.9.5)\n",
      "Requirement already satisfied: pystan>=2.14 in c:\\users\\gorba\\anaconda3\\lib\\site-packages (from fbprophet) (2.19.1.1)\n",
      "Requirement already satisfied: numpy>=1.15.4 in c:\\users\\gorba\\anaconda3\\lib\\site-packages (from fbprophet) (1.20.1)Note: you may need to restart the kernel to use updated packages.\n"
     ]
    },
    {
     "name": "stderr",
     "output_type": "stream",
     "text": [
      "  ERROR: Command errored out with exit status 1:\n",
      "   command: 'C:\\Users\\gorba\\anaconda3\\python.exe' -u -c 'import sys, setuptools, tokenize; sys.argv[0] = '\"'\"'C:\\\\Users\\\\gorba\\\\AppData\\\\Local\\\\Temp\\\\pip-install-240791gz\\\\fbprophet_0215fa61b9254bd48e64479e1458f7b8\\\\setup.py'\"'\"'; __file__='\"'\"'C:\\\\Users\\\\gorba\\\\AppData\\\\Local\\\\Temp\\\\pip-install-240791gz\\\\fbprophet_0215fa61b9254bd48e64479e1458f7b8\\\\setup.py'\"'\"';f=getattr(tokenize, '\"'\"'open'\"'\"', open)(__file__);code=f.read().replace('\"'\"'\\r\\n'\"'\"', '\"'\"'\\n'\"'\"');f.close();exec(compile(code, __file__, '\"'\"'exec'\"'\"'))' bdist_wheel -d 'C:\\Users\\gorba\\AppData\\Local\\Temp\\pip-wheel-jntb3wnq'\n",
      "       cwd: C:\\Users\\gorba\\AppData\\Local\\Temp\\pip-install-240791gz\\fbprophet_0215fa61b9254bd48e64479e1458f7b8\\\n",
      "  Complete output (10 lines):\n",
      "  running bdist_wheel\n",
      "  running build\n",
      "  running build_py\n",
      "  creating build\n",
      "  creating build\\lib\n",
      "  creating build\\lib\\fbprophet\n",
      "  creating build\\lib\\fbprophet\\stan_model\n",
      "  INFO:pystan:COMPILING THE C++ CODE FOR MODEL anon_model_f5236004a3fd5b8429270d00efcc0cf9 NOW.\n",
      "  WARNING:pystan:MSVC compiler is not supported\n",
      "  error: Microsoft Visual C++ 14.0 or greater is required. Get it with \"Microsoft C++ Build Tools\": https://visualstudio.microsoft.com/visual-cpp-build-tools/\n",
      "  ----------------------------------------\n",
      "  ERROR: Failed building wheel for fbprophet\n",
      "    ERROR: Command errored out with exit status 1:\n",
      "     command: 'C:\\Users\\gorba\\anaconda3\\python.exe' -u -c 'import sys, setuptools, tokenize; sys.argv[0] = '\"'\"'C:\\\\Users\\\\gorba\\\\AppData\\\\Local\\\\Temp\\\\pip-install-240791gz\\\\fbprophet_0215fa61b9254bd48e64479e1458f7b8\\\\setup.py'\"'\"'; __file__='\"'\"'C:\\\\Users\\\\gorba\\\\AppData\\\\Local\\\\Temp\\\\pip-install-240791gz\\\\fbprophet_0215fa61b9254bd48e64479e1458f7b8\\\\setup.py'\"'\"';f=getattr(tokenize, '\"'\"'open'\"'\"', open)(__file__);code=f.read().replace('\"'\"'\\r\\n'\"'\"', '\"'\"'\\n'\"'\"');f.close();exec(compile(code, __file__, '\"'\"'exec'\"'\"'))' install --record 'C:\\Users\\gorba\\AppData\\Local\\Temp\\pip-record-6eqzpvqc\\install-record.txt' --single-version-externally-managed --compile --install-headers 'C:\\Users\\gorba\\anaconda3\\Include\\fbprophet'\n",
      "         cwd: C:\\Users\\gorba\\AppData\\Local\\Temp\\pip-install-240791gz\\fbprophet_0215fa61b9254bd48e64479e1458f7b8\\\n",
      "    Complete output (10 lines):\n",
      "    running install\n",
      "    running build\n",
      "    running build_py\n",
      "    creating build\n",
      "    creating build\\lib\n",
      "    creating build\\lib\\fbprophet\n",
      "    creating build\\lib\\fbprophet\\stan_model\n",
      "    INFO:pystan:COMPILING THE C++ CODE FOR MODEL anon_model_f5236004a3fd5b8429270d00efcc0cf9 NOW.\n",
      "    WARNING:pystan:MSVC compiler is not supported\n",
      "    error: Microsoft Visual C++ 14.0 or greater is required. Get it with \"Microsoft C++ Build Tools\": https://visualstudio.microsoft.com/visual-cpp-build-tools/\n",
      "    ----------------------------------------\n",
      "ERROR: Command errored out with exit status 1: 'C:\\Users\\gorba\\anaconda3\\python.exe' -u -c 'import sys, setuptools, tokenize; sys.argv[0] = '\"'\"'C:\\\\Users\\\\gorba\\\\AppData\\\\Local\\\\Temp\\\\pip-install-240791gz\\\\fbprophet_0215fa61b9254bd48e64479e1458f7b8\\\\setup.py'\"'\"'; __file__='\"'\"'C:\\\\Users\\\\gorba\\\\AppData\\\\Local\\\\Temp\\\\pip-install-240791gz\\\\fbprophet_0215fa61b9254bd48e64479e1458f7b8\\\\setup.py'\"'\"';f=getattr(tokenize, '\"'\"'open'\"'\"', open)(__file__);code=f.read().replace('\"'\"'\\r\\n'\"'\"', '\"'\"'\\n'\"'\"');f.close();exec(compile(code, __file__, '\"'\"'exec'\"'\"'))' install --record 'C:\\Users\\gorba\\AppData\\Local\\Temp\\pip-record-6eqzpvqc\\install-record.txt' --single-version-externally-managed --compile --install-headers 'C:\\Users\\gorba\\anaconda3\\Include\\fbprophet' Check the logs for full command output.\n"
     ]
    },
    {
     "name": "stdout",
     "output_type": "stream",
     "text": [
      "\n",
      "Requirement already satisfied: pandas>=1.0.4 in c:\\users\\gorba\\anaconda3\\lib\\site-packages (from fbprophet) (1.2.4)\n",
      "Requirement already satisfied: matplotlib>=2.0.0 in c:\\users\\gorba\\anaconda3\\lib\\site-packages (from fbprophet) (3.3.4)\n",
      "Requirement already satisfied: LunarCalendar>=0.0.9 in c:\\users\\gorba\\anaconda3\\lib\\site-packages (from fbprophet) (0.0.9)\n",
      "Requirement already satisfied: convertdate>=2.1.2 in c:\\users\\gorba\\anaconda3\\lib\\site-packages (from fbprophet) (2.3.2)\n",
      "Requirement already satisfied: holidays>=0.10.2 in c:\\users\\gorba\\anaconda3\\lib\\site-packages (from fbprophet) (0.11.1)\n",
      "Requirement already satisfied: setuptools-git>=1.2 in c:\\users\\gorba\\anaconda3\\lib\\site-packages (from fbprophet) (1.2)\n",
      "Requirement already satisfied: python-dateutil>=2.8.0 in c:\\users\\gorba\\anaconda3\\lib\\site-packages (from fbprophet) (2.8.1)\n",
      "Requirement already satisfied: tqdm>=4.36.1 in c:\\users\\gorba\\anaconda3\\lib\\site-packages (from fbprophet) (4.59.0)\n",
      "Requirement already satisfied: pymeeus<=1,>=0.3.13 in c:\\users\\gorba\\anaconda3\\lib\\site-packages (from convertdate>=2.1.2->fbprophet) (0.5.11)\n",
      "Requirement already satisfied: pytz>=2014.10 in c:\\users\\gorba\\anaconda3\\lib\\site-packages (from convertdate>=2.1.2->fbprophet) (2021.1)\n",
      "Requirement already satisfied: korean-lunar-calendar in c:\\users\\gorba\\anaconda3\\lib\\site-packages (from holidays>=0.10.2->fbprophet) (0.2.1)\n",
      "Requirement already satisfied: six in c:\\users\\gorba\\anaconda3\\lib\\site-packages (from holidays>=0.10.2->fbprophet) (1.15.0)\n",
      "Requirement already satisfied: hijri-converter in c:\\users\\gorba\\anaconda3\\lib\\site-packages (from holidays>=0.10.2->fbprophet) (2.1.1)\n",
      "Requirement already satisfied: ephem>=3.7.5.3 in c:\\users\\gorba\\anaconda3\\lib\\site-packages (from LunarCalendar>=0.0.9->fbprophet) (3.7.7.1)\n",
      "Requirement already satisfied: pyparsing!=2.0.4,!=2.1.2,!=2.1.6,>=2.0.3 in c:\\users\\gorba\\anaconda3\\lib\\site-packages (from matplotlib>=2.0.0->fbprophet) (2.4.7)\n",
      "Requirement already satisfied: cycler>=0.10 in c:\\users\\gorba\\anaconda3\\lib\\site-packages (from matplotlib>=2.0.0->fbprophet) (0.10.0)\n",
      "Requirement already satisfied: pillow>=6.2.0 in c:\\users\\gorba\\anaconda3\\lib\\site-packages (from matplotlib>=2.0.0->fbprophet) (8.2.0)\n",
      "Requirement already satisfied: kiwisolver>=1.0.1 in c:\\users\\gorba\\anaconda3\\lib\\site-packages (from matplotlib>=2.0.0->fbprophet) (1.3.1)\n",
      "Building wheels for collected packages: fbprophet\n",
      "  Building wheel for fbprophet (setup.py): started\n",
      "  Building wheel for fbprophet (setup.py): finished with status 'error'\n",
      "  Running setup.py clean for fbprophet\n",
      "Failed to build fbprophet\n",
      "Installing collected packages: fbprophet\n",
      "    Running setup.py install for fbprophet: started\n",
      "    Running setup.py install for fbprophet: finished with status 'error'\n"
     ]
    }
   ],
   "source": [
    "pip install fbprophet"
   ]
  },
  {
   "cell_type": "code",
   "execution_count": 6,
   "metadata": {},
   "outputs": [],
   "source": [
    "pd.set_option('display.max_rows', None)\n",
    "pd.set_option('display.max_colwidth', None)\n",
    "pd.set_option('display.max_columns', None)"
   ]
  },
  {
   "cell_type": "code",
   "execution_count": 7,
   "metadata": {},
   "outputs": [],
   "source": [
    "import os# C:\\Users\\gorba\\DataSciense\\datahack\n",
    "path = os.getcwd()"
   ]
  },
  {
   "cell_type": "code",
   "execution_count": 8,
   "metadata": {},
   "outputs": [],
   "source": [
    "directory_hist = path + \"\\\\track_2_package\"\n",
    "directory_extra = path + \"\\\\2_track_cp1\""
   ]
  },
  {
   "cell_type": "code",
   "execution_count": 9,
   "metadata": {},
   "outputs": [],
   "source": [
    "# directory_hist = '/home/common/emergency_datahack/data_processed/track_2/track_2_package/'\n",
    "# directory_extra = '/home/common/emergency_datahack/data_processed/track_2/checkpoints/cp4/'"
   ]
  },
  {
   "cell_type": "markdown",
   "metadata": {},
   "source": [
    "### 1. Загрузка данных<a class=\"anchor\" id=\"1-bullet\"></a>\n",
    "[назад к оглавлению](#0-bullet)"
   ]
  },
  {
   "cell_type": "markdown",
   "metadata": {},
   "source": [
    "В нашем распоряжении есть следующие данные:\n",
    "\n",
    "**Исторические:**\n",
    "- train.csv — ежедневные наблюдения на гидропостах;\n",
    "- meteo_3hours.csv — наблюдения на метеостанциях через каждые 3 часа;\n",
    "- meteo_1day.csv — ежедневные наблюдения на метеостанциях;\n",
    "- meteo_1month.csv — значения метеопараметров за месяц;\n",
    "- hydro_coord.csv — географическая привязка гидропостов;\n",
    "- meteo_coord.csv — географические координаты метеостанций;\n",
    "- reference_water_codes.csv — коды режимных групп с расшифровкой и группировкой;\n",
    "- reference_horiz_visib.csv — коды дальности горизонтальной видимости с расшифровкой;\n",
    "- ice_saw.csv — мероприятия по ослаблению прочности льда.\n",
    "\n",
    "**Дополнительные исторические (в каждой дополнительной выдаче):**\n",
    "- extra_train.csv\n",
    "- extra_meteo_3hours.csv\n",
    "- extra_meteo_1day.csv\n",
    "- extra_meteo_1month.csv\n",
    "\n",
    "**Для тестового периода (в каждой дополнительной выдаче):**\n",
    "- test.csv\n",
    "- forecast_meteo_3hours.csv"
   ]
  },
  {
   "cell_type": "code",
   "execution_count": 10,
   "metadata": {},
   "outputs": [],
   "source": [
    "# выгрузим в DTYPES названия полей и соответствующие им типы данных\n",
    "\n",
    "with open('dtypes.json', 'r') as f:\n",
    "    DTYPES = json.load(f)"
   ]
  },
  {
   "cell_type": "code",
   "execution_count": 11,
   "metadata": {},
   "outputs": [
    {
     "data": {
      "text/plain": [
       "{'train': {'station_id': 'Int64',\n",
       "  'date': 'string',\n",
       "  'stage_avg': 'Int64',\n",
       "  'stage_min': 'Int64',\n",
       "  'stage_max': 'Int64',\n",
       "  'temp': 'Float64',\n",
       "  'water_code': 'string',\n",
       "  'ice_thickness': 'Int64',\n",
       "  'snow_height': 'Int64',\n",
       "  'place': 'string',\n",
       "  'discharge': 'Float64',\n",
       "  'year': 'Int64',\n",
       "  'month': 'Int64',\n",
       "  'day': 'Int64',\n",
       "  'delta_stage_max': 'Int64'},\n",
       " 'meteo_3hours': {'station_id': 'Int64',\n",
       "  'year_GMT': 'Int64',\n",
       "  'month_GMT': 'Int64',\n",
       "  'day_GMT': 'Int64',\n",
       "  'synop_hour_GMT': 'Int64',\n",
       "  'year_local': 'Int64',\n",
       "  'month_local': 'Int64',\n",
       "  'day_local': 'Int64',\n",
       "  'synop_hour_local': 'Int64',\n",
       "  'synop_hour_order_PDZV': 'Int64',\n",
       "  'time_local': 'Int64',\n",
       "  'timezone': 'Int64',\n",
       "  'meteo_day_start_PDZV': 'Int64',\n",
       "  'source_index': 'Int64',\n",
       "  'horizontal_visibility': 'Int64',\n",
       "  'horizontal_visibility_qual': 'Int64',\n",
       "  'horizontal_visibility_qual_1': 'Int64',\n",
       "  'cloud_amount_total': 'Int64',\n",
       "  'cloud_amount_total_qual': 'Int64',\n",
       "  'cloud_amount_low_level': 'Int64',\n",
       "  'cloud_amount_low_level_qual': 'Int64',\n",
       "  'cloud_form_high_level': 'Int64',\n",
       "  'cloud_form_high_level_qual': 'Int64',\n",
       "  'cloud_form_middle_level': 'Int64',\n",
       "  'cloud_form_middle_level_qual': 'Int64',\n",
       "  'cloud_form_vertical_develop': 'Int64',\n",
       "  'cloud_form_vertical_develop_qual': 'Int64',\n",
       "  'cloud_form_strat_stratocum': 'Int64',\n",
       "  'cloud_form_strat_stratocum_qual': 'Int64',\n",
       "  'cloud_form_strat_rain': 'Int64',\n",
       "  'cloud_form_strat_rain_qual': 'Int64',\n",
       "  'cloud_base_altitude': 'Int64',\n",
       "  'cloud_base_altitude_qual': 'Int64',\n",
       "  'cloud_base_altitude_qual_1': 'Int64',\n",
       "  'cloud_below_station': 'Int64',\n",
       "  'cloud_below_station_qual': 'Int64',\n",
       "  'soil_surface_condition': 'Int64',\n",
       "  'soil_surface_condition_qual': 'Int64',\n",
       "  'weather_before': 'Int64',\n",
       "  'weather_before_qual': 'Int64',\n",
       "  'weather': 'Int64',\n",
       "  'weather_qual': 'Int64',\n",
       "  'wind_direction': 'Int64',\n",
       "  'wind_direction_qual': 'Int64',\n",
       "  'wind_speed_aver': 'Int64',\n",
       "  'wind_speed_aver_qual': 'Int64',\n",
       "  'wind_speed_aver_qual_1': 'Int64',\n",
       "  'wind_speed_max': 'Int64',\n",
       "  'wind_speed_max_qual': 'Int64',\n",
       "  'wind_speed_max_qual_1': 'Int64',\n",
       "  'precipitation': 'Float64',\n",
       "  'precipitation_qual': 'Int64',\n",
       "  'soil_surface_temperature': 'Float64',\n",
       "  'soil_surface_temperature_qual': 'Int64',\n",
       "  'soil_surface_alco_temperature': 'Float64',\n",
       "  'soil_surface_alco_temperature_qual': 'Int64',\n",
       "  'soil_surface_temperature_min_before': 'Float64',\n",
       "  'soil_surface_temperature_min_before_qual': 'Int64',\n",
       "  'soil_surface_temperature_max_before': 'Float64',\n",
       "  'soil_surface_temperature_max_before_qual': 'Int64',\n",
       "  'soil_surface_max_temperature': 'Float64',\n",
       "  'soil_surface_max_temperature_qual': 'Int64',\n",
       "  'air_temperature': 'Float64',\n",
       "  'air_temperature_qual': 'Int64',\n",
       "  'air_temperature_wet_bulb': 'Float64',\n",
       "  'air_temperature_wet_bulb_qual': 'Int64',\n",
       "  'air_temperature_wet_bulb_qual_1': 'Int64',\n",
       "  'air_temperature_min_alco_temperature': 'Float64',\n",
       "  'air_temperature_min_alco_temperature_qual': 'Int64',\n",
       "  'air_temperature_min_before': 'Float64',\n",
       "  'air_temperature_min_before_qual': 'Int64',\n",
       "  'air_temperature_max_before': 'Float64',\n",
       "  'air_temperature_max_before_qual': 'Int64',\n",
       "  'air_max_temperature': 'Float64',\n",
       "  'air_max_temperature_qual': 'Int64',\n",
       "  'water_vapour_partial_pressure': 'Float64',\n",
       "  'water_vapour_partial_pressure_qual': 'Int64',\n",
       "  'water_vapour_partial_pressure_qual_1': 'Int64',\n",
       "  'relative_humidity': 'Int64',\n",
       "  'relative_humidity_qual': 'Int64',\n",
       "  'vapour_pressure_deficit': 'Float64',\n",
       "  'vapour_pressure_deficit_qual': 'Int64',\n",
       "  'vapour_pressure_deficit_qual_1': 'Int64',\n",
       "  'dew_point_temperature': 'Float64',\n",
       "  'dew_point_temperature_qual': 'Int64',\n",
       "  'pressure': 'Float64',\n",
       "  'pressure_qual': 'Int64',\n",
       "  'pressure_sea_level': 'Float64',\n",
       "  'pressure_sea_level_qual': 'Int64',\n",
       "  'barometric_tendency_characteristic': 'Int64',\n",
       "  'barometric_tendency_characteristic_qual': 'Int64',\n",
       "  'barometric_tendency': 'Float64',\n",
       "  'barometric_tendency_qual': 'Int64',\n",
       "  'date_local': 'string'},\n",
       " 'meteo_1day': {'station_id': 'Int64',\n",
       "  'year': 'Int64',\n",
       "  'month': 'Int64',\n",
       "  'day': 'Int64',\n",
       "  'route_type': 'Int64',\n",
       "  'snow_coverage_near_station': 'Int64',\n",
       "  'snow_coverage_route': 'Int64',\n",
       "  'ice_crust_route': 'Int64',\n",
       "  'snow_height_aver': 'Int64',\n",
       "  'snow_height_max': 'Int64',\n",
       "  'snow_height_min': 'Int64',\n",
       "  'snow_density_aver': 'Float64',\n",
       "  'ice_crust_aver': 'Int64',\n",
       "  'snow_saturated_thickness': 'Int64',\n",
       "  'water_thickness': 'Int64',\n",
       "  'water_in_snow': 'Int64',\n",
       "  'water_total': 'Int64',\n",
       "  'snow_coverage_charact': 'Int64',\n",
       "  'snow_charact': 'Int64',\n",
       "  'snow_height': 'Int64',\n",
       "  'snow_coverage_station': 'Int64',\n",
       "  'snow_height_q1': 'Int64',\n",
       "  'snow_height_q2': 'Int64',\n",
       "  'snow_height_q3': 'Int64',\n",
       "  'temperature_20cm': 'Int64',\n",
       "  'temperature_20cm_qual': 'Int64',\n",
       "  'temperature_40cm': 'Int64',\n",
       "  'temperature_40cm_qual': 'Int64',\n",
       "  'temperature_80cm': 'Int64',\n",
       "  'temperature_80cm_qual': 'Int64',\n",
       "  'temperature_120cm': 'Int64',\n",
       "  'temperature_120cm_qual': 'Int64',\n",
       "  'temperature_160cm': 'Int64',\n",
       "  'temperature_160cm_qual': 'Int64',\n",
       "  'temperature_240cm': 'Int64',\n",
       "  'temperature_240cm_qual': 'Int64',\n",
       "  'temperature_320cm': 'Int64',\n",
       "  'temperature_320cm_qual': 'Int64',\n",
       "  'temperature_ks_5cm': 'Int64',\n",
       "  'temperature_ks_5cm_qual': 'Int64',\n",
       "  'temperature_ks_10cm': 'Int64',\n",
       "  'temperature_ks_10cm_qual': 'Int64',\n",
       "  'temperature_ks_15cm': 'Int64',\n",
       "  'temperature_ks_15cm_qual': 'Int64',\n",
       "  'temperature_ks_20cm': 'Int64',\n",
       "  'temperature_ks_20cm_qual': 'Int64',\n",
       "  'date': 'string'},\n",
       " 'meteo_1month': {'station_id': 'Int64',\n",
       "  'year': 'Int64',\n",
       "  'month': 'Int64',\n",
       "  'data_qual': 'Int64',\n",
       "  'precipitation_observed': 'Float64',\n",
       "  'precipitation_corrected': 'Float64',\n",
       "  'precipitation_corrected_liquid': 'Float64',\n",
       "  'precipitation_corrected_mixed': 'Float64',\n",
       "  'precipitation_corrected_solid': 'Float64',\n",
       "  'sunshine_hours': 'Int64',\n",
       "  'date': 'string',\n",
       "  'day': 'Int64'},\n",
       " 'hydro_coord': {'station_id': 'Int64',\n",
       "  'name': 'string',\n",
       "  'lat': 'Float64',\n",
       "  'lon': 'Float64',\n",
       "  'distance_from_source': 'Float64',\n",
       "  'drainage_area': 'Int64',\n",
       "  'z_null': 'Float64'},\n",
       " 'meteo_coord': {'station_id': 'Int64',\n",
       "  'name': 'string',\n",
       "  'lat': 'Float64',\n",
       "  'lon': 'Float64',\n",
       "  'z': 'Int64'},\n",
       " 'ice_saw': {'date': 'string',\n",
       "  'place': 'string',\n",
       "  'name': 'string',\n",
       "  'lat': 'Float64',\n",
       "  'lon': 'Float64'},\n",
       " 'reference_water_codes': {'water_code': 'string',\n",
       "  'descr': 'string',\n",
       "  'group': 'string',\n",
       "  'phase': 'string'},\n",
       " 'reference_horiz_visib': {'code': 'Int64', 'km': 'string'},\n",
       " 'test': {'year': 'Int64',\n",
       "  'station_id': 'Int64',\n",
       "  'month': 'Int64',\n",
       "  'day': 'Int64',\n",
       "  'date': 'string',\n",
       "  'delta_stage_max': 'Int64'}}"
      ]
     },
     "execution_count": 11,
     "metadata": {},
     "output_type": "execute_result"
    }
   ],
   "source": [
    "DTYPES"
   ]
  },
  {
   "cell_type": "code",
   "execution_count": 12,
   "metadata": {},
   "outputs": [],
   "source": [
    "custom_date_parser = lambda x: pd.to_datetime(x, format='%Y-%m-%d')\n",
    "\n",
    "train_hist = pd.read_csv(directory_hist + '\\\\train.csv',\n",
    "                         dtype=DTYPES['train'],\n",
    "                         parse_dates=['date'], date_parser=custom_date_parser)"
   ]
  },
  {
   "cell_type": "code",
   "execution_count": 13,
   "metadata": {},
   "outputs": [],
   "source": [
    "# исторические данные\n",
    "\n",
    "custom_date_parser = lambda x: pd.to_datetime(x, format='%Y-%m-%d')\n",
    "\n",
    "train_hist = pd.read_csv(directory_hist + '\\\\train.csv',\n",
    "                         dtype=DTYPES['train'],\n",
    "                         parse_dates=['date'], date_parser=custom_date_parser)\n",
    "\n",
    "# meteo_3hours_hist = pd.read_csv(directory_hist + '\\\\meteo_3hours.csv',\n",
    "#                                 dtype=DTYPES['meteo_3hours'],\n",
    "#                                 parse_dates=['date_local'], date_parser=custom_date_parser)\n",
    "\n",
    "meteo_1day_hist = pd.read_csv(directory_hist + '\\\\meteo_1day.csv',\n",
    "                              dtype=DTYPES['meteo_1day'],\n",
    "                              parse_dates=['date'], date_parser=custom_date_parser)\n",
    "\n",
    "meteo_1month_hist = pd.read_csv(directory_hist + '\\\\meteo_1month.csv',\n",
    "                                dtype=DTYPES['meteo_1month'],\n",
    "                                parse_dates=['date'], date_parser=custom_date_parser)\n",
    "\n",
    "hydro_coord = pd.read_csv(directory_hist + '\\\\hydro_coord.csv', dtype=DTYPES['hydro_coord'])\n",
    "meteo_coord = pd.read_csv(directory_hist + '\\\\meteo_coord.csv', dtype=DTYPES['meteo_coord'])\n",
    "\n",
    "reference_water_codes = pd.read_csv(directory_hist + '\\\\reference_water_codes.csv', dtype=DTYPES['reference_water_codes'])\n",
    "reference_horiz_visib = pd.read_csv(directory_hist + '\\\\reference_horiz_visib.csv', dtype=DTYPES['reference_horiz_visib'])\n",
    "\n",
    "ice_saw = pd.read_csv(directory_hist + '\\\\ice_saw.csv',\n",
    "                      dtype=DTYPES['ice_saw'],\n",
    "                      parse_dates=['date'], date_parser=custom_date_parser)"
   ]
  },
  {
   "cell_type": "code",
   "execution_count": 24,
   "metadata": {
    "scrolled": true
   },
   "outputs": [],
   "source": [
    "# дополнительные исторические данные\n",
    "\n",
    "extra_train = pd.read_csv(directory_extra + '\\\\extra_train.csv',\n",
    "                          dtype=DTYPES['train'],\n",
    "                          parse_dates=['date'], date_parser=custom_date_parser)\n",
    "\n",
    "extra_meteo_3hours = pd.read_csv(directory_extra + '\\\\extra_meteo_3hours.csv',\n",
    "                                 dtype=DTYPES['meteo_3hours'],\n",
    "                                 parse_dates=['date_local'], date_parser=custom_date_parser)\n",
    "\n",
    "extra_meteo_1day = pd.read_csv(directory_extra + '\\\\extra_meteo_1day.csv',\n",
    "                               dtype=DTYPES['meteo_1day'],\n",
    "                               parse_dates=['date'], date_parser=custom_date_parser)\n",
    "\n",
    "extra_meteo_1month = pd.read_csv(directory_extra + '\\\\extra_meteo_1month.csv',\n",
    "                                 dtype=DTYPES['meteo_1month'],\n",
    "                                 parse_dates=['date'], date_parser=custom_date_parser)"
   ]
  },
  {
   "cell_type": "code",
   "execution_count": 25,
   "metadata": {
    "scrolled": true
   },
   "outputs": [],
   "source": [
    "# данные на тестовый период\n",
    "\n",
    "test = pd.read_csv(directory_extra + '\\\\test.csv',\n",
    "                   dtype=DTYPES['test'],\n",
    "                   parse_dates=['date'], date_parser=custom_date_parser)\n",
    "\n",
    "forecast_meteo_3hours = pd.read_csv(directory_extra + '\\\\forecast_meteo_3hours.csv',\n",
    "                                    dtype=DTYPES['meteo_3hours'],\n",
    "                                    parse_dates=['date_local'], date_parser=custom_date_parser)"
   ]
  },
  {
   "cell_type": "code",
   "execution_count": null,
   "metadata": {},
   "outputs": [],
   "source": [
    "train_hist"
   ]
  },
  {
   "cell_type": "markdown",
   "metadata": {},
   "source": [
    "<div class=\"alert alert-block alert-warning\">\n",
    "Сейчас в датафреймах пропуски имеют значение pd.NA. Внимание, поведения pd.NA и np.NaN различаются! \n",
    "</div>"
   ]
  },
  {
   "cell_type": "code",
   "execution_count": 30,
   "metadata": {},
   "outputs": [],
   "source": [
    "# объединим исторические и дополнительные данные\n",
    "\n",
    "train = pd.concat([train_hist, extra_train])\n",
    "# meteo_3hours = pd.concat([meteo_3hours_hist, extra_meteo_3hours])\n",
    "meteo_1day = pd.concat([meteo_1day_hist, extra_meteo_1day])\n",
    "meteo_1month = pd.concat([meteo_1month_hist, extra_meteo_1month])"
   ]
  },
  {
   "cell_type": "markdown",
   "metadata": {},
   "source": [
    "### 2. Преобразование гидрологических данных<a class=\"anchor\" id=\"2-bullet\"></a>\n",
    "[назад к оглавлению](#0-bullet)"
   ]
  },
  {
   "cell_type": "code",
   "execution_count": 31,
   "metadata": {
    "scrolled": true
   },
   "outputs": [],
   "source": [
    "# преобразуем water_code в список кодов режимных групп\n",
    "\n",
    "def water_code_to_list(water_code):\n",
    "    if isinstance(water_code, str):\n",
    "        list_ = water_code.split(',')\n",
    "        list_ = [i.strip() for i in list_ if i != '']\n",
    "    else:\n",
    "        list_ = []\n",
    "    return list_\n",
    "\n",
    "\n",
    "train['water_code'] = train['water_code'].apply(water_code_to_list)"
   ]
  },
  {
   "cell_type": "code",
   "execution_count": 32,
   "metadata": {
    "scrolled": true
   },
   "outputs": [],
   "source": [
    "# перейдем от списка режимных групп к dummy-переменным\n",
    "\n",
    "values = list(train['water_code'].values)\n",
    "lengths = [len(x) for x in values]\n",
    "\n",
    "codes, uniques = pd.factorize(np.concatenate(values))\n",
    "uniques = ['water_code_' + i for i in uniques]\n",
    "\n",
    "n_rows, n_cols = len(values), len(uniques)\n",
    "\n",
    "i = np.arange(n_rows).repeat(lengths)\n",
    "\n",
    "dummies = pd.DataFrame(\n",
    "    np.bincount(i * n_cols + codes, minlength=n_rows * n_cols).reshape(n_rows, n_cols),\n",
    "    train.index, uniques\n",
    ")\n",
    "\n",
    "# код не имеет расшифровки в кодбуке — дропнем\n",
    "dummies.drop(columns=['water_code_0'], inplace=True)\n",
    "\n",
    "train = train.drop(columns='water_code').join(dummies)"
   ]
  },
  {
   "cell_type": "code",
   "execution_count": 33,
   "metadata": {},
   "outputs": [
    {
     "data": {
      "text/plain": [
       "Index(['station_id', 'date', 'stage_avg', 'stage_min', 'stage_max', 'temp',\n",
       "       'ice_thickness', 'snow_height', 'place', 'discharge', 'year', 'month',\n",
       "       'day', 'delta_stage_max', 'water_code_16', 'water_code_23',\n",
       "       'water_code_28', 'water_code_15', 'water_code_26', 'water_code_25',\n",
       "       'water_code_9', 'water_code_29', 'water_code_1', 'water_code_4',\n",
       "       'water_code_5', 'water_code_2', 'water_code_11', 'water_code_27',\n",
       "       'water_code_8', 'water_code_46', 'water_code_18', 'water_code_47',\n",
       "       'water_code_22', 'water_code_17', 'water_code_14', 'water_code_34',\n",
       "       'water_code_12', 'water_code_3', 'water_code_42', 'water_code_60',\n",
       "       'water_code_21', 'water_code_24', 'water_code_51', 'water_code_49',\n",
       "       'water_code_48', 'water_code_10', 'water_code_6', 'water_code_41',\n",
       "       'water_code_39', 'water_code_7', 'water_code_50', 'water_code_38',\n",
       "       'water_code_13', 'water_code_36'],\n",
       "      dtype='object')"
      ]
     },
     "execution_count": 33,
     "metadata": {},
     "output_type": "execute_result"
    }
   ],
   "source": [
    "train.columns"
   ]
  },
  {
   "cell_type": "markdown",
   "metadata": {},
   "source": [
    "### 3. Преобразование метеорологических данных<a class=\"anchor\" id=\"3-bullet\"></a>\n",
    "[назад к оглавлению](#0-bullet)"
   ]
  },
  {
   "cell_type": "code",
   "execution_count": 34,
   "metadata": {},
   "outputs": [],
   "source": [
    "# коды горизонтальной дальности видимости для мэппинга\n",
    "\n",
    "map_horiz_visib = {}\n",
    "\n",
    "for record in reference_horiz_visib.to_dict('records'):\n",
    "    code = record['code']\n",
    "    km = record['km']\n",
    "    map_horiz_visib[code] = km\n",
    "\n",
    "# внесем изменения в расшифровку кодов, чтобы в значениях получить только float\n",
    "\n",
    "for key, value in map_horiz_visib.items():\n",
    "    if value == '< 0.05':\n",
    "        new_value = 0.025\n",
    "    elif value == '< 0.1':\n",
    "        new_value = 0.05\n",
    "    elif value == '> 50':\n",
    "        new_value = 75\n",
    "    elif value == '> 70':\n",
    "        new_value = 105\n",
    "    else:\n",
    "        new_value = float(value)\n",
    "    map_horiz_visib[key] = new_value"
   ]
  },
  {
   "cell_type": "code",
   "execution_count": 35,
   "metadata": {},
   "outputs": [],
   "source": [
    "def transform_meteo_3hours(df):\n",
    "    df['horizontal_visibility'] = df['horizontal_visibility'].map(map_horiz_visib)"
   ]
  },
  {
   "cell_type": "code",
   "execution_count": 14,
   "metadata": {},
   "outputs": [],
   "source": [
    "transform_meteo_3hours(meteo_3hours)"
   ]
  },
  {
   "cell_type": "code",
   "execution_count": 36,
   "metadata": {},
   "outputs": [],
   "source": [
    "# константы отсутсвтия заменим на pd.NA\n",
    "\n",
    "for col in ['snow_height',\n",
    "            'temperature_20cm',\n",
    "            'temperature_40cm',\n",
    "            'temperature_80cm',\n",
    "            'temperature_120cm',\n",
    "            'temperature_160cm',\n",
    "            'temperature_240cm',\n",
    "            'temperature_320cm',\n",
    "            'temperature_ks_5cm',\n",
    "            'temperature_ks_10cm',\n",
    "            'temperature_ks_15cm',\n",
    "            'temperature_ks_20cm']:\n",
    "    meteo_1day[col] = meteo_1day[col].replace(9999, pd.NA)"
   ]
  },
  {
   "cell_type": "markdown",
   "metadata": {
    "tags": []
   },
   "source": [
    "### 4. Приведение метеоданных к единой временной детализации<a class=\"anchor\" id=\"4-bullet\"></a>\n",
    "[назад к оглавлению](#0-bullet)"
   ]
  },
  {
   "cell_type": "markdown",
   "metadata": {},
   "source": [
    "В задаче требуется построить предиктивную модель, которая будет предсказывать *суточное* изменение максимального уровня воды. Поэтому убедимся, что все данные приведены к детализации до суток.\n",
    "\n",
    "Для этого сагрегируем восьмисрочные наблюдения (вид агрегации — усреднение, суммирование и пр. — будут зависеть от смыслового содержания признака), а затем объединим агрегированные восьмисрочные, суточные и месячные данные. Поскольку в meteo_1month хранятся суммы метеопараметров за месяц, можно было бы дню приписать значение суммы, деленное на число дней в месяце. Однако, для матмоделирования это, скорее всего, непринципиально, поэтому преобразовывать месячные данные не будем."
   ]
  },
  {
   "cell_type": "code",
   "execution_count": 37,
   "metadata": {},
   "outputs": [],
   "source": [
    "# распределим признаки по спискам в зависимости от типа агрегации;\n",
    "# на данном этапе не будем использовать коды качества признаков\n",
    "\n",
    "to_group_by = [\n",
    "    'station_id',\n",
    "    'date_local'\n",
    "]\n",
    "\n",
    "to_average = [\n",
    "    'horizontal_visibility',\n",
    "    'cloud_amount_total',\n",
    "    'cloud_base_altitude',\n",
    "    'wind_direction',\n",
    "    'wind_speed_aver',\n",
    "    'soil_surface_temperature',\n",
    "    'air_temperature',\n",
    "    'air_temperature_wet_bulb',\n",
    "    'water_vapour_partial_pressure',\n",
    "    'relative_humidity',\n",
    "    'vapour_pressure_deficit',\n",
    "    'dew_point_temperature',\n",
    "    'pressure',\n",
    "    'pressure_sea_level',\n",
    "    'barometric_tendency'\n",
    "]\n",
    "\n",
    "to_min = [\n",
    "    'soil_surface_alco_temperature',\n",
    "    'soil_surface_temperature_min_before',\n",
    "    'air_temperature_min_alco_temperature',\n",
    "    'air_temperature_min_before'\n",
    "]\n",
    "\n",
    "to_max = [\n",
    "    'wind_speed_max',\n",
    "    'soil_surface_temperature_max_before',\n",
    "    'soil_surface_max_temperature',\n",
    "    'air_temperature_max_before',\n",
    "    'air_max_temperature'\n",
    "]\n",
    "\n",
    "to_most_frequent = [\n",
    "    'cloud_form_high_level',\n",
    "    'cloud_form_middle_level',\n",
    "    'cloud_form_vertical_develop',\n",
    "    'cloud_form_strat_stratocum',\n",
    "    'cloud_form_strat_rain',\n",
    "    'cloud_below_station',\n",
    "    'soil_surface_condition',\n",
    "    'weather_before',\n",
    "    'weather',\n",
    "    'air_temperature_wet_bulb_qual_1',\n",
    "    'barometric_tendency_characteristic'\n",
    "]\n",
    "\n",
    "to_sum = ['precipitation']"
   ]
  },
  {
   "cell_type": "code",
   "execution_count": 38,
   "metadata": {},
   "outputs": [],
   "source": [
    "# соответствие полей и применяемых к ним функций\n",
    "\n",
    "fun_by_columns = {}\n",
    "\n",
    "for col in to_average:\n",
    "    fun_by_columns[col] = 'mean'\n",
    "\n",
    "for col in to_min:\n",
    "    fun_by_columns[col] = 'min'\n",
    "\n",
    "for col in to_max:\n",
    "    fun_by_columns[col] = 'max'\n",
    "\n",
    "for col in to_most_frequent:\n",
    "    fun_by_columns[col] = lambda x: pd.Series.mode(x, dropna=False).values[0]\n",
    "\n",
    "for col in to_sum:\n",
    "    fun_by_columns[col] = 'sum'"
   ]
  },
  {
   "cell_type": "code",
   "execution_count": 39,
   "metadata": {},
   "outputs": [],
   "source": [
    "def aggregate_meteo_3hours(df):\n",
    "    df_3hours_agg = df.groupby(to_group_by, as_index=False).agg(fun_by_columns)\n",
    "    df_3hours_agg.rename(columns={'date_local': 'date'}, inplace=True)\n",
    "    return df_3hours_agg\n",
    "\n",
    "\n",
    "def join_by_day(df_3hours_agg, df_1day, df_1month):\n",
    "    df_joined = pd.merge(df_3hours_agg, df_1day,\n",
    "                         on=['station_id', 'date'],\n",
    "                         how='outer')\n",
    "    \n",
    "    cols = list(df_1month.columns)\n",
    "    cols.remove('data_qual')\n",
    "    cols.remove('day')\n",
    "    \n",
    "    df_joined = pd.merge(df_joined, df_1month[cols],\n",
    "                         on=['station_id', 'date'],\n",
    "                         how='outer')\n",
    "    \n",
    "    return df_joined"
   ]
  },
  {
   "cell_type": "code",
   "execution_count": 19,
   "metadata": {},
   "outputs": [],
   "source": [
    "# %%time\n",
    "\n",
    "# # на 15 минут\n",
    "\n",
    "# aggregated_meteo_3hours = aggregate_meteo_3hours(meteo_3hours)\n",
    "# joined_meteo = join_by_day(aggregated_meteo_3hours, meteo_1day, meteo_1month)"
   ]
  },
  {
   "cell_type": "code",
   "execution_count": 40,
   "metadata": {},
   "outputs": [
    {
     "ename": "FileNotFoundError",
     "evalue": "[Errno 2] No such file or directory: '/home/y.khabibullina/github/cpur/projects/emergency/joined_meteo.csv'",
     "output_type": "error",
     "traceback": [
      "\u001b[1;31m---------------------------------------------------------------------------\u001b[0m",
      "\u001b[1;31mFileNotFoundError\u001b[0m                         Traceback (most recent call last)",
      "\u001b[1;32m<ipython-input-40-c993db8386a1>\u001b[0m in \u001b[0;36m<module>\u001b[1;34m\u001b[0m\n\u001b[0;32m      1\u001b[0m \u001b[1;31m# joined_meteo.to_csv('joined_meteo.csv', index=False)\u001b[0m\u001b[1;33m\u001b[0m\u001b[1;33m\u001b[0m\u001b[1;33m\u001b[0m\u001b[0m\n\u001b[1;32m----> 2\u001b[1;33m joined_meteo = pd.read_csv('/home/y.khabibullina/github/cpur/projects/emergency/joined_meteo.csv',\n\u001b[0m\u001b[0;32m      3\u001b[0m                            parse_dates=['date'], date_parser=custom_date_parser)\n",
      "\u001b[1;32m~\\anaconda3\\lib\\site-packages\\pandas\\io\\parsers.py\u001b[0m in \u001b[0;36mread_csv\u001b[1;34m(filepath_or_buffer, sep, delimiter, header, names, index_col, usecols, squeeze, prefix, mangle_dupe_cols, dtype, engine, converters, true_values, false_values, skipinitialspace, skiprows, skipfooter, nrows, na_values, keep_default_na, na_filter, verbose, skip_blank_lines, parse_dates, infer_datetime_format, keep_date_col, date_parser, dayfirst, cache_dates, iterator, chunksize, compression, thousands, decimal, lineterminator, quotechar, quoting, doublequote, escapechar, comment, encoding, dialect, error_bad_lines, warn_bad_lines, delim_whitespace, low_memory, memory_map, float_precision, storage_options)\u001b[0m\n\u001b[0;32m    608\u001b[0m     \u001b[0mkwds\u001b[0m\u001b[1;33m.\u001b[0m\u001b[0mupdate\u001b[0m\u001b[1;33m(\u001b[0m\u001b[0mkwds_defaults\u001b[0m\u001b[1;33m)\u001b[0m\u001b[1;33m\u001b[0m\u001b[1;33m\u001b[0m\u001b[0m\n\u001b[0;32m    609\u001b[0m \u001b[1;33m\u001b[0m\u001b[0m\n\u001b[1;32m--> 610\u001b[1;33m     \u001b[1;32mreturn\u001b[0m \u001b[0m_read\u001b[0m\u001b[1;33m(\u001b[0m\u001b[0mfilepath_or_buffer\u001b[0m\u001b[1;33m,\u001b[0m \u001b[0mkwds\u001b[0m\u001b[1;33m)\u001b[0m\u001b[1;33m\u001b[0m\u001b[1;33m\u001b[0m\u001b[0m\n\u001b[0m\u001b[0;32m    611\u001b[0m \u001b[1;33m\u001b[0m\u001b[0m\n\u001b[0;32m    612\u001b[0m \u001b[1;33m\u001b[0m\u001b[0m\n",
      "\u001b[1;32m~\\anaconda3\\lib\\site-packages\\pandas\\io\\parsers.py\u001b[0m in \u001b[0;36m_read\u001b[1;34m(filepath_or_buffer, kwds)\u001b[0m\n\u001b[0;32m    460\u001b[0m \u001b[1;33m\u001b[0m\u001b[0m\n\u001b[0;32m    461\u001b[0m     \u001b[1;31m# Create the parser.\u001b[0m\u001b[1;33m\u001b[0m\u001b[1;33m\u001b[0m\u001b[1;33m\u001b[0m\u001b[0m\n\u001b[1;32m--> 462\u001b[1;33m     \u001b[0mparser\u001b[0m \u001b[1;33m=\u001b[0m \u001b[0mTextFileReader\u001b[0m\u001b[1;33m(\u001b[0m\u001b[0mfilepath_or_buffer\u001b[0m\u001b[1;33m,\u001b[0m \u001b[1;33m**\u001b[0m\u001b[0mkwds\u001b[0m\u001b[1;33m)\u001b[0m\u001b[1;33m\u001b[0m\u001b[1;33m\u001b[0m\u001b[0m\n\u001b[0m\u001b[0;32m    463\u001b[0m \u001b[1;33m\u001b[0m\u001b[0m\n\u001b[0;32m    464\u001b[0m     \u001b[1;32mif\u001b[0m \u001b[0mchunksize\u001b[0m \u001b[1;32mor\u001b[0m \u001b[0miterator\u001b[0m\u001b[1;33m:\u001b[0m\u001b[1;33m\u001b[0m\u001b[1;33m\u001b[0m\u001b[0m\n",
      "\u001b[1;32m~\\anaconda3\\lib\\site-packages\\pandas\\io\\parsers.py\u001b[0m in \u001b[0;36m__init__\u001b[1;34m(self, f, engine, **kwds)\u001b[0m\n\u001b[0;32m    817\u001b[0m             \u001b[0mself\u001b[0m\u001b[1;33m.\u001b[0m\u001b[0moptions\u001b[0m\u001b[1;33m[\u001b[0m\u001b[1;34m\"has_index_names\"\u001b[0m\u001b[1;33m]\u001b[0m \u001b[1;33m=\u001b[0m \u001b[0mkwds\u001b[0m\u001b[1;33m[\u001b[0m\u001b[1;34m\"has_index_names\"\u001b[0m\u001b[1;33m]\u001b[0m\u001b[1;33m\u001b[0m\u001b[1;33m\u001b[0m\u001b[0m\n\u001b[0;32m    818\u001b[0m \u001b[1;33m\u001b[0m\u001b[0m\n\u001b[1;32m--> 819\u001b[1;33m         \u001b[0mself\u001b[0m\u001b[1;33m.\u001b[0m\u001b[0m_engine\u001b[0m \u001b[1;33m=\u001b[0m \u001b[0mself\u001b[0m\u001b[1;33m.\u001b[0m\u001b[0m_make_engine\u001b[0m\u001b[1;33m(\u001b[0m\u001b[0mself\u001b[0m\u001b[1;33m.\u001b[0m\u001b[0mengine\u001b[0m\u001b[1;33m)\u001b[0m\u001b[1;33m\u001b[0m\u001b[1;33m\u001b[0m\u001b[0m\n\u001b[0m\u001b[0;32m    820\u001b[0m \u001b[1;33m\u001b[0m\u001b[0m\n\u001b[0;32m    821\u001b[0m     \u001b[1;32mdef\u001b[0m \u001b[0mclose\u001b[0m\u001b[1;33m(\u001b[0m\u001b[0mself\u001b[0m\u001b[1;33m)\u001b[0m\u001b[1;33m:\u001b[0m\u001b[1;33m\u001b[0m\u001b[1;33m\u001b[0m\u001b[0m\n",
      "\u001b[1;32m~\\anaconda3\\lib\\site-packages\\pandas\\io\\parsers.py\u001b[0m in \u001b[0;36m_make_engine\u001b[1;34m(self, engine)\u001b[0m\n\u001b[0;32m   1048\u001b[0m             )\n\u001b[0;32m   1049\u001b[0m         \u001b[1;31m# error: Too many arguments for \"ParserBase\"\u001b[0m\u001b[1;33m\u001b[0m\u001b[1;33m\u001b[0m\u001b[1;33m\u001b[0m\u001b[0m\n\u001b[1;32m-> 1050\u001b[1;33m         \u001b[1;32mreturn\u001b[0m \u001b[0mmapping\u001b[0m\u001b[1;33m[\u001b[0m\u001b[0mengine\u001b[0m\u001b[1;33m]\u001b[0m\u001b[1;33m(\u001b[0m\u001b[0mself\u001b[0m\u001b[1;33m.\u001b[0m\u001b[0mf\u001b[0m\u001b[1;33m,\u001b[0m \u001b[1;33m**\u001b[0m\u001b[0mself\u001b[0m\u001b[1;33m.\u001b[0m\u001b[0moptions\u001b[0m\u001b[1;33m)\u001b[0m  \u001b[1;31m# type: ignore[call-arg]\u001b[0m\u001b[1;33m\u001b[0m\u001b[1;33m\u001b[0m\u001b[0m\n\u001b[0m\u001b[0;32m   1051\u001b[0m \u001b[1;33m\u001b[0m\u001b[0m\n\u001b[0;32m   1052\u001b[0m     \u001b[1;32mdef\u001b[0m \u001b[0m_failover_to_python\u001b[0m\u001b[1;33m(\u001b[0m\u001b[0mself\u001b[0m\u001b[1;33m)\u001b[0m\u001b[1;33m:\u001b[0m\u001b[1;33m\u001b[0m\u001b[1;33m\u001b[0m\u001b[0m\n",
      "\u001b[1;32m~\\anaconda3\\lib\\site-packages\\pandas\\io\\parsers.py\u001b[0m in \u001b[0;36m__init__\u001b[1;34m(self, src, **kwds)\u001b[0m\n\u001b[0;32m   1865\u001b[0m \u001b[1;33m\u001b[0m\u001b[0m\n\u001b[0;32m   1866\u001b[0m         \u001b[1;31m# open handles\u001b[0m\u001b[1;33m\u001b[0m\u001b[1;33m\u001b[0m\u001b[1;33m\u001b[0m\u001b[0m\n\u001b[1;32m-> 1867\u001b[1;33m         \u001b[0mself\u001b[0m\u001b[1;33m.\u001b[0m\u001b[0m_open_handles\u001b[0m\u001b[1;33m(\u001b[0m\u001b[0msrc\u001b[0m\u001b[1;33m,\u001b[0m \u001b[0mkwds\u001b[0m\u001b[1;33m)\u001b[0m\u001b[1;33m\u001b[0m\u001b[1;33m\u001b[0m\u001b[0m\n\u001b[0m\u001b[0;32m   1868\u001b[0m         \u001b[1;32massert\u001b[0m \u001b[0mself\u001b[0m\u001b[1;33m.\u001b[0m\u001b[0mhandles\u001b[0m \u001b[1;32mis\u001b[0m \u001b[1;32mnot\u001b[0m \u001b[1;32mNone\u001b[0m\u001b[1;33m\u001b[0m\u001b[1;33m\u001b[0m\u001b[0m\n\u001b[0;32m   1869\u001b[0m         \u001b[1;32mfor\u001b[0m \u001b[0mkey\u001b[0m \u001b[1;32min\u001b[0m \u001b[1;33m(\u001b[0m\u001b[1;34m\"storage_options\"\u001b[0m\u001b[1;33m,\u001b[0m \u001b[1;34m\"encoding\"\u001b[0m\u001b[1;33m,\u001b[0m \u001b[1;34m\"memory_map\"\u001b[0m\u001b[1;33m,\u001b[0m \u001b[1;34m\"compression\"\u001b[0m\u001b[1;33m)\u001b[0m\u001b[1;33m:\u001b[0m\u001b[1;33m\u001b[0m\u001b[1;33m\u001b[0m\u001b[0m\n",
      "\u001b[1;32m~\\anaconda3\\lib\\site-packages\\pandas\\io\\parsers.py\u001b[0m in \u001b[0;36m_open_handles\u001b[1;34m(self, src, kwds)\u001b[0m\n\u001b[0;32m   1360\u001b[0m         \u001b[0mLet\u001b[0m \u001b[0mthe\u001b[0m \u001b[0mreaders\u001b[0m \u001b[0mopen\u001b[0m \u001b[0mIOHanldes\u001b[0m \u001b[0mafter\u001b[0m \u001b[0mthey\u001b[0m \u001b[0mare\u001b[0m \u001b[0mdone\u001b[0m \u001b[1;32mwith\u001b[0m \u001b[0mtheir\u001b[0m \u001b[0mpotential\u001b[0m \u001b[0mraises\u001b[0m\u001b[1;33m.\u001b[0m\u001b[1;33m\u001b[0m\u001b[1;33m\u001b[0m\u001b[0m\n\u001b[0;32m   1361\u001b[0m         \"\"\"\n\u001b[1;32m-> 1362\u001b[1;33m         self.handles = get_handle(\n\u001b[0m\u001b[0;32m   1363\u001b[0m             \u001b[0msrc\u001b[0m\u001b[1;33m,\u001b[0m\u001b[1;33m\u001b[0m\u001b[1;33m\u001b[0m\u001b[0m\n\u001b[0;32m   1364\u001b[0m             \u001b[1;34m\"r\"\u001b[0m\u001b[1;33m,\u001b[0m\u001b[1;33m\u001b[0m\u001b[1;33m\u001b[0m\u001b[0m\n",
      "\u001b[1;32m~\\anaconda3\\lib\\site-packages\\pandas\\io\\common.py\u001b[0m in \u001b[0;36mget_handle\u001b[1;34m(path_or_buf, mode, encoding, compression, memory_map, is_text, errors, storage_options)\u001b[0m\n\u001b[0;32m    640\u001b[0m                 \u001b[0merrors\u001b[0m \u001b[1;33m=\u001b[0m \u001b[1;34m\"replace\"\u001b[0m\u001b[1;33m\u001b[0m\u001b[1;33m\u001b[0m\u001b[0m\n\u001b[0;32m    641\u001b[0m             \u001b[1;31m# Encoding\u001b[0m\u001b[1;33m\u001b[0m\u001b[1;33m\u001b[0m\u001b[1;33m\u001b[0m\u001b[0m\n\u001b[1;32m--> 642\u001b[1;33m             handle = open(\n\u001b[0m\u001b[0;32m    643\u001b[0m                 \u001b[0mhandle\u001b[0m\u001b[1;33m,\u001b[0m\u001b[1;33m\u001b[0m\u001b[1;33m\u001b[0m\u001b[0m\n\u001b[0;32m    644\u001b[0m                 \u001b[0mioargs\u001b[0m\u001b[1;33m.\u001b[0m\u001b[0mmode\u001b[0m\u001b[1;33m,\u001b[0m\u001b[1;33m\u001b[0m\u001b[1;33m\u001b[0m\u001b[0m\n",
      "\u001b[1;31mFileNotFoundError\u001b[0m: [Errno 2] No such file or directory: '/home/y.khabibullina/github/cpur/projects/emergency/joined_meteo.csv'"
     ]
    }
   ],
   "source": [
    "# joined_meteo.to_csv('joined_meteo.csv', index=False)\n",
    "joined_meteo = pd.read_csv('/home/y.khabibullina/github/cpur/projects/emergency/joined_meteo.csv',\n",
    "                           parse_dates=['date'], date_parser=custom_date_parser)"
   ]
  },
  {
   "cell_type": "code",
   "execution_count": 21,
   "metadata": {},
   "outputs": [
    {
     "data": {
      "text/html": [
       "<div>\n",
       "<style scoped>\n",
       "    .dataframe tbody tr th:only-of-type {\n",
       "        vertical-align: middle;\n",
       "    }\n",
       "\n",
       "    .dataframe tbody tr th {\n",
       "        vertical-align: top;\n",
       "    }\n",
       "\n",
       "    .dataframe thead th {\n",
       "        text-align: right;\n",
       "    }\n",
       "</style>\n",
       "<table border=\"1\" class=\"dataframe\">\n",
       "  <thead>\n",
       "    <tr style=\"text-align: right;\">\n",
       "      <th></th>\n",
       "      <th>station_id</th>\n",
       "      <th>date</th>\n",
       "      <th>horizontal_visibility</th>\n",
       "      <th>cloud_amount_total</th>\n",
       "      <th>cloud_base_altitude</th>\n",
       "      <th>wind_direction</th>\n",
       "      <th>wind_speed_aver</th>\n",
       "      <th>soil_surface_temperature</th>\n",
       "      <th>air_temperature</th>\n",
       "      <th>air_temperature_wet_bulb</th>\n",
       "      <th>water_vapour_partial_pressure</th>\n",
       "      <th>relative_humidity</th>\n",
       "      <th>vapour_pressure_deficit</th>\n",
       "      <th>dew_point_temperature</th>\n",
       "      <th>pressure</th>\n",
       "      <th>pressure_sea_level</th>\n",
       "      <th>barometric_tendency</th>\n",
       "      <th>soil_surface_alco_temperature</th>\n",
       "      <th>soil_surface_temperature_min_before</th>\n",
       "      <th>air_temperature_min_alco_temperature</th>\n",
       "      <th>air_temperature_min_before</th>\n",
       "      <th>wind_speed_max</th>\n",
       "      <th>soil_surface_temperature_max_before</th>\n",
       "      <th>soil_surface_max_temperature</th>\n",
       "      <th>air_temperature_max_before</th>\n",
       "      <th>air_max_temperature</th>\n",
       "      <th>cloud_form_high_level</th>\n",
       "      <th>cloud_form_middle_level</th>\n",
       "      <th>cloud_form_vertical_develop</th>\n",
       "      <th>cloud_form_strat_stratocum</th>\n",
       "      <th>cloud_form_strat_rain</th>\n",
       "      <th>cloud_below_station</th>\n",
       "      <th>soil_surface_condition</th>\n",
       "      <th>weather_before</th>\n",
       "      <th>weather</th>\n",
       "      <th>air_temperature_wet_bulb_qual_1</th>\n",
       "      <th>barometric_tendency_characteristic</th>\n",
       "      <th>precipitation</th>\n",
       "      <th>year_x</th>\n",
       "      <th>month_x</th>\n",
       "      <th>day</th>\n",
       "      <th>route_type</th>\n",
       "      <th>snow_coverage_near_station</th>\n",
       "      <th>snow_coverage_route</th>\n",
       "      <th>ice_crust_route</th>\n",
       "      <th>snow_height_aver</th>\n",
       "      <th>snow_height_max</th>\n",
       "      <th>snow_height_min</th>\n",
       "      <th>snow_density_aver</th>\n",
       "      <th>ice_crust_aver</th>\n",
       "      <th>snow_saturated_thickness</th>\n",
       "      <th>water_thickness</th>\n",
       "      <th>water_in_snow</th>\n",
       "      <th>water_total</th>\n",
       "      <th>snow_coverage_charact</th>\n",
       "      <th>snow_charact</th>\n",
       "      <th>snow_height</th>\n",
       "      <th>snow_coverage_station</th>\n",
       "      <th>snow_height_q1</th>\n",
       "      <th>snow_height_q2</th>\n",
       "      <th>snow_height_q3</th>\n",
       "      <th>temperature_20cm</th>\n",
       "      <th>temperature_20cm_qual</th>\n",
       "      <th>temperature_40cm</th>\n",
       "      <th>temperature_40cm_qual</th>\n",
       "      <th>temperature_80cm</th>\n",
       "      <th>temperature_80cm_qual</th>\n",
       "      <th>temperature_120cm</th>\n",
       "      <th>temperature_120cm_qual</th>\n",
       "      <th>temperature_160cm</th>\n",
       "      <th>temperature_160cm_qual</th>\n",
       "      <th>temperature_240cm</th>\n",
       "      <th>temperature_240cm_qual</th>\n",
       "      <th>temperature_320cm</th>\n",
       "      <th>temperature_320cm_qual</th>\n",
       "      <th>temperature_ks_5cm</th>\n",
       "      <th>temperature_ks_5cm_qual</th>\n",
       "      <th>temperature_ks_10cm</th>\n",
       "      <th>temperature_ks_10cm_qual</th>\n",
       "      <th>temperature_ks_15cm</th>\n",
       "      <th>temperature_ks_15cm_qual</th>\n",
       "      <th>temperature_ks_20cm</th>\n",
       "      <th>temperature_ks_20cm_qual</th>\n",
       "      <th>year_y</th>\n",
       "      <th>month_y</th>\n",
       "      <th>precipitation_observed</th>\n",
       "      <th>precipitation_corrected</th>\n",
       "      <th>precipitation_corrected_liquid</th>\n",
       "      <th>precipitation_corrected_mixed</th>\n",
       "      <th>precipitation_corrected_solid</th>\n",
       "      <th>sunshine_hours</th>\n",
       "    </tr>\n",
       "  </thead>\n",
       "  <tbody>\n",
       "    <tr>\n",
       "      <th>0</th>\n",
       "      <td>24538</td>\n",
       "      <td>1985-01-01</td>\n",
       "      <td>NaN</td>\n",
       "      <td>5.25</td>\n",
       "      <td>NaN</td>\n",
       "      <td>274.375</td>\n",
       "      <td>1.625</td>\n",
       "      <td>-43.3250</td>\n",
       "      <td>-43.4375</td>\n",
       "      <td>NaN</td>\n",
       "      <td>0.10000</td>\n",
       "      <td>76.125</td>\n",
       "      <td>0.03375</td>\n",
       "      <td>-45.8375</td>\n",
       "      <td>1009.6625</td>\n",
       "      <td>1030.7000</td>\n",
       "      <td>1.625</td>\n",
       "      <td>-44.5</td>\n",
       "      <td>-45.0</td>\n",
       "      <td>-45.1</td>\n",
       "      <td>-45.3</td>\n",
       "      <td>4.0</td>\n",
       "      <td>-42.2</td>\n",
       "      <td>NaN</td>\n",
       "      <td>NaN</td>\n",
       "      <td>NaN</td>\n",
       "      <td>1.0</td>\n",
       "      <td>0.0</td>\n",
       "      <td>0.0</td>\n",
       "      <td>0.0</td>\n",
       "      <td>0.0</td>\n",
       "      <td>0.0</td>\n",
       "      <td>NaN</td>\n",
       "      <td>1.0</td>\n",
       "      <td>2.0</td>\n",
       "      <td>0.0</td>\n",
       "      <td>2.0</td>\n",
       "      <td>0.0</td>\n",
       "      <td>1985.0</td>\n",
       "      <td>1.0</td>\n",
       "      <td>1.0</td>\n",
       "      <td>NaN</td>\n",
       "      <td>NaN</td>\n",
       "      <td>NaN</td>\n",
       "      <td>NaN</td>\n",
       "      <td>NaN</td>\n",
       "      <td>NaN</td>\n",
       "      <td>NaN</td>\n",
       "      <td>NaN</td>\n",
       "      <td>NaN</td>\n",
       "      <td>NaN</td>\n",
       "      <td>NaN</td>\n",
       "      <td>NaN</td>\n",
       "      <td>NaN</td>\n",
       "      <td>NaN</td>\n",
       "      <td>NaN</td>\n",
       "      <td>32.0</td>\n",
       "      <td>10.0</td>\n",
       "      <td>0.0</td>\n",
       "      <td>0.0</td>\n",
       "      <td>0.0</td>\n",
       "      <td>NaN</td>\n",
       "      <td>NaN</td>\n",
       "      <td>NaN</td>\n",
       "      <td>NaN</td>\n",
       "      <td>NaN</td>\n",
       "      <td>NaN</td>\n",
       "      <td>NaN</td>\n",
       "      <td>NaN</td>\n",
       "      <td>NaN</td>\n",
       "      <td>NaN</td>\n",
       "      <td>NaN</td>\n",
       "      <td>NaN</td>\n",
       "      <td>NaN</td>\n",
       "      <td>NaN</td>\n",
       "      <td>NaN</td>\n",
       "      <td>NaN</td>\n",
       "      <td>NaN</td>\n",
       "      <td>NaN</td>\n",
       "      <td>NaN</td>\n",
       "      <td>NaN</td>\n",
       "      <td>NaN</td>\n",
       "      <td>NaN</td>\n",
       "      <td>1985.0</td>\n",
       "      <td>1.0</td>\n",
       "      <td>3.8</td>\n",
       "      <td>5.7</td>\n",
       "      <td>0.0</td>\n",
       "      <td>0.0</td>\n",
       "      <td>5.7</td>\n",
       "      <td>NaN</td>\n",
       "    </tr>\n",
       "    <tr>\n",
       "      <th>1</th>\n",
       "      <td>24538</td>\n",
       "      <td>1985-01-02</td>\n",
       "      <td>NaN</td>\n",
       "      <td>0.00</td>\n",
       "      <td>NaN</td>\n",
       "      <td>315.000</td>\n",
       "      <td>1.750</td>\n",
       "      <td>-47.8625</td>\n",
       "      <td>-47.4875</td>\n",
       "      <td>NaN</td>\n",
       "      <td>0.06375</td>\n",
       "      <td>74.500</td>\n",
       "      <td>0.02000</td>\n",
       "      <td>-50.1125</td>\n",
       "      <td>1021.7750</td>\n",
       "      <td>1043.4625</td>\n",
       "      <td>1.150</td>\n",
       "      <td>-48.8</td>\n",
       "      <td>-49.2</td>\n",
       "      <td>-48.8</td>\n",
       "      <td>-48.8</td>\n",
       "      <td>5.0</td>\n",
       "      <td>-47.0</td>\n",
       "      <td>NaN</td>\n",
       "      <td>NaN</td>\n",
       "      <td>NaN</td>\n",
       "      <td>0.0</td>\n",
       "      <td>0.0</td>\n",
       "      <td>0.0</td>\n",
       "      <td>0.0</td>\n",
       "      <td>0.0</td>\n",
       "      <td>0.0</td>\n",
       "      <td>NaN</td>\n",
       "      <td>0.0</td>\n",
       "      <td>2.0</td>\n",
       "      <td>0.0</td>\n",
       "      <td>2.0</td>\n",
       "      <td>0.0</td>\n",
       "      <td>1985.0</td>\n",
       "      <td>1.0</td>\n",
       "      <td>2.0</td>\n",
       "      <td>NaN</td>\n",
       "      <td>NaN</td>\n",
       "      <td>NaN</td>\n",
       "      <td>NaN</td>\n",
       "      <td>NaN</td>\n",
       "      <td>NaN</td>\n",
       "      <td>NaN</td>\n",
       "      <td>NaN</td>\n",
       "      <td>NaN</td>\n",
       "      <td>NaN</td>\n",
       "      <td>NaN</td>\n",
       "      <td>NaN</td>\n",
       "      <td>NaN</td>\n",
       "      <td>NaN</td>\n",
       "      <td>NaN</td>\n",
       "      <td>32.0</td>\n",
       "      <td>10.0</td>\n",
       "      <td>0.0</td>\n",
       "      <td>0.0</td>\n",
       "      <td>0.0</td>\n",
       "      <td>NaN</td>\n",
       "      <td>NaN</td>\n",
       "      <td>NaN</td>\n",
       "      <td>NaN</td>\n",
       "      <td>NaN</td>\n",
       "      <td>NaN</td>\n",
       "      <td>NaN</td>\n",
       "      <td>NaN</td>\n",
       "      <td>NaN</td>\n",
       "      <td>NaN</td>\n",
       "      <td>NaN</td>\n",
       "      <td>NaN</td>\n",
       "      <td>NaN</td>\n",
       "      <td>NaN</td>\n",
       "      <td>NaN</td>\n",
       "      <td>NaN</td>\n",
       "      <td>NaN</td>\n",
       "      <td>NaN</td>\n",
       "      <td>NaN</td>\n",
       "      <td>NaN</td>\n",
       "      <td>NaN</td>\n",
       "      <td>NaN</td>\n",
       "      <td>NaN</td>\n",
       "      <td>NaN</td>\n",
       "      <td>NaN</td>\n",
       "      <td>NaN</td>\n",
       "      <td>NaN</td>\n",
       "      <td>NaN</td>\n",
       "      <td>NaN</td>\n",
       "      <td>NaN</td>\n",
       "    </tr>\n",
       "  </tbody>\n",
       "</table>\n",
       "</div>"
      ],
      "text/plain": [
       "   station_id       date  horizontal_visibility  cloud_amount_total  \\\n",
       "0       24538 1985-01-01                    NaN                5.25   \n",
       "1       24538 1985-01-02                    NaN                0.00   \n",
       "\n",
       "   cloud_base_altitude  wind_direction  wind_speed_aver  \\\n",
       "0                  NaN         274.375            1.625   \n",
       "1                  NaN         315.000            1.750   \n",
       "\n",
       "   soil_surface_temperature  air_temperature  air_temperature_wet_bulb  \\\n",
       "0                  -43.3250         -43.4375                       NaN   \n",
       "1                  -47.8625         -47.4875                       NaN   \n",
       "\n",
       "   water_vapour_partial_pressure  relative_humidity  vapour_pressure_deficit  \\\n",
       "0                        0.10000             76.125                  0.03375   \n",
       "1                        0.06375             74.500                  0.02000   \n",
       "\n",
       "   dew_point_temperature   pressure  pressure_sea_level  barometric_tendency  \\\n",
       "0               -45.8375  1009.6625           1030.7000                1.625   \n",
       "1               -50.1125  1021.7750           1043.4625                1.150   \n",
       "\n",
       "   soil_surface_alco_temperature  soil_surface_temperature_min_before  \\\n",
       "0                          -44.5                                -45.0   \n",
       "1                          -48.8                                -49.2   \n",
       "\n",
       "   air_temperature_min_alco_temperature  air_temperature_min_before  \\\n",
       "0                                 -45.1                       -45.3   \n",
       "1                                 -48.8                       -48.8   \n",
       "\n",
       "   wind_speed_max  soil_surface_temperature_max_before  \\\n",
       "0             4.0                                -42.2   \n",
       "1             5.0                                -47.0   \n",
       "\n",
       "   soil_surface_max_temperature  air_temperature_max_before  \\\n",
       "0                           NaN                         NaN   \n",
       "1                           NaN                         NaN   \n",
       "\n",
       "   air_max_temperature  cloud_form_high_level  cloud_form_middle_level  \\\n",
       "0                  NaN                    1.0                      0.0   \n",
       "1                  NaN                    0.0                      0.0   \n",
       "\n",
       "   cloud_form_vertical_develop  cloud_form_strat_stratocum  \\\n",
       "0                          0.0                         0.0   \n",
       "1                          0.0                         0.0   \n",
       "\n",
       "   cloud_form_strat_rain  cloud_below_station  soil_surface_condition  \\\n",
       "0                    0.0                  0.0                     NaN   \n",
       "1                    0.0                  0.0                     NaN   \n",
       "\n",
       "   weather_before  weather  air_temperature_wet_bulb_qual_1  \\\n",
       "0             1.0      2.0                              0.0   \n",
       "1             0.0      2.0                              0.0   \n",
       "\n",
       "   barometric_tendency_characteristic  precipitation  year_x  month_x  day  \\\n",
       "0                                 2.0            0.0  1985.0      1.0  1.0   \n",
       "1                                 2.0            0.0  1985.0      1.0  2.0   \n",
       "\n",
       "   route_type  snow_coverage_near_station  snow_coverage_route  \\\n",
       "0         NaN                         NaN                  NaN   \n",
       "1         NaN                         NaN                  NaN   \n",
       "\n",
       "   ice_crust_route  snow_height_aver  snow_height_max  snow_height_min  \\\n",
       "0              NaN               NaN              NaN              NaN   \n",
       "1              NaN               NaN              NaN              NaN   \n",
       "\n",
       "   snow_density_aver  ice_crust_aver  snow_saturated_thickness  \\\n",
       "0                NaN             NaN                       NaN   \n",
       "1                NaN             NaN                       NaN   \n",
       "\n",
       "   water_thickness  water_in_snow  water_total  snow_coverage_charact  \\\n",
       "0              NaN            NaN          NaN                    NaN   \n",
       "1              NaN            NaN          NaN                    NaN   \n",
       "\n",
       "   snow_charact  snow_height  snow_coverage_station  snow_height_q1  \\\n",
       "0           NaN         32.0                   10.0             0.0   \n",
       "1           NaN         32.0                   10.0             0.0   \n",
       "\n",
       "   snow_height_q2  snow_height_q3  temperature_20cm  temperature_20cm_qual  \\\n",
       "0             0.0             0.0               NaN                    NaN   \n",
       "1             0.0             0.0               NaN                    NaN   \n",
       "\n",
       "   temperature_40cm  temperature_40cm_qual  temperature_80cm  \\\n",
       "0               NaN                    NaN               NaN   \n",
       "1               NaN                    NaN               NaN   \n",
       "\n",
       "   temperature_80cm_qual  temperature_120cm  temperature_120cm_qual  \\\n",
       "0                    NaN                NaN                     NaN   \n",
       "1                    NaN                NaN                     NaN   \n",
       "\n",
       "   temperature_160cm  temperature_160cm_qual  temperature_240cm  \\\n",
       "0                NaN                     NaN                NaN   \n",
       "1                NaN                     NaN                NaN   \n",
       "\n",
       "   temperature_240cm_qual  temperature_320cm  temperature_320cm_qual  \\\n",
       "0                     NaN                NaN                     NaN   \n",
       "1                     NaN                NaN                     NaN   \n",
       "\n",
       "   temperature_ks_5cm  temperature_ks_5cm_qual  temperature_ks_10cm  \\\n",
       "0                 NaN                      NaN                  NaN   \n",
       "1                 NaN                      NaN                  NaN   \n",
       "\n",
       "   temperature_ks_10cm_qual  temperature_ks_15cm  temperature_ks_15cm_qual  \\\n",
       "0                       NaN                  NaN                       NaN   \n",
       "1                       NaN                  NaN                       NaN   \n",
       "\n",
       "   temperature_ks_20cm  temperature_ks_20cm_qual  year_y  month_y  \\\n",
       "0                  NaN                       NaN  1985.0      1.0   \n",
       "1                  NaN                       NaN     NaN      NaN   \n",
       "\n",
       "   precipitation_observed  precipitation_corrected  \\\n",
       "0                     3.8                      5.7   \n",
       "1                     NaN                      NaN   \n",
       "\n",
       "   precipitation_corrected_liquid  precipitation_corrected_mixed  \\\n",
       "0                             0.0                            0.0   \n",
       "1                             NaN                            NaN   \n",
       "\n",
       "   precipitation_corrected_solid  sunshine_hours  \n",
       "0                            5.7             NaN  \n",
       "1                            NaN             NaN  "
      ]
     },
     "execution_count": 21,
     "metadata": {},
     "output_type": "execute_result"
    }
   ],
   "source": [
    "joined_meteo.head(2)"
   ]
  },
  {
   "cell_type": "markdown",
   "metadata": {},
   "source": [
    "### 5. Интерполяция метеоданных в точках гидропостов<a class=\"anchor\" id=\"5-bullet\"></a>\n",
    "[назад к оглавлению](#0-bullet)"
   ]
  },
  {
   "cell_type": "markdown",
   "metadata": {},
   "source": [
    "**Интерполяция для исторических данных**"
   ]
  },
  {
   "cell_type": "code",
   "execution_count": 41,
   "metadata": {},
   "outputs": [],
   "source": [
    "meteo_features = [\n",
    "    'horizontal_visibility', 'cloud_amount_total', 'cloud_base_altitude', 'wind_direction',\n",
    "    'wind_speed_aver', 'soil_surface_temperature', 'air_temperature', 'air_temperature_wet_bulb',\n",
    "    'water_vapour_partial_pressure', 'relative_humidity', 'vapour_pressure_deficit', 'dew_point_temperature',\n",
    "    'pressure', 'pressure_sea_level', 'barometric_tendency', 'soil_surface_alco_temperature',\n",
    "    'soil_surface_temperature_min_before', 'air_temperature_min_alco_temperature', 'air_temperature_min_before',\n",
    "    'wind_speed_max', 'soil_surface_temperature_max_before', 'soil_surface_max_temperature',\n",
    "    'air_temperature_max_before', 'air_max_temperature', 'cloud_form_high_level', 'cloud_form_middle_level',\n",
    "    'cloud_form_vertical_develop', 'cloud_form_strat_stratocum', 'cloud_form_strat_rain',\n",
    "    'cloud_below_station', 'soil_surface_condition', 'weather_before', 'weather',\n",
    "    'air_temperature_wet_bulb_qual_1', 'barometric_tendency_characteristic', 'precipitation',\n",
    "    'snow_coverage_near_station', 'snow_coverage_route', 'ice_crust_route', 'snow_height_aver',\n",
    "    'snow_height_max', 'snow_height_min', 'snow_density_aver', 'ice_crust_aver', 'snow_saturated_thickness',\n",
    "    'water_thickness', 'water_in_snow', 'water_total', 'snow_coverage_charact', 'snow_charact',\n",
    "    'snow_height', 'snow_coverage_station', 'temperature_20cm', 'temperature_40cm', 'temperature_80cm',\n",
    "    'temperature_120cm', 'temperature_160cm', 'temperature_240cm', 'temperature_320cm', 'temperature_ks_5cm',\n",
    "    'temperature_ks_10cm', 'temperature_ks_15cm', 'temperature_ks_20cm', 'precipitation_observed',\n",
    "    'precipitation_corrected', 'precipitation_corrected_liquid', 'precipitation_corrected_mixed',\n",
    "    'precipitation_corrected_solid', 'sunshine_hours'\n",
    "]"
   ]
  },
  {
   "cell_type": "code",
   "execution_count": 23,
   "metadata": {},
   "outputs": [],
   "source": [
    "# %%time\n",
    "\n",
    "# # вышло на полчаса\n",
    "\n",
    "# hydro_station_ids = list(hydro_coord['station_id'].values)\n",
    "# hydro_longitudes = list(hydro_coord['lon'].values)\n",
    "# hydro_latitudes = list(hydro_coord['lat'].values)\n",
    "\n",
    "\n",
    "# def meteo_interpolation_by_date(date, meteo_data):\n",
    "#     station_ids = meteo_data['station_id'].unique()\n",
    "#     condition = meteo_coord['station_id'].isin(station_ids)\n",
    "    \n",
    "#     longitudes = list(meteo_coord.loc[condition, 'lon'].values)\n",
    "#     latitudes = list(meteo_coord.loc[condition, 'lat'].values)\n",
    "    \n",
    "#     d = {}\n",
    "    \n",
    "#     for feature in meteo_features:\n",
    "#         values = meteo_data[feature].fillna(meteo_data[feature].mean())\n",
    "\n",
    "#         if len(values.unique()) == 1:\n",
    "#             interpolated_values = np.full(hydro_coord.shape[0], values.values[0])\n",
    "#         elif values.max() == values.min():\n",
    "#             interpolated_values = np.full(hydro_coord.shape[0], values.mean())\n",
    "#         else:\n",
    "#             OK = OrdinaryKriging(longitudes,\n",
    "#                                  latitudes,\n",
    "#                                  values,\n",
    "#                                  variogram_model='spherical',\n",
    "#                                  coordinates_type='geographic')\n",
    "            \n",
    "#             interpolated_values, variance = OK.execute('points',\n",
    "#                                                        hydro_longitudes,\n",
    "#                                                        hydro_latitudes,\n",
    "#                                                        backend='C',\n",
    "#                                                        n_closest_points=3)\n",
    "        \n",
    "#         d[feature] = pd.Series(interpolated_values, index=hydro_station_ids)\n",
    "    \n",
    "#     df = pd.DataFrame(d, index=hydro_station_ids, columns=meteo_features)\n",
    "#     df['date'] = date\n",
    "    \n",
    "#     return df.rename_axis('station_id').set_index('date', append=True)\n",
    "\n",
    "\n",
    "# def daily_meteo_wrapper(args):\n",
    "#     return meteo_interpolation_by_date(*args)\n",
    "\n",
    "            \n",
    "# with Pool(cpu_count() - 1) as p:\n",
    "#     r = p.map(daily_meteo_wrapper, [(date, meteo_data) for date, meteo_data in joined_meteo.groupby('date')])\n",
    "#     interpolated_meteo = pd.concat(r)\n",
    "#     interpolated_meteo.to_csv('interpolated_meteo.csv')"
   ]
  },
  {
   "cell_type": "raw",
   "metadata": {},
   "source": [
    "interpolated_meteo = pd.read_csv('interpolated_meteo.csv',\n",
    "                                 parse_dates=['date'], date_parser=custom_date_parser)"
   ]
  },
  {
   "cell_type": "markdown",
   "metadata": {},
   "source": [
    "### 6. Базовая модель<a class=\"anchor\" id=\"6-bullet\"></a>\n",
    "[назад к оглавлению](#0-bullet)"
   ]
  },
  {
   "cell_type": "markdown",
   "metadata": {},
   "source": [
    "**Метрика**: микровзвешенное значение среднеквадратичной ошибки MSE, нормированное на квадрат среднеквадратичного отклонения по целевым гидропостам."
   ]
  },
  {
   "cell_type": "markdown",
   "metadata": {},
   "source": [
    "<div class=\"alert alert-block alert-success\">\n",
    "Внимание: в STATION_COEFFS из ячейки ниже хранятся пары {station_id: std_sq}, на которые нормируются ошибки MSE.\n",
    "</div>"
   ]
  },
  {
   "cell_type": "code",
   "execution_count": 42,
   "metadata": {},
   "outputs": [],
   "source": [
    "# расчет метрики\n",
    "\n",
    "# квадраты стандартных отклонений по гидропостам\n",
    "STATION_COEFFS = {\n",
    "        3019: 185.35707752426708,\n",
    "        3027: 1223.8071616577856,\n",
    "        3028: 1357.4062812989373,\n",
    "        3029: 1520.7730161870682,\n",
    "        3030: 1765.9217904996142,\n",
    "        3035: 765.3703832632036,\n",
    "        3041: 443.5766934006718,\n",
    "        3045: 579.1353554017562,\n",
    "        3050: 612.0471238561079,\n",
    "        3230: 516.6669876251401\n",
    "}\n",
    "\n",
    "def rowwise_nse(row): \n",
    "    station_id = row.station_id\n",
    "    station_coeff = STATION_COEFFS[station_id]\n",
    "    \n",
    "    actual = row['delta_stage_max_actual']\n",
    "    predicted = row['delta_stage_max_predicted']\n",
    "    return np.divide(np.square(np.subtract(predicted, actual)),\n",
    "            station_coeff)\n",
    "\n",
    "def score(actual_df, predicted_df):\n",
    "    merged = pd.merge(\n",
    "        left=predicted_df,\n",
    "        right=actual_df,\n",
    "        how='right',\n",
    "        on=['date', 'station_id'],\n",
    "        suffixes=('_predicted', '_actual'),\n",
    "    )\n",
    "\n",
    "    merged.delta_stage_max_predicted.fillna(0, inplace=True)\n",
    "    merged['error'] = merged.apply(rowwise_nse, axis=1)\n",
    "    merged.dropna(inplace=True)\n",
    "    if len(merged) != len(actual_df):\n",
    "        return 'length of predicted df does not match actual df'\n",
    "    else:\n",
    "        score = np.divide(merged['error'].sum(), len(merged))\n",
    "        return score"
   ]
  },
  {
   "cell_type": "code",
   "execution_count": 43,
   "metadata": {},
   "outputs": [
    {
     "data": {
      "text/plain": [
       "dict_keys([3019, 3027, 3028, 3029, 3030, 3035, 3041, 3045, 3050, 3230])"
      ]
     },
     "execution_count": 43,
     "metadata": {},
     "output_type": "execute_result"
    }
   ],
   "source": [
    "STATION_COEFFS.keys()"
   ]
  },
  {
   "cell_type": "code",
   "execution_count": 44,
   "metadata": {},
   "outputs": [],
   "source": [
    "train_years = list(set(train['year'].unique()) - set(test['year'].unique()))\n",
    "cutoffs = pd.to_datetime([ datetime.datetime.strptime(str(year) + \"-W16\" + '-1', \"%Y-W%W-%w\") for year in train_years if year > train_years[:1][0]])"
   ]
  },
  {
   "cell_type": "code",
   "execution_count": 45,
   "metadata": {
    "tags": []
   },
   "outputs": [
    {
     "name": "stderr",
     "output_type": "stream",
     "text": [
      "<ipython-input-45-fe001f83cfa4>:3: SettingWithCopyWarning: \n",
      "A value is trying to be set on a copy of a slice from a DataFrame.\n",
      "Try using .loc[row_indexer,col_indexer] = value instead\n",
      "\n",
      "See the caveats in the documentation: https://pandas.pydata.org/pandas-docs/stable/user_guide/indexing.html#returning-a-view-versus-a-copy\n",
      "  test['coef'] = test['station'].apply(lambda x: STATION_COEFFS[x])\n"
     ]
    },
    {
     "data": {
      "text/html": [
       "<div>\n",
       "<style scoped>\n",
       "    .dataframe tbody tr th:only-of-type {\n",
       "        vertical-align: middle;\n",
       "    }\n",
       "\n",
       "    .dataframe tbody tr th {\n",
       "        vertical-align: top;\n",
       "    }\n",
       "\n",
       "    .dataframe thead th {\n",
       "        text-align: right;\n",
       "    }\n",
       "</style>\n",
       "<table border=\"1\" class=\"dataframe\">\n",
       "  <thead>\n",
       "    <tr style=\"text-align: right;\">\n",
       "      <th></th>\n",
       "      <th>station</th>\n",
       "      <th>ds</th>\n",
       "      <th>coef</th>\n",
       "    </tr>\n",
       "  </thead>\n",
       "  <tbody>\n",
       "    <tr>\n",
       "      <th>0</th>\n",
       "      <td>3019</td>\n",
       "      <td>1993-04-21</td>\n",
       "      <td>185.357078</td>\n",
       "    </tr>\n",
       "    <tr>\n",
       "      <th>1</th>\n",
       "      <td>3019</td>\n",
       "      <td>1993-04-22</td>\n",
       "      <td>185.357078</td>\n",
       "    </tr>\n",
       "    <tr>\n",
       "      <th>2</th>\n",
       "      <td>3019</td>\n",
       "      <td>1993-04-23</td>\n",
       "      <td>185.357078</td>\n",
       "    </tr>\n",
       "    <tr>\n",
       "      <th>3</th>\n",
       "      <td>3019</td>\n",
       "      <td>1993-04-24</td>\n",
       "      <td>185.357078</td>\n",
       "    </tr>\n",
       "    <tr>\n",
       "      <th>4</th>\n",
       "      <td>3019</td>\n",
       "      <td>1993-04-25</td>\n",
       "      <td>185.357078</td>\n",
       "    </tr>\n",
       "  </tbody>\n",
       "</table>\n",
       "</div>"
      ],
      "text/plain": [
       "   station         ds        coef\n",
       "0     3019 1993-04-21  185.357078\n",
       "1     3019 1993-04-22  185.357078\n",
       "2     3019 1993-04-23  185.357078\n",
       "3     3019 1993-04-24  185.357078\n",
       "4     3019 1993-04-25  185.357078"
      ]
     },
     "execution_count": 45,
     "metadata": {},
     "output_type": "execute_result"
    }
   ],
   "source": [
    "test = test[['station_id', 'date']]\n",
    "test.columns = ['station','ds']\n",
    "test['coef'] = test['station'].apply(lambda x: STATION_COEFFS[x])\n",
    "test.head()"
   ]
  },
  {
   "cell_type": "code",
   "execution_count": 46,
   "metadata": {},
   "outputs": [],
   "source": [
    "data = train[['date', 'station_id', 'delta_stage_max']].copy()\n",
    "data = data[data['station_id'].isin(STATION_COEFFS.keys())]\n",
    "data = data.fillna(0)\n",
    "data.columns = ['ds', 'station', 'y']\n",
    "data = data.astype({'y': 'int', 'station': 'int'})\n",
    "data.sort_values(['ds', 'station'],inplace=True)\n",
    "data['coef'] = data['station'].apply(lambda x: STATION_COEFFS[x])\n",
    "\n",
    "\n",
    "val = data[data['ds'] >= cutoffs[-1:][0]].reset_index(drop=True)\n",
    "data = data[data['ds'] < cutoffs[-1:][0]]"
   ]
  },
  {
   "cell_type": "markdown",
   "metadata": {},
   "source": [
    "### Обучим модель на трейне"
   ]
  },
  {
   "cell_type": "markdown",
   "metadata": {},
   "source": [
    "<div class=\"alert alert-block alert-danger\">\n",
    "Внимание-2: <b>нельзя использовать данные из будущего для предсказания прошлых событий</b> (так называемые лики). Иными словами, нельзя использовать данные, временной период для которых позднее, чем время наблюдения, целевую переменную для которого вы пытаетесь предсказать.\n",
    "</div>"
   ]
  },
  {
   "cell_type": "markdown",
   "metadata": {},
   "source": [
    "P.S. Prophet() в будущее не заглядывает, молодец."
   ]
  },
  {
   "cell_type": "code",
   "execution_count": 47,
   "metadata": {},
   "outputs": [
    {
     "ename": "NameError",
     "evalue": "name 'Prophet' is not defined",
     "output_type": "error",
     "traceback": [
      "\u001b[1;31m---------------------------------------------------------------------------\u001b[0m",
      "\u001b[1;31mNameError\u001b[0m                                 Traceback (most recent call last)",
      "\u001b[1;32m<ipython-input-47-2d8c93d192aa>\u001b[0m in \u001b[0;36m<module>\u001b[1;34m\u001b[0m\n\u001b[1;32m----> 1\u001b[1;33m \u001b[0mm\u001b[0m \u001b[1;33m=\u001b[0m \u001b[0mProphet\u001b[0m\u001b[1;33m(\u001b[0m\u001b[1;33m)\u001b[0m\u001b[1;33m\u001b[0m\u001b[1;33m\u001b[0m\u001b[0m\n\u001b[0m\u001b[0;32m      2\u001b[0m \u001b[0mm\u001b[0m\u001b[1;33m.\u001b[0m\u001b[0madd_regressor\u001b[0m\u001b[1;33m(\u001b[0m\u001b[1;34m'coef'\u001b[0m\u001b[1;33m)\u001b[0m\u001b[1;33m\u001b[0m\u001b[1;33m\u001b[0m\u001b[0m\n\u001b[0;32m      3\u001b[0m \u001b[0mm\u001b[0m\u001b[1;33m.\u001b[0m\u001b[0mfit\u001b[0m\u001b[1;33m(\u001b[0m\u001b[0mdata\u001b[0m\u001b[1;33m)\u001b[0m\u001b[1;33m\u001b[0m\u001b[1;33m\u001b[0m\u001b[0m\n",
      "\u001b[1;31mNameError\u001b[0m: name 'Prophet' is not defined"
     ]
    }
   ],
   "source": [
    "m = Prophet()\n",
    "m.add_regressor('coef')\n",
    "m.fit(data)"
   ]
  },
  {
   "cell_type": "code",
   "execution_count": 30,
   "metadata": {},
   "outputs": [
    {
     "data": {
      "application/vnd.jupyter.widget-view+json": {
       "model_id": "32602cdd859c4f99ae234749b7382b70",
       "version_major": 2,
       "version_minor": 0
      },
      "text/plain": [
       "HBox(children=(HTML(value=''), FloatProgress(value=0.0, max=24.0), HTML(value='')))"
      ]
     },
     "metadata": {},
     "output_type": "display_data"
    },
    {
     "name": "stdout",
     "output_type": "stream",
     "text": [
      "\n"
     ]
    }
   ],
   "source": [
    "df_cv = cross_validation(m, horizon='7 days', cutoffs=cutoffs[:-1])"
   ]
  },
  {
   "cell_type": "code",
   "execution_count": 31,
   "metadata": {},
   "outputs": [
    {
     "name": "stderr",
     "output_type": "stream",
     "text": [
      "INFO:prophet:Skipping MAPE because y close to 0\n"
     ]
    },
    {
     "data": {
      "text/html": [
       "<div>\n",
       "<style scoped>\n",
       "    .dataframe tbody tr th:only-of-type {\n",
       "        vertical-align: middle;\n",
       "    }\n",
       "\n",
       "    .dataframe tbody tr th {\n",
       "        vertical-align: top;\n",
       "    }\n",
       "\n",
       "    .dataframe thead th {\n",
       "        text-align: right;\n",
       "    }\n",
       "</style>\n",
       "<table border=\"1\" class=\"dataframe\">\n",
       "  <thead>\n",
       "    <tr style=\"text-align: right;\">\n",
       "      <th></th>\n",
       "      <th>horizon</th>\n",
       "      <th>mse</th>\n",
       "      <th>rmse</th>\n",
       "      <th>mae</th>\n",
       "      <th>mdape</th>\n",
       "      <th>smape</th>\n",
       "      <th>coverage</th>\n",
       "    </tr>\n",
       "  </thead>\n",
       "  <tbody>\n",
       "    <tr>\n",
       "      <th>0</th>\n",
       "      <td>1 days</td>\n",
       "      <td>13.092536</td>\n",
       "      <td>3.618361</td>\n",
       "      <td>2.413441</td>\n",
       "      <td>2.832382</td>\n",
       "      <td>1.704991</td>\n",
       "      <td>1.000000</td>\n",
       "    </tr>\n",
       "    <tr>\n",
       "      <th>1</th>\n",
       "      <td>2 days</td>\n",
       "      <td>35.484649</td>\n",
       "      <td>5.956899</td>\n",
       "      <td>2.874503</td>\n",
       "      <td>2.015032</td>\n",
       "      <td>1.557030</td>\n",
       "      <td>0.991632</td>\n",
       "    </tr>\n",
       "    <tr>\n",
       "      <th>2</th>\n",
       "      <td>3 days</td>\n",
       "      <td>2200.102262</td>\n",
       "      <td>46.905248</td>\n",
       "      <td>7.596205</td>\n",
       "      <td>1.699222</td>\n",
       "      <td>1.534214</td>\n",
       "      <td>0.987448</td>\n",
       "    </tr>\n",
       "    <tr>\n",
       "      <th>3</th>\n",
       "      <td>4 days</td>\n",
       "      <td>408.899105</td>\n",
       "      <td>20.221254</td>\n",
       "      <td>4.781596</td>\n",
       "      <td>2.243804</td>\n",
       "      <td>1.434910</td>\n",
       "      <td>0.983264</td>\n",
       "    </tr>\n",
       "    <tr>\n",
       "      <th>4</th>\n",
       "      <td>5 days</td>\n",
       "      <td>1374.804771</td>\n",
       "      <td>37.078360</td>\n",
       "      <td>6.589942</td>\n",
       "      <td>1.763682</td>\n",
       "      <td>1.368933</td>\n",
       "      <td>0.979079</td>\n",
       "    </tr>\n",
       "    <tr>\n",
       "      <th>5</th>\n",
       "      <td>6 days</td>\n",
       "      <td>1127.461842</td>\n",
       "      <td>33.577699</td>\n",
       "      <td>7.214461</td>\n",
       "      <td>1.730214</td>\n",
       "      <td>1.285301</td>\n",
       "      <td>0.979079</td>\n",
       "    </tr>\n",
       "    <tr>\n",
       "      <th>6</th>\n",
       "      <td>7 days</td>\n",
       "      <td>340.374243</td>\n",
       "      <td>18.449234</td>\n",
       "      <td>6.160093</td>\n",
       "      <td>1.704886</td>\n",
       "      <td>1.305275</td>\n",
       "      <td>0.987448</td>\n",
       "    </tr>\n",
       "  </tbody>\n",
       "</table>\n",
       "</div>"
      ],
      "text/plain": [
       "  horizon          mse       rmse       mae     mdape     smape  coverage\n",
       "0  1 days    13.092536   3.618361  2.413441  2.832382  1.704991  1.000000\n",
       "1  2 days    35.484649   5.956899  2.874503  2.015032  1.557030  0.991632\n",
       "2  3 days  2200.102262  46.905248  7.596205  1.699222  1.534214  0.987448\n",
       "3  4 days   408.899105  20.221254  4.781596  2.243804  1.434910  0.983264\n",
       "4  5 days  1374.804771  37.078360  6.589942  1.763682  1.368933  0.979079\n",
       "5  6 days  1127.461842  33.577699  7.214461  1.730214  1.285301  0.979079\n",
       "6  7 days   340.374243  18.449234  6.160093  1.704886  1.305275  0.987448"
      ]
     },
     "metadata": {},
     "output_type": "display_data"
    },
    {
     "data": {
      "image/png": "[encoded data removed]",
      "text/plain": [
       "<Figure size 720x432 with 1 Axes>"
      ]
     },
     "metadata": {},
     "output_type": "display_data"
    }
   ],
   "source": [
    "display(performance_metrics(df_cv))\n",
    "fig = plot_cross_validation_metric(df_cv, metric='rmse')"
   ]
  },
  {
   "cell_type": "code",
   "execution_count": 32,
   "metadata": {},
   "outputs": [],
   "source": [
    "val['y_pred'] = m.predict(val[['ds', 'station', 'coef']])['yhat']"
   ]
  },
  {
   "cell_type": "code",
   "execution_count": 33,
   "metadata": {},
   "outputs": [
    {
     "data": {
      "text/html": [
       "<div>\n",
       "<style scoped>\n",
       "    .dataframe tbody tr th:only-of-type {\n",
       "        vertical-align: middle;\n",
       "    }\n",
       "\n",
       "    .dataframe tbody tr th {\n",
       "        vertical-align: top;\n",
       "    }\n",
       "\n",
       "    .dataframe thead th {\n",
       "        text-align: right;\n",
       "    }\n",
       "</style>\n",
       "<table border=\"1\" class=\"dataframe\">\n",
       "  <thead>\n",
       "    <tr style=\"text-align: right;\">\n",
       "      <th></th>\n",
       "      <th>ds</th>\n",
       "      <th>station</th>\n",
       "      <th>y</th>\n",
       "      <th>coef</th>\n",
       "      <th>y_pred</th>\n",
       "    </tr>\n",
       "  </thead>\n",
       "  <tbody>\n",
       "    <tr>\n",
       "      <th>0</th>\n",
       "      <td>2019-04-22</td>\n",
       "      <td>3019</td>\n",
       "      <td>-1</td>\n",
       "      <td>185.357078</td>\n",
       "      <td>2.398145</td>\n",
       "    </tr>\n",
       "    <tr>\n",
       "      <th>1</th>\n",
       "      <td>2019-04-22</td>\n",
       "      <td>3027</td>\n",
       "      <td>1</td>\n",
       "      <td>1223.807162</td>\n",
       "      <td>2.468076</td>\n",
       "    </tr>\n",
       "    <tr>\n",
       "      <th>2</th>\n",
       "      <td>2019-04-22</td>\n",
       "      <td>3028</td>\n",
       "      <td>0</td>\n",
       "      <td>1357.406281</td>\n",
       "      <td>2.477072</td>\n",
       "    </tr>\n",
       "    <tr>\n",
       "      <th>3</th>\n",
       "      <td>2019-04-22</td>\n",
       "      <td>3029</td>\n",
       "      <td>0</td>\n",
       "      <td>1520.773016</td>\n",
       "      <td>2.488074</td>\n",
       "    </tr>\n",
       "    <tr>\n",
       "      <th>4</th>\n",
       "      <td>2019-04-22</td>\n",
       "      <td>3030</td>\n",
       "      <td>-1</td>\n",
       "      <td>1765.921790</td>\n",
       "      <td>2.504582</td>\n",
       "    </tr>\n",
       "  </tbody>\n",
       "</table>\n",
       "</div>"
      ],
      "text/plain": [
       "          ds  station  y         coef    y_pred\n",
       "0 2019-04-22     3019 -1   185.357078  2.398145\n",
       "1 2019-04-22     3027  1  1223.807162  2.468076\n",
       "2 2019-04-22     3028  0  1357.406281  2.477072\n",
       "3 2019-04-22     3029  0  1520.773016  2.488074\n",
       "4 2019-04-22     3030 -1  1765.921790  2.504582"
      ]
     },
     "execution_count": 33,
     "metadata": {},
     "output_type": "execute_result"
    }
   ],
   "source": [
    "val.head()"
   ]
  },
  {
   "cell_type": "code",
   "execution_count": 34,
   "metadata": {},
   "outputs": [
    {
     "data": {
      "image/png": "[encoded data removed]",
      "text/plain": [
       "<Figure size 1800x1080 with 1 Axes>"
      ]
     },
     "metadata": {},
     "output_type": "display_data"
    }
   ],
   "source": [
    "sns.set(rc={'figure.figsize':(25,15)})\n",
    "sns.lineplot(data=val,x='ds', y='y',hue='station', style=\"station\")\n",
    "sns.lineplot(data=val,x='ds', y='y_pred');"
   ]
  },
  {
   "cell_type": "markdown",
   "metadata": {},
   "source": [
    "### Проверим на валидационной выборке скор"
   ]
  },
  {
   "cell_type": "code",
   "execution_count": 35,
   "metadata": {},
   "outputs": [
    {
     "name": "stdout",
     "output_type": "stream",
     "text": [
      "rmse 28.839754568283347\n",
      "cmse 0.9327150352852744\n"
     ]
    }
   ],
   "source": [
    "print('rmse',mean_squared_error(val['y'],val['y_pred'],squared=False))\n",
    "print('cmse',score(val.rename({'ds':'date','y':'delta_stage_max','station':'station_id'},axis=1),val.rename({'ds':'date','y_pred':'delta_stage_max','station':'station_id'},axis=1)))"
   ]
  },
  {
   "cell_type": "markdown",
   "metadata": {},
   "source": [
    "### Предскажем тестовую выборку и сохраним результат в файл для отправки сабмита"
   ]
  },
  {
   "cell_type": "code",
   "execution_count": 36,
   "metadata": {
    "tags": []
   },
   "outputs": [],
   "source": [
    "test['delta_stage_max'] = m.predict(test)['yhat']"
   ]
  },
  {
   "cell_type": "code",
   "execution_count": 37,
   "metadata": {},
   "outputs": [],
   "source": [
    "test.columns = ['station_id', 'date', 'coef', 'delta_stage_max']"
   ]
  },
  {
   "cell_type": "code",
   "execution_count": 41,
   "metadata": {},
   "outputs": [],
   "source": [
    "test['year'] = test['date'].dt.year\n",
    "test['day'] = test['date'].dt.dayofyear"
   ]
  },
  {
   "cell_type": "code",
   "execution_count": 42,
   "metadata": {},
   "outputs": [
    {
     "data": {
      "text/plain": [
       "Index(['station_id', 'date', 'coef', 'delta_stage_max', 'year', 'day'], dtype='object')"
      ]
     },
     "execution_count": 42,
     "metadata": {},
     "output_type": "execute_result"
    }
   ],
   "source": [
    "test.columns "
   ]
  },
  {
   "cell_type": "code",
   "execution_count": 44,
   "metadata": {},
   "outputs": [],
   "source": [
    "test[['station_id', 'date', 'delta_stage_max', 'year', 'day']].to_csv('submit.csv')"
   ]
  }
 ],
 "metadata": {
  "kernelspec": {
   "display_name": "Python 3",
   "language": "python",
   "name": "python3"
  },
  "language_info": {
   "codemirror_mode": {
    "name": "ipython",
    "version": 3
   },
   "file_extension": ".py",
   "mimetype": "text/x-python",
   "name": "python",
   "nbconvert_exporter": "python",
   "pygments_lexer": "ipython3",
   "version": "3.8.8"
  },
  "toc-autonumbering": false,
  "toc-showcode": false,
  "toc-showmarkdowntxt": false
 },
 "nbformat": 4,
 "nbformat_minor": 4
}
