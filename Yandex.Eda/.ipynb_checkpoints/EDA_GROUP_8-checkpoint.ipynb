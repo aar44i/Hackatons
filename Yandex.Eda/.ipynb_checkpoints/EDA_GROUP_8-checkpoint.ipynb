{
 "cells": [
  {
   "cell_type": "markdown",
   "metadata": {
    "id": "gQmAbl5fvOOd"
   },
   "source": [
    "# HACK-1. Яндекс.Еда \n",
    "## Решение группы №8"
   ]
  },
  {
   "cell_type": "markdown",
   "metadata": {
    "id": "qmz3m6DSu4Rc"
   },
   "source": [
    "## Шаг 0. Импортируем библиоиеки"
   ]
  },
  {
   "cell_type": "markdown",
   "metadata": {
    "id": "ynX3q-7Nv0_f"
   },
   "source": []
  },
  {
   "cell_type": "code",
   "execution_count": 76,
   "metadata": {
    "id": "NibrLFd1vvyZ"
   },
   "outputs": [],
   "source": [
    "import pandas as pd"
   ]
  },
  {
   "cell_type": "markdown",
   "metadata": {
    "id": "8DPKqu_cv2nz"
   },
   "source": [
    "## Шаг 1. Загрузм данные"
   ]
  },
  {
   "cell_type": "code",
   "execution_count": 6,
   "metadata": {
    "id": "AZsOIpbLssts"
   },
   "outputs": [],
   "source": [
    "df = pd.read_excel('https://lms.skillfactory.ru/assets/courseware/v1/2222decafe3827199aaac54c7c0e3569/asset-v1:SkillFactory+DST-HACK+30OCT2020+type@asset+block/yandex_hack.xlsx')"
   ]
  },
  {
   "cell_type": "markdown",
   "metadata": {
    "id": "L_BheR52wEPV"
   },
   "source": [
    "## Шаг 2. Посмотрим на представленный датасет"
   ]
  },
  {
   "cell_type": "code",
   "execution_count": 76,
   "metadata": {
    "colab": {
     "base_uri": "https://localhost:8080/",
     "height": 531
    },
    "id": "eaAp4LGss9tD",
    "outputId": "ff03dad2-f5fe-448d-e098-33cf8d55e89f"
   },
   "outputs": [
    {
     "data": {
      "text/html": [
       "<div>\n",
       "<style scoped>\n",
       "    .dataframe tbody tr th:only-of-type {\n",
       "        vertical-align: middle;\n",
       "    }\n",
       "\n",
       "    .dataframe tbody tr th {\n",
       "        vertical-align: top;\n",
       "    }\n",
       "\n",
       "    .dataframe thead th {\n",
       "        text-align: right;\n",
       "    }\n",
       "</style>\n",
       "<table border=\"1\" class=\"dataframe\">\n",
       "  <thead>\n",
       "    <tr style=\"text-align: right;\">\n",
       "      <th></th>\n",
       "      <th>order_created_datetime</th>\n",
       "      <th>brand_name</th>\n",
       "      <th>rest_id</th>\n",
       "      <th>batched_with_order_id</th>\n",
       "      <th>order_id</th>\n",
       "      <th>first_in_multiorder_flg</th>\n",
       "      <th>courier_id</th>\n",
       "      <th>order_items_cnt</th>\n",
       "      <th>city</th>\n",
       "    </tr>\n",
       "  </thead>\n",
       "  <tbody>\n",
       "    <tr>\n",
       "      <th>55334</th>\n",
       "      <td>2015-09-14 15:32:24.000000</td>\n",
       "      <td>B</td>\n",
       "      <td>6ac1b8fed2910f79982117e6cd3c3ad3</td>\n",
       "      <td>NaN</td>\n",
       "      <td>c0297cfd90c93d215e12710eb3ca2075</td>\n",
       "      <td>NaN</td>\n",
       "      <td>c2f92caeda4e57703bd9b8b9fb5a9418</td>\n",
       "      <td>1</td>\n",
       "      <td>4805ee58a2d975322bda9710e2116a17</td>\n",
       "    </tr>\n",
       "    <tr>\n",
       "      <th>13939</th>\n",
       "      <td>2015-09-14 09:32:04.000000</td>\n",
       "      <td>B</td>\n",
       "      <td>16a7bc2da1ef26f1fb9221c155a4a8f2</td>\n",
       "      <td>NaN</td>\n",
       "      <td>159cc4cbba2ca6a369da7b8ee6392287</td>\n",
       "      <td>NaN</td>\n",
       "      <td>455c17bdc5f3258cf42ac0372df5b71f</td>\n",
       "      <td>3</td>\n",
       "      <td>e6705560085199e9674cd721ee844d0d</td>\n",
       "    </tr>\n",
       "    <tr>\n",
       "      <th>38102</th>\n",
       "      <td>2015-09-14 09:10:01.000000</td>\n",
       "      <td>B</td>\n",
       "      <td>88868c98beb65cedd2e073869e0ca44e</td>\n",
       "      <td>NaN</td>\n",
       "      <td>5e6931317d8b77aef4bc94faa1ac9164</td>\n",
       "      <td>NaN</td>\n",
       "      <td>1a7cff01707d9946440f2787cfb74afa</td>\n",
       "      <td>6</td>\n",
       "      <td>e6705560085199e9674cd721ee844d0d</td>\n",
       "    </tr>\n",
       "    <tr>\n",
       "      <th>45251</th>\n",
       "      <td>2015-09-13 19:12:14.000000</td>\n",
       "      <td>B</td>\n",
       "      <td>19db767f8a848d622b9b1ee9cfa558f0</td>\n",
       "      <td>NaN</td>\n",
       "      <td>71f6c8fa88ea253dc7d500562459b266</td>\n",
       "      <td>NaN</td>\n",
       "      <td>a6a3fe205e73b553fb2eabc43bf62b48</td>\n",
       "      <td>5</td>\n",
       "      <td>e6705560085199e9674cd721ee844d0d</td>\n",
       "    </tr>\n",
       "    <tr>\n",
       "      <th>24966</th>\n",
       "      <td>2015-09-16 10:01:55.000000</td>\n",
       "      <td>B</td>\n",
       "      <td>9b06c08e9af17ccc5736271c88cfb790</td>\n",
       "      <td>NaN</td>\n",
       "      <td>7cbf655c5ae962ff0db6ed52ac055d3b</td>\n",
       "      <td>NaN</td>\n",
       "      <td>44cf34f43cbbcb4ed4553d483be40c10</td>\n",
       "      <td>10</td>\n",
       "      <td>8ef4fd9e60ef979b27a7ce3487dce62d</td>\n",
       "    </tr>\n",
       "    <tr>\n",
       "      <th>25298</th>\n",
       "      <td>2015-09-13 16:55:39.000000</td>\n",
       "      <td>B</td>\n",
       "      <td>837603ca10bc2e18a83aec81bea81aab</td>\n",
       "      <td>NaN</td>\n",
       "      <td>f2e214b43c2e192afc18d15a118357d7</td>\n",
       "      <td>NaN</td>\n",
       "      <td>d9029e0f9e71194979cb76411cd145a7</td>\n",
       "      <td>2</td>\n",
       "      <td>e6705560085199e9674cd721ee844d0d</td>\n",
       "    </tr>\n",
       "    <tr>\n",
       "      <th>27456</th>\n",
       "      <td>2015-09-15 20:35:05.000000</td>\n",
       "      <td>B</td>\n",
       "      <td>b4f00726ee2d79fe7fb0ef6d317e6d15</td>\n",
       "      <td>NaN</td>\n",
       "      <td>aee5b8ccc16c4deae1fa2f3dc0bccaf9</td>\n",
       "      <td>NaN</td>\n",
       "      <td>c7829cc1666b00b3b84b4757a9decea6</td>\n",
       "      <td>11</td>\n",
       "      <td>e6705560085199e9674cd721ee844d0d</td>\n",
       "    </tr>\n",
       "    <tr>\n",
       "      <th>44453</th>\n",
       "      <td>2015-09-13 11:40:49.000000</td>\n",
       "      <td>B</td>\n",
       "      <td>7cc98331ddb8ccffe464455f3df763d9</td>\n",
       "      <td>NaN</td>\n",
       "      <td>85b4d657bc09616e16a4de0ecd8ffdf1</td>\n",
       "      <td>NaN</td>\n",
       "      <td>2f7a2637242f54d9c78427203fdb962e</td>\n",
       "      <td>3</td>\n",
       "      <td>c6fbacc5cab7e134c9db2a4bbfcc5b64</td>\n",
       "    </tr>\n",
       "    <tr>\n",
       "      <th>36298</th>\n",
       "      <td>2015-09-14 15:47:58.000000</td>\n",
       "      <td>A</td>\n",
       "      <td>12da84be1fbccae286c895c3aaf616e7</td>\n",
       "      <td>NaN</td>\n",
       "      <td>b21681e22460f72154e70880e5143ad2</td>\n",
       "      <td>NaN</td>\n",
       "      <td>a2687134e8d379940b8a77ce44d76518</td>\n",
       "      <td>8</td>\n",
       "      <td>29b5d0e91de8f84cbb829977dfb8f4a3</td>\n",
       "    </tr>\n",
       "    <tr>\n",
       "      <th>14961</th>\n",
       "      <td>2015-09-15 20:55:41.000000</td>\n",
       "      <td>B</td>\n",
       "      <td>f9e4306b064810d3fd3b4846fc5313b6</td>\n",
       "      <td>NaN</td>\n",
       "      <td>c23c15ef693590cfc62e8d59ab754369</td>\n",
       "      <td>NaN</td>\n",
       "      <td>08099bab6f63d2580b4578d166fab7eb</td>\n",
       "      <td>5</td>\n",
       "      <td>ea9f1e9302826b93f5ac1898375fbc38</td>\n",
       "    </tr>\n",
       "  </tbody>\n",
       "</table>\n",
       "</div>"
      ],
      "text/plain": [
       "           order_created_datetime brand_name  \\\n",
       "55334  2015-09-14 15:32:24.000000          B   \n",
       "13939  2015-09-14 09:32:04.000000          B   \n",
       "38102  2015-09-14 09:10:01.000000          B   \n",
       "45251  2015-09-13 19:12:14.000000          B   \n",
       "24966  2015-09-16 10:01:55.000000          B   \n",
       "25298  2015-09-13 16:55:39.000000          B   \n",
       "27456  2015-09-15 20:35:05.000000          B   \n",
       "44453  2015-09-13 11:40:49.000000          B   \n",
       "36298  2015-09-14 15:47:58.000000          A   \n",
       "14961  2015-09-15 20:55:41.000000          B   \n",
       "\n",
       "                                rest_id batched_with_order_id  \\\n",
       "55334  6ac1b8fed2910f79982117e6cd3c3ad3                   NaN   \n",
       "13939  16a7bc2da1ef26f1fb9221c155a4a8f2                   NaN   \n",
       "38102  88868c98beb65cedd2e073869e0ca44e                   NaN   \n",
       "45251  19db767f8a848d622b9b1ee9cfa558f0                   NaN   \n",
       "24966  9b06c08e9af17ccc5736271c88cfb790                   NaN   \n",
       "25298  837603ca10bc2e18a83aec81bea81aab                   NaN   \n",
       "27456  b4f00726ee2d79fe7fb0ef6d317e6d15                   NaN   \n",
       "44453  7cc98331ddb8ccffe464455f3df763d9                   NaN   \n",
       "36298  12da84be1fbccae286c895c3aaf616e7                   NaN   \n",
       "14961  f9e4306b064810d3fd3b4846fc5313b6                   NaN   \n",
       "\n",
       "                               order_id  first_in_multiorder_flg  \\\n",
       "55334  c0297cfd90c93d215e12710eb3ca2075                      NaN   \n",
       "13939  159cc4cbba2ca6a369da7b8ee6392287                      NaN   \n",
       "38102  5e6931317d8b77aef4bc94faa1ac9164                      NaN   \n",
       "45251  71f6c8fa88ea253dc7d500562459b266                      NaN   \n",
       "24966  7cbf655c5ae962ff0db6ed52ac055d3b                      NaN   \n",
       "25298  f2e214b43c2e192afc18d15a118357d7                      NaN   \n",
       "27456  aee5b8ccc16c4deae1fa2f3dc0bccaf9                      NaN   \n",
       "44453  85b4d657bc09616e16a4de0ecd8ffdf1                      NaN   \n",
       "36298  b21681e22460f72154e70880e5143ad2                      NaN   \n",
       "14961  c23c15ef693590cfc62e8d59ab754369                      NaN   \n",
       "\n",
       "                             courier_id  order_items_cnt  \\\n",
       "55334  c2f92caeda4e57703bd9b8b9fb5a9418                1   \n",
       "13939  455c17bdc5f3258cf42ac0372df5b71f                3   \n",
       "38102  1a7cff01707d9946440f2787cfb74afa                6   \n",
       "45251  a6a3fe205e73b553fb2eabc43bf62b48                5   \n",
       "24966  44cf34f43cbbcb4ed4553d483be40c10               10   \n",
       "25298  d9029e0f9e71194979cb76411cd145a7                2   \n",
       "27456  c7829cc1666b00b3b84b4757a9decea6               11   \n",
       "44453  2f7a2637242f54d9c78427203fdb962e                3   \n",
       "36298  a2687134e8d379940b8a77ce44d76518                8   \n",
       "14961  08099bab6f63d2580b4578d166fab7eb                5   \n",
       "\n",
       "                                   city  \n",
       "55334  4805ee58a2d975322bda9710e2116a17  \n",
       "13939  e6705560085199e9674cd721ee844d0d  \n",
       "38102  e6705560085199e9674cd721ee844d0d  \n",
       "45251  e6705560085199e9674cd721ee844d0d  \n",
       "24966  8ef4fd9e60ef979b27a7ce3487dce62d  \n",
       "25298  e6705560085199e9674cd721ee844d0d  \n",
       "27456  e6705560085199e9674cd721ee844d0d  \n",
       "44453  c6fbacc5cab7e134c9db2a4bbfcc5b64  \n",
       "36298  29b5d0e91de8f84cbb829977dfb8f4a3  \n",
       "14961  ea9f1e9302826b93f5ac1898375fbc38  "
      ]
     },
     "execution_count": 76,
     "metadata": {},
     "output_type": "execute_result"
    }
   ],
   "source": [
    "df.sample(10)"
   ]
  },
  {
   "cell_type": "markdown",
   "metadata": {
    "id": "MyH4PIVDwCna"
   },
   "source": []
  },
  {
   "cell_type": "code",
   "execution_count": 77,
   "metadata": {
    "colab": {
     "base_uri": "https://localhost:8080/"
    },
    "id": "0yzxg052te-Y",
    "outputId": "e1e0b2d1-a3ba-48a5-a989-270f1e19fb33"
   },
   "outputs": [
    {
     "name": "stdout",
     "output_type": "stream",
     "text": [
      "<class 'pandas.core.frame.DataFrame'>\n",
      "RangeIndex: 66464 entries, 0 to 66463\n",
      "Data columns (total 9 columns):\n",
      " #   Column                   Non-Null Count  Dtype  \n",
      "---  ------                   --------------  -----  \n",
      " 0   order_created_datetime   66464 non-null  object \n",
      " 1   brand_name               66464 non-null  object \n",
      " 2   rest_id                  66464 non-null  object \n",
      " 3   batched_with_order_id    442 non-null    object \n",
      " 4   order_id                 66464 non-null  object \n",
      " 5   first_in_multiorder_flg  442 non-null    float64\n",
      " 6   courier_id               66202 non-null  object \n",
      " 7   order_items_cnt          66464 non-null  int64  \n",
      " 8   city                     66464 non-null  object \n",
      "dtypes: float64(1), int64(1), object(7)\n",
      "memory usage: 4.6+ MB\n"
     ]
    }
   ],
   "source": [
    "df.info()"
   ]
  },
  {
   "cell_type": "markdown",
   "metadata": {
    "id": "zm8QEe1zwWDA"
   },
   "source": [
    "### В датасете 9 столбцов. Из них:\n",
    "* 2 числовых\n",
    "* 7 текстовых\n",
    "\n",
    "В данных пости нет пропусков за исключеним столбцов \"first_in_multiorder_flg\" и \"order_items_cnt\" - в них по 442 записи. Возможно это - обучающая выборка. \n",
    "\n",
    "В столбце \"courier_id\" тоже есть несколько пропксков. Но, судя по названию это номер курьера - можно заменить любым значением."
   ]
  },
  {
   "cell_type": "markdown",
   "metadata": {
    "id": "_KfZog5wx328"
   },
   "source": [
    "## Шаг 3. Посмотрим на наши столбцы более пристально"
   ]
  },
  {
   "cell_type": "markdown",
   "metadata": {
    "id": "dilwGJzEyWK_"
   },
   "source": [
    "### Шаг 3.1 order_created_datetime\n",
    "В столбце записано время создания заказа.\n",
    "Формат такстовый переведем в datetime"
   ]
  },
  {
   "cell_type": "code",
   "execution_count": 78,
   "metadata": {
    "colab": {
     "base_uri": "https://localhost:8080/",
     "height": 35
    },
    "id": "KnBWibrKyHee",
    "outputId": "bb85b954-5628-40a0-cf02-77890e24fa11"
   },
   "outputs": [
    {
     "data": {
      "text/plain": [
       "'2015-09-13 00:00:05.000000'"
      ]
     },
     "execution_count": 78,
     "metadata": {},
     "output_type": "execute_result"
    }
   ],
   "source": [
    "df.order_created_datetime.min()"
   ]
  },
  {
   "cell_type": "code",
   "execution_count": 79,
   "metadata": {
    "colab": {
     "base_uri": "https://localhost:8080/",
     "height": 35
    },
    "id": "WQpQJ5jszMrF",
    "outputId": "bda4a1ef-51d5-4fc4-991e-38bbf4a3e636"
   },
   "outputs": [
    {
     "data": {
      "text/plain": [
       "'2015-09-16 10:56:59.000000'"
      ]
     },
     "execution_count": 79,
     "metadata": {},
     "output_type": "execute_result"
    }
   ],
   "source": [
    "df.order_created_datetime.max()"
   ]
  },
  {
   "cell_type": "markdown",
   "metadata": {
    "id": "6R68s4iqzgXw"
   },
   "source": [
    "В столбце данные за три с половиной дня.\n",
    "\n",
    "С 13 сентября ВОСКРЕСЕНЬЯ по 16 сентября СРЕДУ 2015 года. \n",
    "\n",
    "Выходные попадают воскресеньем. Может это надо будет учесть в дальнейшем.\n",
    "\n",
    "UPD. Данные изменены, так что, не смотрим на дни недели."
   ]
  },
  {
   "cell_type": "markdown",
   "metadata": {
    "id": "nj8ZcKDd0mua"
   },
   "source": [
    "### Шаг 3.2 brand_name"
   ]
  },
  {
   "cell_type": "code",
   "execution_count": 80,
   "metadata": {
    "colab": {
     "base_uri": "https://localhost:8080/"
    },
    "id": "fkCWiF1p0nyN",
    "outputId": "58678f85-1073-428b-c576-387317522ec0"
   },
   "outputs": [
    {
     "data": {
      "text/plain": [
       "B    56835\n",
       "A     9629\n",
       "Name: brand_name, dtype: int64"
      ]
     },
     "execution_count": 80,
     "metadata": {},
     "output_type": "execute_result"
    }
   ],
   "source": [
    "df.brand_name.value_counts()"
   ]
  },
  {
   "cell_type": "markdown",
   "metadata": {
    "id": "b-xURotT1gnf"
   },
   "source": [
    "Ага. Тут два значения A и B.\n",
    "Видимо по ним отберем обучающую выборку."
   ]
  },
  {
   "cell_type": "markdown",
   "metadata": {
    "id": "ShLBRbxn28wi"
   },
   "source": [
    "## Шаг 3.3 rest_id"
   ]
  },
  {
   "cell_type": "code",
   "execution_count": 81,
   "metadata": {
    "colab": {
     "base_uri": "https://localhost:8080/"
    },
    "id": "bBTylBN4toaO",
    "outputId": "0827a10f-f933-4129-ef7d-3c38b4c0b018"
   },
   "outputs": [
    {
     "data": {
      "text/plain": [
       "7cc98331ddb8ccffe464455f3df763d9    606\n",
       "c990b25894426c0ac4767680c5951ab2    604\n",
       "cdfe9bf9a7d4f3a8d6fed9d032e26e7e    511\n",
       "0d12507f6de6125f6288915c7dd06783    482\n",
       "d9e5f2bf350b61f1c2cc15f044bda13d    477\n",
       "                                   ... \n",
       "e669eb8e583c5cf61df563b189f978bb      1\n",
       "58362b85407562242fe2cb66cde31c9a      1\n",
       "dafa9414bfd7c5d724966213b4ca38c9      1\n",
       "0681bec9a7c69c0053a30e160b568240      1\n",
       "9defb7ad40926d020419ba2b1c393bd1      1\n",
       "Name: rest_id, Length: 1098, dtype: int64"
      ]
     },
     "execution_count": 81,
     "metadata": {},
     "output_type": "execute_result"
    }
   ],
   "source": [
    "df.rest_id.value_counts()"
   ]
  },
  {
   "cell_type": "markdown",
   "metadata": {
    "id": "vALY7P_s3Om2"
   },
   "source": [
    "У нас в выбоке 1098 уникальных ресторана"
   ]
  },
  {
   "cell_type": "markdown",
   "metadata": {
    "id": "OqU2t4Ey4Tw9"
   },
   "source": [
    "## Шаг 3.4 batched_with_order_id"
   ]
  },
  {
   "cell_type": "code",
   "execution_count": 83,
   "metadata": {
    "colab": {
     "base_uri": "https://localhost:8080/"
    },
    "id": "6i9mMzcZ5nPg",
    "outputId": "784082bd-a5c8-4280-e209-826de3fb9bd8"
   },
   "outputs": [
    {
     "data": {
      "text/plain": [
       "095c886613a6480c8bbe5e32c48a146d    1\n",
       "095c74f8edd6dc3e8dce39e8f325a908    1\n",
       "7c8e9cab946ee6235b60af8101d66fd3    1\n",
       "f44e1d45a5c56382f187020506f3e19b    1\n",
       "949211dd9049bbfa4e66bae30cc1b859    1\n",
       "                                   ..\n",
       "c05ac5763ca7efadde532f2930dc8963    1\n",
       "38114f43b317b925c2847f8d79e41d3f    1\n",
       "e0afdf0b2bc0f617a3181d7d5bacf9be    1\n",
       "d8230247eb6a7ce1c0fbd0217b0224d2    1\n",
       "4d225c3fbdf5a80191a5c842f3a2f848    1\n",
       "Name: batched_with_order_id, Length: 442, dtype: int64"
      ]
     },
     "execution_count": 83,
     "metadata": {},
     "output_type": "execute_result"
    }
   ],
   "source": [
    "df[df.brand_name == 'A'].batched_with_order_id.value_counts()"
   ]
  },
  {
   "cell_type": "markdown",
   "metadata": {
    "id": "w4WYNTs48_7d"
   },
   "source": [
    "## Шаг 3.5 order_id"
   ]
  },
  {
   "cell_type": "code",
   "execution_count": 84,
   "metadata": {
    "colab": {
     "base_uri": "https://localhost:8080/"
    },
    "id": "KyTpngsn9ING",
    "outputId": "9342fe1e-19ec-4a26-8424-d762be394e17"
   },
   "outputs": [
    {
     "data": {
      "text/plain": [
       "09d73892c20580b092fdd2059bc334c4    1\n",
       "2351a1284143cd466e1870bc0c1de889    1\n",
       "e3d0b5edc3aff1d2f58d55630a3dffae    1\n",
       "160bede0d0f8403ff9cfc7917f5284a4    1\n",
       "8d9628482c034bfb77623571dae7e944    1\n",
       "                                   ..\n",
       "73d1bc528d8c5368b2fe86b670b67f71    1\n",
       "5b608de3bf2b7e1c4db8d77d457c7b89    1\n",
       "d37faa50e2b7a70515961106f0a55a9c    1\n",
       "8b87e750b9b85696e15afa40aa6b45f6    1\n",
       "c98cc367614ee855585b5973d6a8fee9    1\n",
       "Name: order_id, Length: 66464, dtype: int64"
      ]
     },
     "execution_count": 84,
     "metadata": {},
     "output_type": "execute_result"
    }
   ],
   "source": [
    "df.order_id.value_counts()"
   ]
  },
  {
   "cell_type": "code",
   "execution_count": 85,
   "metadata": {
    "colab": {
     "base_uri": "https://localhost:8080/",
     "height": 590
    },
    "id": "F7rXaMn-BYAH",
    "outputId": "0c0e3d0c-b3cc-4919-e94e-b2d8935f0f73"
   },
   "outputs": [
    {
     "data": {
      "text/html": [
       "<div>\n",
       "<style scoped>\n",
       "    .dataframe tbody tr th:only-of-type {\n",
       "        vertical-align: middle;\n",
       "    }\n",
       "\n",
       "    .dataframe tbody tr th {\n",
       "        vertical-align: top;\n",
       "    }\n",
       "\n",
       "    .dataframe thead th {\n",
       "        text-align: right;\n",
       "    }\n",
       "</style>\n",
       "<table border=\"1\" class=\"dataframe\">\n",
       "  <thead>\n",
       "    <tr style=\"text-align: right;\">\n",
       "      <th></th>\n",
       "      <th>order_created_datetime</th>\n",
       "      <th>brand_name</th>\n",
       "      <th>rest_id</th>\n",
       "      <th>batched_with_order_id</th>\n",
       "      <th>order_id</th>\n",
       "      <th>first_in_multiorder_flg</th>\n",
       "      <th>courier_id</th>\n",
       "      <th>order_items_cnt</th>\n",
       "      <th>city</th>\n",
       "    </tr>\n",
       "  </thead>\n",
       "  <tbody>\n",
       "    <tr>\n",
       "      <th>257</th>\n",
       "      <td>2015-09-13 17:37:08.000000</td>\n",
       "      <td>A</td>\n",
       "      <td>8da96a16838351f6f096d45a4e159f4d</td>\n",
       "      <td>89164b34e9d20a1c1918d156ca7c2b1e</td>\n",
       "      <td>9f8fb710b29202ac3dc36a6712186de4</td>\n",
       "      <td>0.0</td>\n",
       "      <td>2644231e976679c41b15a11524a4e530</td>\n",
       "      <td>8</td>\n",
       "      <td>e6705560085199e9674cd721ee844d0d</td>\n",
       "    </tr>\n",
       "    <tr>\n",
       "      <th>435</th>\n",
       "      <td>2015-09-13 11:18:49.000000</td>\n",
       "      <td>A</td>\n",
       "      <td>b3bf2fc20c4646298c05716fbe1aa135</td>\n",
       "      <td>afc4c403cc654734538b007fdbc87664</td>\n",
       "      <td>d887b9731cf06e5dd77623ef5ad56cd8</td>\n",
       "      <td>0.0</td>\n",
       "      <td>8632dc891885aba8e572522dedc7572f</td>\n",
       "      <td>3</td>\n",
       "      <td>e6705560085199e9674cd721ee844d0d</td>\n",
       "    </tr>\n",
       "    <tr>\n",
       "      <th>526</th>\n",
       "      <td>2015-09-15 11:55:03.000000</td>\n",
       "      <td>A</td>\n",
       "      <td>2acb4a3db77b139dda1cd6bcbbfd4b8e</td>\n",
       "      <td>986941e665d646910d432b5f48f9b94c</td>\n",
       "      <td>fd0dde82caff2d709ac803c8872fd1e9</td>\n",
       "      <td>0.0</td>\n",
       "      <td>7e8de661602e618fe8cb16c8b3e02a95</td>\n",
       "      <td>3</td>\n",
       "      <td>e6705560085199e9674cd721ee844d0d</td>\n",
       "    </tr>\n",
       "    <tr>\n",
       "      <th>684</th>\n",
       "      <td>2015-09-15 17:36:03.000000</td>\n",
       "      <td>A</td>\n",
       "      <td>525505123c94df09ef5b5614e4afe7b2</td>\n",
       "      <td>d469fe73826b9b3f1a3ee58869d91757</td>\n",
       "      <td>b4e39b3e84e81f1ea34c353896ff6853</td>\n",
       "      <td>0.0</td>\n",
       "      <td>876e5276f463736bf52fc540664fd02e</td>\n",
       "      <td>5</td>\n",
       "      <td>e6705560085199e9674cd721ee844d0d</td>\n",
       "    </tr>\n",
       "    <tr>\n",
       "      <th>717</th>\n",
       "      <td>2015-09-13 17:08:07.000000</td>\n",
       "      <td>A</td>\n",
       "      <td>680fee36fb26805d3bf7af52cdb44f0f</td>\n",
       "      <td>831b2771564b022030ce699e6807ab03</td>\n",
       "      <td>6efbee90330a0bced1f7938a2e209054</td>\n",
       "      <td>0.0</td>\n",
       "      <td>8a2d57b71452eed5c78c3f81ee2999d2</td>\n",
       "      <td>3</td>\n",
       "      <td>e6705560085199e9674cd721ee844d0d</td>\n",
       "    </tr>\n",
       "    <tr>\n",
       "      <th>...</th>\n",
       "      <td>...</td>\n",
       "      <td>...</td>\n",
       "      <td>...</td>\n",
       "      <td>...</td>\n",
       "      <td>...</td>\n",
       "      <td>...</td>\n",
       "      <td>...</td>\n",
       "      <td>...</td>\n",
       "      <td>...</td>\n",
       "    </tr>\n",
       "    <tr>\n",
       "      <th>65377</th>\n",
       "      <td>2015-09-14 14:40:35.000000</td>\n",
       "      <td>A</td>\n",
       "      <td>974d115d8040e56fcac9638bd33e1731</td>\n",
       "      <td>bdb29739e550cd9bce8d0b2e07b6f33b</td>\n",
       "      <td>759928f3b5075cf0eea68cc97d17cf06</td>\n",
       "      <td>1.0</td>\n",
       "      <td>88750b500f3f628d7d85b352f6113736</td>\n",
       "      <td>2</td>\n",
       "      <td>e6705560085199e9674cd721ee844d0d</td>\n",
       "    </tr>\n",
       "    <tr>\n",
       "      <th>65416</th>\n",
       "      <td>2015-09-14 14:35:20.000000</td>\n",
       "      <td>A</td>\n",
       "      <td>974d115d8040e56fcac9638bd33e1731</td>\n",
       "      <td>759928f3b5075cf0eea68cc97d17cf06</td>\n",
       "      <td>bdb29739e550cd9bce8d0b2e07b6f33b</td>\n",
       "      <td>0.0</td>\n",
       "      <td>88750b500f3f628d7d85b352f6113736</td>\n",
       "      <td>7</td>\n",
       "      <td>e6705560085199e9674cd721ee844d0d</td>\n",
       "    </tr>\n",
       "    <tr>\n",
       "      <th>65456</th>\n",
       "      <td>2015-09-15 16:35:20.000000</td>\n",
       "      <td>A</td>\n",
       "      <td>b3bf2fc20c4646298c05716fbe1aa135</td>\n",
       "      <td>f67eb84cf826ea33988019b56cf99b6b</td>\n",
       "      <td>517d0dcde489a94e594d2c028dbcb84a</td>\n",
       "      <td>1.0</td>\n",
       "      <td>310b2378b5bf2b9f7046c70c3082103d</td>\n",
       "      <td>3</td>\n",
       "      <td>e6705560085199e9674cd721ee844d0d</td>\n",
       "    </tr>\n",
       "    <tr>\n",
       "      <th>65595</th>\n",
       "      <td>2015-09-14 23:25:22.000000</td>\n",
       "      <td>A</td>\n",
       "      <td>b3bf2fc20c4646298c05716fbe1aa135</td>\n",
       "      <td>0e0984a5a2019591d54af8bde172e75b</td>\n",
       "      <td>a91a73cc77884c0c594d0a600aa0fe5b</td>\n",
       "      <td>0.0</td>\n",
       "      <td>d41ff061323280cf0cebd9adb7a0755e</td>\n",
       "      <td>5</td>\n",
       "      <td>e6705560085199e9674cd721ee844d0d</td>\n",
       "    </tr>\n",
       "    <tr>\n",
       "      <th>65893</th>\n",
       "      <td>2015-09-13 16:10:19.000000</td>\n",
       "      <td>A</td>\n",
       "      <td>485498fd82fb0d82fd89da0b8af280d4</td>\n",
       "      <td>472daa3056f5a59dc94f86290390e802</td>\n",
       "      <td>570125290d88158a8e02b7663f09363e</td>\n",
       "      <td>0.0</td>\n",
       "      <td>3f3c902e25018700cacecf38f5414e45</td>\n",
       "      <td>4</td>\n",
       "      <td>e6705560085199e9674cd721ee844d0d</td>\n",
       "    </tr>\n",
       "  </tbody>\n",
       "</table>\n",
       "<p>442 rows × 9 columns</p>\n",
       "</div>"
      ],
      "text/plain": [
       "           order_created_datetime brand_name  \\\n",
       "257    2015-09-13 17:37:08.000000          A   \n",
       "435    2015-09-13 11:18:49.000000          A   \n",
       "526    2015-09-15 11:55:03.000000          A   \n",
       "684    2015-09-15 17:36:03.000000          A   \n",
       "717    2015-09-13 17:08:07.000000          A   \n",
       "...                           ...        ...   \n",
       "65377  2015-09-14 14:40:35.000000          A   \n",
       "65416  2015-09-14 14:35:20.000000          A   \n",
       "65456  2015-09-15 16:35:20.000000          A   \n",
       "65595  2015-09-14 23:25:22.000000          A   \n",
       "65893  2015-09-13 16:10:19.000000          A   \n",
       "\n",
       "                                rest_id             batched_with_order_id  \\\n",
       "257    8da96a16838351f6f096d45a4e159f4d  89164b34e9d20a1c1918d156ca7c2b1e   \n",
       "435    b3bf2fc20c4646298c05716fbe1aa135  afc4c403cc654734538b007fdbc87664   \n",
       "526    2acb4a3db77b139dda1cd6bcbbfd4b8e  986941e665d646910d432b5f48f9b94c   \n",
       "684    525505123c94df09ef5b5614e4afe7b2  d469fe73826b9b3f1a3ee58869d91757   \n",
       "717    680fee36fb26805d3bf7af52cdb44f0f  831b2771564b022030ce699e6807ab03   \n",
       "...                                 ...                               ...   \n",
       "65377  974d115d8040e56fcac9638bd33e1731  bdb29739e550cd9bce8d0b2e07b6f33b   \n",
       "65416  974d115d8040e56fcac9638bd33e1731  759928f3b5075cf0eea68cc97d17cf06   \n",
       "65456  b3bf2fc20c4646298c05716fbe1aa135  f67eb84cf826ea33988019b56cf99b6b   \n",
       "65595  b3bf2fc20c4646298c05716fbe1aa135  0e0984a5a2019591d54af8bde172e75b   \n",
       "65893  485498fd82fb0d82fd89da0b8af280d4  472daa3056f5a59dc94f86290390e802   \n",
       "\n",
       "                               order_id  first_in_multiorder_flg  \\\n",
       "257    9f8fb710b29202ac3dc36a6712186de4                      0.0   \n",
       "435    d887b9731cf06e5dd77623ef5ad56cd8                      0.0   \n",
       "526    fd0dde82caff2d709ac803c8872fd1e9                      0.0   \n",
       "684    b4e39b3e84e81f1ea34c353896ff6853                      0.0   \n",
       "717    6efbee90330a0bced1f7938a2e209054                      0.0   \n",
       "...                                 ...                      ...   \n",
       "65377  759928f3b5075cf0eea68cc97d17cf06                      1.0   \n",
       "65416  bdb29739e550cd9bce8d0b2e07b6f33b                      0.0   \n",
       "65456  517d0dcde489a94e594d2c028dbcb84a                      1.0   \n",
       "65595  a91a73cc77884c0c594d0a600aa0fe5b                      0.0   \n",
       "65893  570125290d88158a8e02b7663f09363e                      0.0   \n",
       "\n",
       "                             courier_id  order_items_cnt  \\\n",
       "257    2644231e976679c41b15a11524a4e530                8   \n",
       "435    8632dc891885aba8e572522dedc7572f                3   \n",
       "526    7e8de661602e618fe8cb16c8b3e02a95                3   \n",
       "684    876e5276f463736bf52fc540664fd02e                5   \n",
       "717    8a2d57b71452eed5c78c3f81ee2999d2                3   \n",
       "...                                 ...              ...   \n",
       "65377  88750b500f3f628d7d85b352f6113736                2   \n",
       "65416  88750b500f3f628d7d85b352f6113736                7   \n",
       "65456  310b2378b5bf2b9f7046c70c3082103d                3   \n",
       "65595  d41ff061323280cf0cebd9adb7a0755e                5   \n",
       "65893  3f3c902e25018700cacecf38f5414e45                4   \n",
       "\n",
       "                                   city  \n",
       "257    e6705560085199e9674cd721ee844d0d  \n",
       "435    e6705560085199e9674cd721ee844d0d  \n",
       "526    e6705560085199e9674cd721ee844d0d  \n",
       "684    e6705560085199e9674cd721ee844d0d  \n",
       "717    e6705560085199e9674cd721ee844d0d  \n",
       "...                                 ...  \n",
       "65377  e6705560085199e9674cd721ee844d0d  \n",
       "65416  e6705560085199e9674cd721ee844d0d  \n",
       "65456  e6705560085199e9674cd721ee844d0d  \n",
       "65595  e6705560085199e9674cd721ee844d0d  \n",
       "65893  e6705560085199e9674cd721ee844d0d  \n",
       "\n",
       "[442 rows x 9 columns]"
      ]
     },
     "execution_count": 85,
     "metadata": {},
     "output_type": "execute_result"
    }
   ],
   "source": [
    "df[df.batched_with_order_id.notna() == True]"
   ]
  },
  {
   "cell_type": "markdown",
   "metadata": {},
   "source": [
    "мульти заказов всего 442"
   ]
  },
  {
   "cell_type": "code",
   "execution_count": 86,
   "metadata": {
    "colab": {
     "base_uri": "https://localhost:8080/"
    },
    "id": "3MrnYHEDG92T",
    "outputId": "dc14e08c-555c-458a-cb41-fa7093d469fb"
   },
   "outputs": [
    {
     "data": {
      "text/plain": [
       "1.0    221\n",
       "0.0    221\n",
       "Name: first_in_multiorder_flg, dtype: int64"
      ]
     },
     "execution_count": 86,
     "metadata": {},
     "output_type": "execute_result"
    }
   ],
   "source": [
    "df[df.batched_with_order_id.notna() == True].first_in_multiorder_flg.value_counts()"
   ]
  },
  {
   "cell_type": "markdown",
   "metadata": {
    "id": "AHBj4fM1OuEb"
   },
   "source": [
    "### 3.7 order_items_cnt "
   ]
  },
  {
   "cell_type": "code",
   "execution_count": 89,
   "metadata": {
    "colab": {
     "base_uri": "https://localhost:8080/"
    },
    "id": "v13NMB9HPQyy",
    "outputId": "1c0b491b-7613-4b2c-ada7-7ffb782df48d"
   },
   "outputs": [
    {
     "data": {
      "text/plain": [
       "3     96\n",
       "4     79\n",
       "5     59\n",
       "2     58\n",
       "6     37\n",
       "7     35\n",
       "8     20\n",
       "1     18\n",
       "9     11\n",
       "10     8\n",
       "12     5\n",
       "13     5\n",
       "11     4\n",
       "15     4\n",
       "16     1\n",
       "14     1\n",
       "22     1\n",
       "Name: order_items_cnt, dtype: int64"
      ]
     },
     "execution_count": 89,
     "metadata": {},
     "output_type": "execute_result"
    }
   ],
   "source": [
    "df[df.batched_with_order_id.notna() == True].order_items_cnt.value_counts()"
   ]
  },
  {
   "cell_type": "raw",
   "metadata": {},
   "source": [
    "Добавляем столбец с датой и временем заказа в формате Дата."
   ]
  },
  {
   "cell_type": "code",
   "execution_count": 10,
   "metadata": {
    "id": "y3WaTXKtOOpc"
   },
   "outputs": [],
   "source": [
    "df['DateTime'] = pd.to_datetime(df['order_created_datetime'], format='%Y-%m-%d %H:%M:%S.%f') #%S%d%b%Y:%H:%M:%S.%f')"
   ]
  },
  {
   "cell_type": "code",
   "execution_count": 11,
   "metadata": {
    "id": "CoL0cKHtb_0P"
   },
   "outputs": [],
   "source": [
    "df = df.sort_values(by=['DateTime'])"
   ]
  },
  {
   "cell_type": "code",
   "execution_count": 103,
   "metadata": {
    "id": "wR2McIRpcdvp",
    "scrolled": true
   },
   "outputs": [
    {
     "data": {
      "text/html": [
       "<div>\n",
       "<style scoped>\n",
       "    .dataframe tbody tr th:only-of-type {\n",
       "        vertical-align: middle;\n",
       "    }\n",
       "\n",
       "    .dataframe tbody tr th {\n",
       "        vertical-align: top;\n",
       "    }\n",
       "\n",
       "    .dataframe thead th {\n",
       "        text-align: right;\n",
       "    }\n",
       "</style>\n",
       "<table border=\"1\" class=\"dataframe\">\n",
       "  <thead>\n",
       "    <tr style=\"text-align: right;\">\n",
       "      <th></th>\n",
       "      <th>order_created_datetime</th>\n",
       "      <th>brand_name</th>\n",
       "      <th>rest_id</th>\n",
       "      <th>batched_with_order_id</th>\n",
       "      <th>order_id</th>\n",
       "      <th>first_in_multiorder_flg</th>\n",
       "      <th>courier_id</th>\n",
       "      <th>order_items_cnt</th>\n",
       "      <th>city</th>\n",
       "      <th>DateTime</th>\n",
       "    </tr>\n",
       "  </thead>\n",
       "  <tbody>\n",
       "    <tr>\n",
       "      <th>64367</th>\n",
       "      <td>2015-09-13 00:00:05.000000</td>\n",
       "      <td>A</td>\n",
       "      <td>d1e66c75e8deec66a0aa08aefa5736aa</td>\n",
       "      <td>NaN</td>\n",
       "      <td>ffc6ecf37c8391821bda9111320f299c</td>\n",
       "      <td>NaN</td>\n",
       "      <td>d016782f2092ef2b2f943e736ececced</td>\n",
       "      <td>2</td>\n",
       "      <td>e6705560085199e9674cd721ee844d0d</td>\n",
       "      <td>2015-09-13 00:00:05</td>\n",
       "    </tr>\n",
       "    <tr>\n",
       "      <th>58676</th>\n",
       "      <td>2015-09-13 00:00:13.000000</td>\n",
       "      <td>A</td>\n",
       "      <td>39baa0eae83853d736e398093239dcd5</td>\n",
       "      <td>NaN</td>\n",
       "      <td>49d061c7882d839710443d8ac8108d7e</td>\n",
       "      <td>NaN</td>\n",
       "      <td>5b17547f825d9cf35c7853621dd842f8</td>\n",
       "      <td>7</td>\n",
       "      <td>e6705560085199e9674cd721ee844d0d</td>\n",
       "      <td>2015-09-13 00:00:13</td>\n",
       "    </tr>\n",
       "    <tr>\n",
       "      <th>11760</th>\n",
       "      <td>2015-09-13 00:00:39.000000</td>\n",
       "      <td>A</td>\n",
       "      <td>d1e66c75e8deec66a0aa08aefa5736aa</td>\n",
       "      <td>NaN</td>\n",
       "      <td>3e293d204168757552ebd7b62ea38889</td>\n",
       "      <td>NaN</td>\n",
       "      <td>d016782f2092ef2b2f943e736ececced</td>\n",
       "      <td>10</td>\n",
       "      <td>e6705560085199e9674cd721ee844d0d</td>\n",
       "      <td>2015-09-13 00:00:39</td>\n",
       "    </tr>\n",
       "    <tr>\n",
       "      <th>41675</th>\n",
       "      <td>2015-09-13 00:00:44.000000</td>\n",
       "      <td>B</td>\n",
       "      <td>69a08198a23fac8f83359e2ec23a49b6</td>\n",
       "      <td>NaN</td>\n",
       "      <td>d9f50562ab79c432e64413fcee7aeb9c</td>\n",
       "      <td>NaN</td>\n",
       "      <td>8ec5e3cc3bc59b70a0c8863b0355cc92</td>\n",
       "      <td>3</td>\n",
       "      <td>e6705560085199e9674cd721ee844d0d</td>\n",
       "      <td>2015-09-13 00:00:44</td>\n",
       "    </tr>\n",
       "    <tr>\n",
       "      <th>41533</th>\n",
       "      <td>2015-09-13 00:00:53.000000</td>\n",
       "      <td>B</td>\n",
       "      <td>69a08198a23fac8f83359e2ec23a49b6</td>\n",
       "      <td>NaN</td>\n",
       "      <td>5cc2b1699fdbeee506fb770ff77c4ff9</td>\n",
       "      <td>NaN</td>\n",
       "      <td>50c20cfed81be8a8fbcd8dc5b2e2ab76</td>\n",
       "      <td>7</td>\n",
       "      <td>e6705560085199e9674cd721ee844d0d</td>\n",
       "      <td>2015-09-13 00:00:53</td>\n",
       "    </tr>\n",
       "    <tr>\n",
       "      <th>...</th>\n",
       "      <td>...</td>\n",
       "      <td>...</td>\n",
       "      <td>...</td>\n",
       "      <td>...</td>\n",
       "      <td>...</td>\n",
       "      <td>...</td>\n",
       "      <td>...</td>\n",
       "      <td>...</td>\n",
       "      <td>...</td>\n",
       "      <td>...</td>\n",
       "    </tr>\n",
       "    <tr>\n",
       "      <th>62680</th>\n",
       "      <td>2015-09-16 10:56:45.000000</td>\n",
       "      <td>B</td>\n",
       "      <td>0596c848dec6a3c13396cc4b80f8974c</td>\n",
       "      <td>NaN</td>\n",
       "      <td>4d79146812797a87907c6f5b144596a9</td>\n",
       "      <td>NaN</td>\n",
       "      <td>4c122524cdec8e402db29fb2e7136508</td>\n",
       "      <td>9</td>\n",
       "      <td>29b5d0e91de8f84cbb829977dfb8f4a3</td>\n",
       "      <td>2015-09-16 10:56:45</td>\n",
       "    </tr>\n",
       "    <tr>\n",
       "      <th>36687</th>\n",
       "      <td>2015-09-16 10:56:48.000000</td>\n",
       "      <td>A</td>\n",
       "      <td>12da84be1fbccae286c895c3aaf616e7</td>\n",
       "      <td>NaN</td>\n",
       "      <td>aaf3bdc003bbc8dd60b8bad2045f700a</td>\n",
       "      <td>NaN</td>\n",
       "      <td>792e39d53e4317e13a99eb8a9bec19f9</td>\n",
       "      <td>2</td>\n",
       "      <td>29b5d0e91de8f84cbb829977dfb8f4a3</td>\n",
       "      <td>2015-09-16 10:56:48</td>\n",
       "    </tr>\n",
       "    <tr>\n",
       "      <th>43883</th>\n",
       "      <td>2015-09-16 10:56:53.000000</td>\n",
       "      <td>B</td>\n",
       "      <td>7cc98331ddb8ccffe464455f3df763d9</td>\n",
       "      <td>NaN</td>\n",
       "      <td>06565a86181e342c7d64b1ea788b308c</td>\n",
       "      <td>NaN</td>\n",
       "      <td>906808228a91832545f6e52a6c202739</td>\n",
       "      <td>2</td>\n",
       "      <td>c6fbacc5cab7e134c9db2a4bbfcc5b64</td>\n",
       "      <td>2015-09-16 10:56:53</td>\n",
       "    </tr>\n",
       "    <tr>\n",
       "      <th>2612</th>\n",
       "      <td>2015-09-16 10:56:57.000000</td>\n",
       "      <td>B</td>\n",
       "      <td>ce43eec08c9089152e6a8d6f2b6cc888</td>\n",
       "      <td>NaN</td>\n",
       "      <td>de69eb79833a6f417f316ab70c17ce9c</td>\n",
       "      <td>NaN</td>\n",
       "      <td>6d684c83727f7ca26516270d56d6d1f9</td>\n",
       "      <td>3</td>\n",
       "      <td>feb10fbf40476b6ca4793a84b67011cf</td>\n",
       "      <td>2015-09-16 10:56:57</td>\n",
       "    </tr>\n",
       "    <tr>\n",
       "      <th>65498</th>\n",
       "      <td>2015-09-16 10:56:59.000000</td>\n",
       "      <td>B</td>\n",
       "      <td>0437d5ccc002a15c19d89fd98c80035c</td>\n",
       "      <td>NaN</td>\n",
       "      <td>6205554e043f0d84544ef6d22eae9ad2</td>\n",
       "      <td>NaN</td>\n",
       "      <td>86a3494da03e99f76c8fba70d92173c4</td>\n",
       "      <td>1</td>\n",
       "      <td>e6705560085199e9674cd721ee844d0d</td>\n",
       "      <td>2015-09-16 10:56:59</td>\n",
       "    </tr>\n",
       "  </tbody>\n",
       "</table>\n",
       "<p>66464 rows × 10 columns</p>\n",
       "</div>"
      ],
      "text/plain": [
       "           order_created_datetime brand_name  \\\n",
       "64367  2015-09-13 00:00:05.000000          A   \n",
       "58676  2015-09-13 00:00:13.000000          A   \n",
       "11760  2015-09-13 00:00:39.000000          A   \n",
       "41675  2015-09-13 00:00:44.000000          B   \n",
       "41533  2015-09-13 00:00:53.000000          B   \n",
       "...                           ...        ...   \n",
       "62680  2015-09-16 10:56:45.000000          B   \n",
       "36687  2015-09-16 10:56:48.000000          A   \n",
       "43883  2015-09-16 10:56:53.000000          B   \n",
       "2612   2015-09-16 10:56:57.000000          B   \n",
       "65498  2015-09-16 10:56:59.000000          B   \n",
       "\n",
       "                                rest_id batched_with_order_id  \\\n",
       "64367  d1e66c75e8deec66a0aa08aefa5736aa                   NaN   \n",
       "58676  39baa0eae83853d736e398093239dcd5                   NaN   \n",
       "11760  d1e66c75e8deec66a0aa08aefa5736aa                   NaN   \n",
       "41675  69a08198a23fac8f83359e2ec23a49b6                   NaN   \n",
       "41533  69a08198a23fac8f83359e2ec23a49b6                   NaN   \n",
       "...                                 ...                   ...   \n",
       "62680  0596c848dec6a3c13396cc4b80f8974c                   NaN   \n",
       "36687  12da84be1fbccae286c895c3aaf616e7                   NaN   \n",
       "43883  7cc98331ddb8ccffe464455f3df763d9                   NaN   \n",
       "2612   ce43eec08c9089152e6a8d6f2b6cc888                   NaN   \n",
       "65498  0437d5ccc002a15c19d89fd98c80035c                   NaN   \n",
       "\n",
       "                               order_id  first_in_multiorder_flg  \\\n",
       "64367  ffc6ecf37c8391821bda9111320f299c                      NaN   \n",
       "58676  49d061c7882d839710443d8ac8108d7e                      NaN   \n",
       "11760  3e293d204168757552ebd7b62ea38889                      NaN   \n",
       "41675  d9f50562ab79c432e64413fcee7aeb9c                      NaN   \n",
       "41533  5cc2b1699fdbeee506fb770ff77c4ff9                      NaN   \n",
       "...                                 ...                      ...   \n",
       "62680  4d79146812797a87907c6f5b144596a9                      NaN   \n",
       "36687  aaf3bdc003bbc8dd60b8bad2045f700a                      NaN   \n",
       "43883  06565a86181e342c7d64b1ea788b308c                      NaN   \n",
       "2612   de69eb79833a6f417f316ab70c17ce9c                      NaN   \n",
       "65498  6205554e043f0d84544ef6d22eae9ad2                      NaN   \n",
       "\n",
       "                             courier_id  order_items_cnt  \\\n",
       "64367  d016782f2092ef2b2f943e736ececced                2   \n",
       "58676  5b17547f825d9cf35c7853621dd842f8                7   \n",
       "11760  d016782f2092ef2b2f943e736ececced               10   \n",
       "41675  8ec5e3cc3bc59b70a0c8863b0355cc92                3   \n",
       "41533  50c20cfed81be8a8fbcd8dc5b2e2ab76                7   \n",
       "...                                 ...              ...   \n",
       "62680  4c122524cdec8e402db29fb2e7136508                9   \n",
       "36687  792e39d53e4317e13a99eb8a9bec19f9                2   \n",
       "43883  906808228a91832545f6e52a6c202739                2   \n",
       "2612   6d684c83727f7ca26516270d56d6d1f9                3   \n",
       "65498  86a3494da03e99f76c8fba70d92173c4                1   \n",
       "\n",
       "                                   city            DateTime  \n",
       "64367  e6705560085199e9674cd721ee844d0d 2015-09-13 00:00:05  \n",
       "58676  e6705560085199e9674cd721ee844d0d 2015-09-13 00:00:13  \n",
       "11760  e6705560085199e9674cd721ee844d0d 2015-09-13 00:00:39  \n",
       "41675  e6705560085199e9674cd721ee844d0d 2015-09-13 00:00:44  \n",
       "41533  e6705560085199e9674cd721ee844d0d 2015-09-13 00:00:53  \n",
       "...                                 ...                 ...  \n",
       "62680  29b5d0e91de8f84cbb829977dfb8f4a3 2015-09-16 10:56:45  \n",
       "36687  29b5d0e91de8f84cbb829977dfb8f4a3 2015-09-16 10:56:48  \n",
       "43883  c6fbacc5cab7e134c9db2a4bbfcc5b64 2015-09-16 10:56:53  \n",
       "2612   feb10fbf40476b6ca4793a84b67011cf 2015-09-16 10:56:57  \n",
       "65498  e6705560085199e9674cd721ee844d0d 2015-09-16 10:56:59  \n",
       "\n",
       "[66464 rows x 10 columns]"
      ]
     },
     "execution_count": 103,
     "metadata": {},
     "output_type": "execute_result"
    }
   ],
   "source": [
    "df"
   ]
  },
  {
   "cell_type": "markdown",
   "metadata": {},
   "source": [
    "Создаём новые ДатаФреймы"
   ]
  },
  {
   "cell_type": "code",
   "execution_count": 14,
   "metadata": {
    "id": "-SAlILBgXzqD"
   },
   "outputs": [],
   "source": [
    "dfA_M = df[df.batched_with_order_id.notna() == True]"
   ]
  },
  {
   "cell_type": "code",
   "execution_count": 33,
   "metadata": {
    "id": "lVFr0hKHYO4-"
   },
   "outputs": [],
   "source": [
    "dfA = df[df.brand_name == 'A']"
   ]
  },
  {
   "cell_type": "code",
   "execution_count": 77,
   "metadata": {
    "id": "2kkuCSjQYmBA"
   },
   "outputs": [],
   "source": [
    "dfB = df[df.brand_name == 'B']"
   ]
  },
  {
   "cell_type": "code",
   "execution_count": 191,
   "metadata": {
    "colab": {
     "base_uri": "https://localhost:8080/"
    },
    "id": "WfRA0GuqYrJ-",
    "outputId": "60d1d46c-e073-4305-d142-9115d2103df1"
   },
   "outputs": [
    {
     "name": "stdout",
     "output_type": "stream",
     "text": [
      "Процент двойных заказов от общего числа заказов 2.35 %\n"
     ]
    }
   ],
   "source": [
    "A = len(dfA)\n",
    "A_M = len(dfA_M)\n",
    "percent = (A_M/2) / (A - A_M/2)\n",
    "print(\"Процент двойных заказов от общего числа заказов\", round(percent*100, 2),'%')"
   ]
  },
  {
   "cell_type": "markdown",
   "metadata": {
    "id": "doiW0YKVa7lO"
   },
   "source": [
    "## Шаг 5. Посмотрим на время заказов"
   ]
  },
  {
   "cell_type": "code",
   "execution_count": 192,
   "metadata": {
    "id": "92GG0KKJeEdc"
   },
   "outputs": [],
   "source": [
    "# Посчитаем разницу в сикундах между соседними заказами\n",
    "\n",
    "import numpy as np\n",
    "u = []\n",
    "a = -1000\n",
    "for i in dfA['DateTime']:\n",
    "  if a == -1000:\n",
    "    a = i\n",
    "    u.append(0)\n",
    "    continue\n",
    "  td = i - a\n",
    "  u.append((td / np.timedelta64(1, 's')))\n",
    "  a = i"
   ]
  },
  {
   "cell_type": "code",
   "execution_count": 193,
   "metadata": {
    "colab": {
     "base_uri": "https://localhost:8080/"
    },
    "id": "5fFsOTDAgyEr",
    "outputId": "3b9c4a72-3735-40d3-b7e4-6650f7a6e4a3"
   },
   "outputs": [
    {
     "name": "stdout",
     "output_type": "stream",
     "text": [
      "Среднее время меджу заказами в выборке А: 31.01080070620002\n"
     ]
    }
   ],
   "source": [
    "print('Среднее время меджу заказами в выборке А:', sum(u)/len(u))"
   ]
  },
  {
   "cell_type": "code",
   "execution_count": 194,
   "metadata": {},
   "outputs": [
    {
     "name": "stdout",
     "output_type": "stream",
     "text": [
      "<class 'pandas.core.frame.DataFrame'>\n",
      "Int64Index: 9629 entries, 64367 to 36687\n",
      "Data columns (total 10 columns):\n",
      " #   Column                   Non-Null Count  Dtype         \n",
      "---  ------                   --------------  -----         \n",
      " 0   order_created_datetime   9629 non-null   object        \n",
      " 1   brand_name               9629 non-null   object        \n",
      " 2   rest_id                  9629 non-null   object        \n",
      " 3   batched_with_order_id    442 non-null    object        \n",
      " 4   order_id                 9629 non-null   object        \n",
      " 5   first_in_multiorder_flg  442 non-null    float64       \n",
      " 6   courier_id               9437 non-null   object        \n",
      " 7   order_items_cnt          9629 non-null   int64         \n",
      " 8   city                     9629 non-null   object        \n",
      " 9   DateTime                 9629 non-null   datetime64[ns]\n",
      "dtypes: datetime64[ns](1), float64(1), int64(1), object(7)\n",
      "memory usage: 827.5+ KB\n"
     ]
    }
   ],
   "source": [
    "dfA.info()"
   ]
  },
  {
   "cell_type": "code",
   "execution_count": 198,
   "metadata": {
    "scrolled": true
   },
   "outputs": [
    {
     "data": {
      "text/html": [
       "<div>\n",
       "<style scoped>\n",
       "    .dataframe tbody tr th:only-of-type {\n",
       "        vertical-align: middle;\n",
       "    }\n",
       "\n",
       "    .dataframe tbody tr th {\n",
       "        vertical-align: top;\n",
       "    }\n",
       "\n",
       "    .dataframe thead th {\n",
       "        text-align: right;\n",
       "    }\n",
       "</style>\n",
       "<table border=\"1\" class=\"dataframe\">\n",
       "  <thead>\n",
       "    <tr style=\"text-align: right;\">\n",
       "      <th></th>\n",
       "      <th>order_created_datetime</th>\n",
       "      <th>brand_name</th>\n",
       "      <th>rest_id</th>\n",
       "      <th>batched_with_order_id</th>\n",
       "      <th>order_id</th>\n",
       "      <th>first_in_multiorder_flg</th>\n",
       "      <th>courier_id</th>\n",
       "      <th>order_items_cnt</th>\n",
       "      <th>city</th>\n",
       "      <th>DateTime</th>\n",
       "      <th>UNX_time</th>\n",
       "    </tr>\n",
       "  </thead>\n",
       "  <tbody>\n",
       "    <tr>\n",
       "      <th>52465</th>\n",
       "      <td>2015-09-13 04:00:11.000000</td>\n",
       "      <td>A</td>\n",
       "      <td>6c1ad5c66540b8c174ff7d9307027299</td>\n",
       "      <td>d0febfc6653fa848cf0a9fadf98261dd</td>\n",
       "      <td>931ad84269827a4c27ce66734460cdf7</td>\n",
       "      <td>0.0</td>\n",
       "      <td>a973a8d1969c72a9eb8147d995e519bf</td>\n",
       "      <td>7</td>\n",
       "      <td>e6705560085199e9674cd721ee844d0d</td>\n",
       "      <td>2015-09-13 04:00:11</td>\n",
       "      <td>1442116811</td>\n",
       "    </tr>\n",
       "    <tr>\n",
       "      <th>25870</th>\n",
       "      <td>2015-09-13 09:11:50.000000</td>\n",
       "      <td>A</td>\n",
       "      <td>8aec6c26cf9db4db10ed06e5e39681ed</td>\n",
       "      <td>04c7d89ab6b8ff72fb5868413602ddef</td>\n",
       "      <td>5ae2e25193da2000e07dc2051b5ca657</td>\n",
       "      <td>1.0</td>\n",
       "      <td>ebe67e247939ab69f7734ba1557b763d</td>\n",
       "      <td>2</td>\n",
       "      <td>e6705560085199e9674cd721ee844d0d</td>\n",
       "      <td>2015-09-13 09:11:50</td>\n",
       "      <td>1442135510</td>\n",
       "    </tr>\n",
       "    <tr>\n",
       "      <th>25804</th>\n",
       "      <td>2015-09-13 09:12:49.000000</td>\n",
       "      <td>A</td>\n",
       "      <td>8aec6c26cf9db4db10ed06e5e39681ed</td>\n",
       "      <td>5ae2e25193da2000e07dc2051b5ca657</td>\n",
       "      <td>04c7d89ab6b8ff72fb5868413602ddef</td>\n",
       "      <td>0.0</td>\n",
       "      <td>ebe67e247939ab69f7734ba1557b763d</td>\n",
       "      <td>14</td>\n",
       "      <td>e6705560085199e9674cd721ee844d0d</td>\n",
       "      <td>2015-09-13 09:12:49</td>\n",
       "      <td>1442135569</td>\n",
       "    </tr>\n",
       "    <tr>\n",
       "      <th>23945</th>\n",
       "      <td>2015-09-13 09:53:28.000000</td>\n",
       "      <td>A</td>\n",
       "      <td>707f1da36335ef7234721b49991d39c3</td>\n",
       "      <td>83044987a923b13056db64220dd548c5</td>\n",
       "      <td>287564b3ea79fef51a657c6a4237deb5</td>\n",
       "      <td>0.0</td>\n",
       "      <td>cd30a21c6bbbcc784de70aa8627be584</td>\n",
       "      <td>8</td>\n",
       "      <td>e6705560085199e9674cd721ee844d0d</td>\n",
       "      <td>2015-09-13 09:53:28</td>\n",
       "      <td>1442138008</td>\n",
       "    </tr>\n",
       "    <tr>\n",
       "      <th>23701</th>\n",
       "      <td>2015-09-13 10:00:37.000000</td>\n",
       "      <td>A</td>\n",
       "      <td>707f1da36335ef7234721b49991d39c3</td>\n",
       "      <td>287564b3ea79fef51a657c6a4237deb5</td>\n",
       "      <td>83044987a923b13056db64220dd548c5</td>\n",
       "      <td>1.0</td>\n",
       "      <td>cd30a21c6bbbcc784de70aa8627be584</td>\n",
       "      <td>5</td>\n",
       "      <td>e6705560085199e9674cd721ee844d0d</td>\n",
       "      <td>2015-09-13 10:00:37</td>\n",
       "      <td>1442138437</td>\n",
       "    </tr>\n",
       "  </tbody>\n",
       "</table>\n",
       "</div>"
      ],
      "text/plain": [
       "           order_created_datetime brand_name  \\\n",
       "52465  2015-09-13 04:00:11.000000          A   \n",
       "25870  2015-09-13 09:11:50.000000          A   \n",
       "25804  2015-09-13 09:12:49.000000          A   \n",
       "23945  2015-09-13 09:53:28.000000          A   \n",
       "23701  2015-09-13 10:00:37.000000          A   \n",
       "\n",
       "                                rest_id             batched_with_order_id  \\\n",
       "52465  6c1ad5c66540b8c174ff7d9307027299  d0febfc6653fa848cf0a9fadf98261dd   \n",
       "25870  8aec6c26cf9db4db10ed06e5e39681ed  04c7d89ab6b8ff72fb5868413602ddef   \n",
       "25804  8aec6c26cf9db4db10ed06e5e39681ed  5ae2e25193da2000e07dc2051b5ca657   \n",
       "23945  707f1da36335ef7234721b49991d39c3  83044987a923b13056db64220dd548c5   \n",
       "23701  707f1da36335ef7234721b49991d39c3  287564b3ea79fef51a657c6a4237deb5   \n",
       "\n",
       "                               order_id  first_in_multiorder_flg  \\\n",
       "52465  931ad84269827a4c27ce66734460cdf7                      0.0   \n",
       "25870  5ae2e25193da2000e07dc2051b5ca657                      1.0   \n",
       "25804  04c7d89ab6b8ff72fb5868413602ddef                      0.0   \n",
       "23945  287564b3ea79fef51a657c6a4237deb5                      0.0   \n",
       "23701  83044987a923b13056db64220dd548c5                      1.0   \n",
       "\n",
       "                             courier_id  order_items_cnt  \\\n",
       "52465  a973a8d1969c72a9eb8147d995e519bf                7   \n",
       "25870  ebe67e247939ab69f7734ba1557b763d                2   \n",
       "25804  ebe67e247939ab69f7734ba1557b763d               14   \n",
       "23945  cd30a21c6bbbcc784de70aa8627be584                8   \n",
       "23701  cd30a21c6bbbcc784de70aa8627be584                5   \n",
       "\n",
       "                                   city            DateTime    UNX_time  \n",
       "52465  e6705560085199e9674cd721ee844d0d 2015-09-13 04:00:11  1442116811  \n",
       "25870  e6705560085199e9674cd721ee844d0d 2015-09-13 09:11:50  1442135510  \n",
       "25804  e6705560085199e9674cd721ee844d0d 2015-09-13 09:12:49  1442135569  \n",
       "23945  e6705560085199e9674cd721ee844d0d 2015-09-13 09:53:28  1442138008  \n",
       "23701  e6705560085199e9674cd721ee844d0d 2015-09-13 10:00:37  1442138437  "
      ]
     },
     "execution_count": 198,
     "metadata": {},
     "output_type": "execute_result"
    }
   ],
   "source": [
    "dfA_M.head()"
   ]
  },
  {
   "cell_type": "markdown",
   "metadata": {},
   "source": [
    "На данном этапе создаю новый столбец с датой в формате UNIX. Это количество секунд, прошедших с полуночи 1 января 1970 года по часовой зоне UTC. Преимущество данного формата в его простоте: обычно это целое число. Также им удобно считать разницу между двумя датами: это будет разница двух времен в секундах."
   ]
  },
  {
   "cell_type": "code",
   "execution_count": 18,
   "metadata": {},
   "outputs": [
    {
     "name": "stderr",
     "output_type": "stream",
     "text": [
      "<ipython-input-18-ce1795b96345>:3: SettingWithCopyWarning: \n",
      "A value is trying to be set on a copy of a slice from a DataFrame.\n",
      "Try using .loc[row_indexer,col_indexer] = value instead\n",
      "\n",
      "See the caveats in the documentation: https://pandas.pydata.org/pandas-docs/stable/user_guide/indexing.html#returning-a-view-versus-a-copy\n",
      "  dfA_M['UNX_time'] = dfA_M.DateTime.astype('int64') //10**9\n"
     ]
    }
   ],
   "source": [
    "# df['UNX2'] = df.Date.astype('int64')//10**9\n",
    "# dfA_M['UNX_time'] = dfA_M.DateTime.astype('int64')//10**9\n",
    "dfA_M['UNX_time'] = dfA_M.DateTime.astype('int64') //10**9"
   ]
  },
  {
   "cell_type": "code",
   "execution_count": 212,
   "metadata": {},
   "outputs": [
    {
     "data": {
      "text/html": [
       "<div>\n",
       "<style scoped>\n",
       "    .dataframe tbody tr th:only-of-type {\n",
       "        vertical-align: middle;\n",
       "    }\n",
       "\n",
       "    .dataframe tbody tr th {\n",
       "        vertical-align: top;\n",
       "    }\n",
       "\n",
       "    .dataframe thead th {\n",
       "        text-align: right;\n",
       "    }\n",
       "</style>\n",
       "<table border=\"1\" class=\"dataframe\">\n",
       "  <thead>\n",
       "    <tr style=\"text-align: right;\">\n",
       "      <th></th>\n",
       "      <th>order_created_datetime</th>\n",
       "      <th>brand_name</th>\n",
       "      <th>rest_id</th>\n",
       "      <th>batched_with_order_id</th>\n",
       "      <th>order_id</th>\n",
       "      <th>first_in_multiorder_flg</th>\n",
       "      <th>courier_id</th>\n",
       "      <th>order_items_cnt</th>\n",
       "      <th>city</th>\n",
       "      <th>DateTime</th>\n",
       "      <th>UNX_time</th>\n",
       "    </tr>\n",
       "  </thead>\n",
       "  <tbody>\n",
       "    <tr>\n",
       "      <th>52465</th>\n",
       "      <td>2015-09-13 04:00:11.000000</td>\n",
       "      <td>A</td>\n",
       "      <td>6c1ad5c66540b8c174ff7d9307027299</td>\n",
       "      <td>d0febfc6653fa848cf0a9fadf98261dd</td>\n",
       "      <td>931ad84269827a4c27ce66734460cdf7</td>\n",
       "      <td>0.0</td>\n",
       "      <td>a973a8d1969c72a9eb8147d995e519bf</td>\n",
       "      <td>7</td>\n",
       "      <td>e6705560085199e9674cd721ee844d0d</td>\n",
       "      <td>2015-09-13 04:00:11</td>\n",
       "      <td>1442116811</td>\n",
       "    </tr>\n",
       "    <tr>\n",
       "      <th>25870</th>\n",
       "      <td>2015-09-13 09:11:50.000000</td>\n",
       "      <td>A</td>\n",
       "      <td>8aec6c26cf9db4db10ed06e5e39681ed</td>\n",
       "      <td>04c7d89ab6b8ff72fb5868413602ddef</td>\n",
       "      <td>5ae2e25193da2000e07dc2051b5ca657</td>\n",
       "      <td>1.0</td>\n",
       "      <td>ebe67e247939ab69f7734ba1557b763d</td>\n",
       "      <td>2</td>\n",
       "      <td>e6705560085199e9674cd721ee844d0d</td>\n",
       "      <td>2015-09-13 09:11:50</td>\n",
       "      <td>1442135510</td>\n",
       "    </tr>\n",
       "    <tr>\n",
       "      <th>25804</th>\n",
       "      <td>2015-09-13 09:12:49.000000</td>\n",
       "      <td>A</td>\n",
       "      <td>8aec6c26cf9db4db10ed06e5e39681ed</td>\n",
       "      <td>5ae2e25193da2000e07dc2051b5ca657</td>\n",
       "      <td>04c7d89ab6b8ff72fb5868413602ddef</td>\n",
       "      <td>0.0</td>\n",
       "      <td>ebe67e247939ab69f7734ba1557b763d</td>\n",
       "      <td>14</td>\n",
       "      <td>e6705560085199e9674cd721ee844d0d</td>\n",
       "      <td>2015-09-13 09:12:49</td>\n",
       "      <td>1442135569</td>\n",
       "    </tr>\n",
       "    <tr>\n",
       "      <th>23945</th>\n",
       "      <td>2015-09-13 09:53:28.000000</td>\n",
       "      <td>A</td>\n",
       "      <td>707f1da36335ef7234721b49991d39c3</td>\n",
       "      <td>83044987a923b13056db64220dd548c5</td>\n",
       "      <td>287564b3ea79fef51a657c6a4237deb5</td>\n",
       "      <td>0.0</td>\n",
       "      <td>cd30a21c6bbbcc784de70aa8627be584</td>\n",
       "      <td>8</td>\n",
       "      <td>e6705560085199e9674cd721ee844d0d</td>\n",
       "      <td>2015-09-13 09:53:28</td>\n",
       "      <td>1442138008</td>\n",
       "    </tr>\n",
       "    <tr>\n",
       "      <th>23701</th>\n",
       "      <td>2015-09-13 10:00:37.000000</td>\n",
       "      <td>A</td>\n",
       "      <td>707f1da36335ef7234721b49991d39c3</td>\n",
       "      <td>287564b3ea79fef51a657c6a4237deb5</td>\n",
       "      <td>83044987a923b13056db64220dd548c5</td>\n",
       "      <td>1.0</td>\n",
       "      <td>cd30a21c6bbbcc784de70aa8627be584</td>\n",
       "      <td>5</td>\n",
       "      <td>e6705560085199e9674cd721ee844d0d</td>\n",
       "      <td>2015-09-13 10:00:37</td>\n",
       "      <td>1442138437</td>\n",
       "    </tr>\n",
       "  </tbody>\n",
       "</table>\n",
       "</div>"
      ],
      "text/plain": [
       "           order_created_datetime brand_name  \\\n",
       "52465  2015-09-13 04:00:11.000000          A   \n",
       "25870  2015-09-13 09:11:50.000000          A   \n",
       "25804  2015-09-13 09:12:49.000000          A   \n",
       "23945  2015-09-13 09:53:28.000000          A   \n",
       "23701  2015-09-13 10:00:37.000000          A   \n",
       "\n",
       "                                rest_id             batched_with_order_id  \\\n",
       "52465  6c1ad5c66540b8c174ff7d9307027299  d0febfc6653fa848cf0a9fadf98261dd   \n",
       "25870  8aec6c26cf9db4db10ed06e5e39681ed  04c7d89ab6b8ff72fb5868413602ddef   \n",
       "25804  8aec6c26cf9db4db10ed06e5e39681ed  5ae2e25193da2000e07dc2051b5ca657   \n",
       "23945  707f1da36335ef7234721b49991d39c3  83044987a923b13056db64220dd548c5   \n",
       "23701  707f1da36335ef7234721b49991d39c3  287564b3ea79fef51a657c6a4237deb5   \n",
       "\n",
       "                               order_id  first_in_multiorder_flg  \\\n",
       "52465  931ad84269827a4c27ce66734460cdf7                      0.0   \n",
       "25870  5ae2e25193da2000e07dc2051b5ca657                      1.0   \n",
       "25804  04c7d89ab6b8ff72fb5868413602ddef                      0.0   \n",
       "23945  287564b3ea79fef51a657c6a4237deb5                      0.0   \n",
       "23701  83044987a923b13056db64220dd548c5                      1.0   \n",
       "\n",
       "                             courier_id  order_items_cnt  \\\n",
       "52465  a973a8d1969c72a9eb8147d995e519bf                7   \n",
       "25870  ebe67e247939ab69f7734ba1557b763d                2   \n",
       "25804  ebe67e247939ab69f7734ba1557b763d               14   \n",
       "23945  cd30a21c6bbbcc784de70aa8627be584                8   \n",
       "23701  cd30a21c6bbbcc784de70aa8627be584                5   \n",
       "\n",
       "                                   city            DateTime    UNX_time  \n",
       "52465  e6705560085199e9674cd721ee844d0d 2015-09-13 04:00:11  1442116811  \n",
       "25870  e6705560085199e9674cd721ee844d0d 2015-09-13 09:11:50  1442135510  \n",
       "25804  e6705560085199e9674cd721ee844d0d 2015-09-13 09:12:49  1442135569  \n",
       "23945  e6705560085199e9674cd721ee844d0d 2015-09-13 09:53:28  1442138008  \n",
       "23701  e6705560085199e9674cd721ee844d0d 2015-09-13 10:00:37  1442138437  "
      ]
     },
     "execution_count": 212,
     "metadata": {},
     "output_type": "execute_result"
    }
   ],
   "source": [
    "dfA_M.head()"
   ]
  },
  {
   "cell_type": "markdown",
   "metadata": {},
   "source": [
    "Закрепяем i (номер заказа), начинаем перебирать j(номер заказа который прибавили). как только находим совпадения в столбцах, вычитаем из более раннего более поздний. \n"
   ]
  },
  {
   "cell_type": "code",
   "execution_count": 19,
   "metadata": {},
   "outputs": [],
   "source": [
    "delta_time = []\n",
    "for i in range(len(dfA_M)):\n",
    "    for j in range(len(dfA_M)):\n",
    "        if (dfA_M.order_id.iloc[j] == dfA_M.batched_with_order_id.iloc[i]):\n",
    "            if (dfA_M.first_in_multiorder_flg.iloc[j] == 1.0):\n",
    "                delta_time.append(abs(dfA_M.UNX_time.iloc[j] - dfA_M.UNX_time.iloc[i]))"
   ]
  },
  {
   "cell_type": "markdown",
   "metadata": {},
   "source": [
    "delta_time - список с разницами во времени мультизаказов выраженный в секундах. "
   ]
  },
  {
   "cell_type": "code",
   "execution_count": 78,
   "metadata": {},
   "outputs": [
    {
     "data": {
      "text/plain": [
       "[59,\n",
       " 429,\n",
       " 109,\n",
       " 281,\n",
       " 505,\n",
       " 225,\n",
       " 201,\n",
       " 126,\n",
       " 329,\n",
       " 331,\n",
       " 358,\n",
       " 287,\n",
       " 99,\n",
       " 736,\n",
       " 410,\n",
       " 797,\n",
       " 340,\n",
       " 336,\n",
       " 293,\n",
       " 180,\n",
       " 211,\n",
       " 448,\n",
       " 278,\n",
       " 99,\n",
       " 503,\n",
       " 551,\n",
       " 155,\n",
       " 550,\n",
       " 560,\n",
       " 82,\n",
       " 443,\n",
       " 402,\n",
       " 239,\n",
       " 436,\n",
       " 579,\n",
       " 38,\n",
       " 52,\n",
       " 364,\n",
       " 1275,\n",
       " 46,\n",
       " 804,\n",
       " 313,\n",
       " 547,\n",
       " 30,\n",
       " 72,\n",
       " 638,\n",
       " 263,\n",
       " 589,\n",
       " 15,\n",
       " 168,\n",
       " 617,\n",
       " 788,\n",
       " 98,\n",
       " 735,\n",
       " 487,\n",
       " 140,\n",
       " 678,\n",
       " 292,\n",
       " 406,\n",
       " 159,\n",
       " 39,\n",
       " 332,\n",
       " 644,\n",
       " 567,\n",
       " 474,\n",
       " 44,\n",
       " 424,\n",
       " 694,\n",
       " 34,\n",
       " 576,\n",
       " 1125,\n",
       " 93,\n",
       " 1028,\n",
       " 173,\n",
       " 149,\n",
       " 830,\n",
       " 959,\n",
       " 1357,\n",
       " 194,\n",
       " 1222,\n",
       " 10,\n",
       " 1347,\n",
       " 1031,\n",
       " 663,\n",
       " 703,\n",
       " 541,\n",
       " 79,\n",
       " 6,\n",
       " 285,\n",
       " 814,\n",
       " 467,\n",
       " 1148,\n",
       " 912,\n",
       " 72,\n",
       " 479,\n",
       " 276,\n",
       " 248,\n",
       " 164,\n",
       " 949,\n",
       " 642,\n",
       " 166,\n",
       " 368,\n",
       " 180,\n",
       " 194,\n",
       " 148,\n",
       " 265,\n",
       " 477,\n",
       " 113,\n",
       " 548,\n",
       " 241,\n",
       " 42,\n",
       " 315,\n",
       " 630,\n",
       " 363,\n",
       " 833,\n",
       " 356,\n",
       " 481,\n",
       " 516,\n",
       " 724,\n",
       " 618,\n",
       " 607,\n",
       " 661,\n",
       " 810,\n",
       " 537,\n",
       " 124,\n",
       " 194,\n",
       " 868,\n",
       " 120,\n",
       " 12,\n",
       " 252,\n",
       " 650,\n",
       " 272,\n",
       " 653,\n",
       " 535,\n",
       " 104,\n",
       " 77,\n",
       " 224,\n",
       " 237,\n",
       " 330,\n",
       " 374,\n",
       " 1036,\n",
       " 163,\n",
       " 258,\n",
       " 155,\n",
       " 165,\n",
       " 1010,\n",
       " 365,\n",
       " 481,\n",
       " 18,\n",
       " 603,\n",
       " 515,\n",
       " 415,\n",
       " 855,\n",
       " 699,\n",
       " 603,\n",
       " 306,\n",
       " 2072,\n",
       " 75,\n",
       " 460,\n",
       " 518,\n",
       " 470,\n",
       " 599,\n",
       " 266,\n",
       " 172,\n",
       " 768,\n",
       " 333,\n",
       " 272,\n",
       " 108,\n",
       " 60,\n",
       " 538,\n",
       " 598,\n",
       " 223,\n",
       " 514,\n",
       " 547,\n",
       " 405,\n",
       " 155,\n",
       " 24,\n",
       " 208,\n",
       " 414,\n",
       " 520,\n",
       " 94,\n",
       " 327,\n",
       " 488,\n",
       " 410,\n",
       " 10,\n",
       " 2,\n",
       " 784,\n",
       " 128,\n",
       " 164,\n",
       " 875,\n",
       " 10,\n",
       " 1243,\n",
       " 279,\n",
       " 198,\n",
       " 176,\n",
       " 447,\n",
       " 388,\n",
       " 248,\n",
       " 204,\n",
       " 530,\n",
       " 670,\n",
       " 726,\n",
       " 38,\n",
       " 438,\n",
       " 393,\n",
       " 547,\n",
       " 787,\n",
       " 431,\n",
       " 410,\n",
       " 387,\n",
       " 242,\n",
       " 578,\n",
       " 198,\n",
       " 329,\n",
       " 230,\n",
       " 763,\n",
       " 328,\n",
       " 47,\n",
       " 266,\n",
       " 252]"
      ]
     },
     "execution_count": 78,
     "metadata": {},
     "output_type": "execute_result"
    }
   ],
   "source": [
    "delta_time = delta_time[1:] # удалил самый первый элемент, я хз что там такое, но он портит всю картину. \n",
    "delta_time\n"
   ]
  },
  {
   "cell_type": "markdown",
   "metadata": {},
   "source": [
    "t_multi - максимальное время за который делают мультизаказ. Если время между заказами в выборке В превышает данное значение, мульти заказ создаваться не будет. Будем его использовать как критерий "
   ]
  },
  {
   "cell_type": "code",
   "execution_count": 20,
   "metadata": {},
   "outputs": [
    {
     "data": {
      "text/plain": [
       "31188"
      ]
     },
     "execution_count": 20,
     "metadata": {},
     "output_type": "execute_result"
    }
   ],
   "source": [
    "t_multi = max(delta_time)\n",
    "t_multi"
   ]
  },
  {
   "cell_type": "markdown",
   "metadata": {},
   "source": [
    "Создаём ДатаФрейм с заказами рестранов В, сразу добавляем столбцы с Датой и временем в формате Дата и столбец с датой в формате UNIX"
   ]
  },
  {
   "cell_type": "code",
   "execution_count": 79,
   "metadata": {},
   "outputs": [
    {
     "name": "stderr",
     "output_type": "stream",
     "text": [
      "<ipython-input-79-c306c3a4c20d>:1: SettingWithCopyWarning: \n",
      "A value is trying to be set on a copy of a slice from a DataFrame.\n",
      "Try using .loc[row_indexer,col_indexer] = value instead\n",
      "\n",
      "See the caveats in the documentation: https://pandas.pydata.org/pandas-docs/stable/user_guide/indexing.html#returning-a-view-versus-a-copy\n",
      "  dfB['DateTime'] = pd.to_datetime(dfB['order_created_datetime'], format='%Y-%m-%d %H:%M:%S.%f') #%S%d%b%Y:%H:%M:%S.%f')\n",
      "<ipython-input-79-c306c3a4c20d>:2: SettingWithCopyWarning: \n",
      "A value is trying to be set on a copy of a slice from a DataFrame.\n",
      "Try using .loc[row_indexer,col_indexer] = value instead\n",
      "\n",
      "See the caveats in the documentation: https://pandas.pydata.org/pandas-docs/stable/user_guide/indexing.html#returning-a-view-versus-a-copy\n",
      "  dfB['UNX_time'] = dfB.DateTime.astype('int64') //10**9\n"
     ]
    },
    {
     "data": {
      "text/html": [
       "<div>\n",
       "<style scoped>\n",
       "    .dataframe tbody tr th:only-of-type {\n",
       "        vertical-align: middle;\n",
       "    }\n",
       "\n",
       "    .dataframe tbody tr th {\n",
       "        vertical-align: top;\n",
       "    }\n",
       "\n",
       "    .dataframe thead th {\n",
       "        text-align: right;\n",
       "    }\n",
       "</style>\n",
       "<table border=\"1\" class=\"dataframe\">\n",
       "  <thead>\n",
       "    <tr style=\"text-align: right;\">\n",
       "      <th></th>\n",
       "      <th>order_created_datetime</th>\n",
       "      <th>brand_name</th>\n",
       "      <th>rest_id</th>\n",
       "      <th>batched_with_order_id</th>\n",
       "      <th>order_id</th>\n",
       "      <th>first_in_multiorder_flg</th>\n",
       "      <th>courier_id</th>\n",
       "      <th>order_items_cnt</th>\n",
       "      <th>city</th>\n",
       "      <th>DateTime</th>\n",
       "      <th>UNX_time</th>\n",
       "    </tr>\n",
       "  </thead>\n",
       "  <tbody>\n",
       "    <tr>\n",
       "      <th>41675</th>\n",
       "      <td>2015-09-13 00:00:44.000000</td>\n",
       "      <td>B</td>\n",
       "      <td>69a08198a23fac8f83359e2ec23a49b6</td>\n",
       "      <td>NaN</td>\n",
       "      <td>d9f50562ab79c432e64413fcee7aeb9c</td>\n",
       "      <td>NaN</td>\n",
       "      <td>8ec5e3cc3bc59b70a0c8863b0355cc92</td>\n",
       "      <td>3</td>\n",
       "      <td>e6705560085199e9674cd721ee844d0d</td>\n",
       "      <td>2015-09-13 00:00:44</td>\n",
       "      <td>1442102444</td>\n",
       "    </tr>\n",
       "    <tr>\n",
       "      <th>41533</th>\n",
       "      <td>2015-09-13 00:00:53.000000</td>\n",
       "      <td>B</td>\n",
       "      <td>69a08198a23fac8f83359e2ec23a49b6</td>\n",
       "      <td>NaN</td>\n",
       "      <td>5cc2b1699fdbeee506fb770ff77c4ff9</td>\n",
       "      <td>NaN</td>\n",
       "      <td>50c20cfed81be8a8fbcd8dc5b2e2ab76</td>\n",
       "      <td>7</td>\n",
       "      <td>e6705560085199e9674cd721ee844d0d</td>\n",
       "      <td>2015-09-13 00:00:53</td>\n",
       "      <td>1442102453</td>\n",
       "    </tr>\n",
       "    <tr>\n",
       "      <th>61228</th>\n",
       "      <td>2015-09-13 00:01:47.000000</td>\n",
       "      <td>B</td>\n",
       "      <td>938cc47b8207a782316f907be53aab3c</td>\n",
       "      <td>NaN</td>\n",
       "      <td>b43251899246c62369370f143f2e73b2</td>\n",
       "      <td>NaN</td>\n",
       "      <td>4b6de04194b5a6f6ebdf6e09458eab6f</td>\n",
       "      <td>1</td>\n",
       "      <td>e6705560085199e9674cd721ee844d0d</td>\n",
       "      <td>2015-09-13 00:01:47</td>\n",
       "      <td>1442102507</td>\n",
       "    </tr>\n",
       "    <tr>\n",
       "      <th>41753</th>\n",
       "      <td>2015-09-13 00:03:43.000000</td>\n",
       "      <td>B</td>\n",
       "      <td>69a08198a23fac8f83359e2ec23a49b6</td>\n",
       "      <td>NaN</td>\n",
       "      <td>943eee04ddeee9b44635947d7c0a8f41</td>\n",
       "      <td>NaN</td>\n",
       "      <td>768f844a816657e7533495bd01bc2a80</td>\n",
       "      <td>3</td>\n",
       "      <td>e6705560085199e9674cd721ee844d0d</td>\n",
       "      <td>2015-09-13 00:03:43</td>\n",
       "      <td>1442102623</td>\n",
       "    </tr>\n",
       "    <tr>\n",
       "      <th>50735</th>\n",
       "      <td>2015-09-13 00:04:21.000000</td>\n",
       "      <td>B</td>\n",
       "      <td>d3fba5f2e58b2a4f4dc4bf94d6cc3e49</td>\n",
       "      <td>NaN</td>\n",
       "      <td>75863a090739e1b8c50747bea638639a</td>\n",
       "      <td>NaN</td>\n",
       "      <td>b30f23a13ea180021abfcb8f98d126cc</td>\n",
       "      <td>1</td>\n",
       "      <td>e6705560085199e9674cd721ee844d0d</td>\n",
       "      <td>2015-09-13 00:04:21</td>\n",
       "      <td>1442102661</td>\n",
       "    </tr>\n",
       "  </tbody>\n",
       "</table>\n",
       "</div>"
      ],
      "text/plain": [
       "           order_created_datetime brand_name  \\\n",
       "41675  2015-09-13 00:00:44.000000          B   \n",
       "41533  2015-09-13 00:00:53.000000          B   \n",
       "61228  2015-09-13 00:01:47.000000          B   \n",
       "41753  2015-09-13 00:03:43.000000          B   \n",
       "50735  2015-09-13 00:04:21.000000          B   \n",
       "\n",
       "                                rest_id batched_with_order_id  \\\n",
       "41675  69a08198a23fac8f83359e2ec23a49b6                   NaN   \n",
       "41533  69a08198a23fac8f83359e2ec23a49b6                   NaN   \n",
       "61228  938cc47b8207a782316f907be53aab3c                   NaN   \n",
       "41753  69a08198a23fac8f83359e2ec23a49b6                   NaN   \n",
       "50735  d3fba5f2e58b2a4f4dc4bf94d6cc3e49                   NaN   \n",
       "\n",
       "                               order_id  first_in_multiorder_flg  \\\n",
       "41675  d9f50562ab79c432e64413fcee7aeb9c                      NaN   \n",
       "41533  5cc2b1699fdbeee506fb770ff77c4ff9                      NaN   \n",
       "61228  b43251899246c62369370f143f2e73b2                      NaN   \n",
       "41753  943eee04ddeee9b44635947d7c0a8f41                      NaN   \n",
       "50735  75863a090739e1b8c50747bea638639a                      NaN   \n",
       "\n",
       "                             courier_id  order_items_cnt  \\\n",
       "41675  8ec5e3cc3bc59b70a0c8863b0355cc92                3   \n",
       "41533  50c20cfed81be8a8fbcd8dc5b2e2ab76                7   \n",
       "61228  4b6de04194b5a6f6ebdf6e09458eab6f                1   \n",
       "41753  768f844a816657e7533495bd01bc2a80                3   \n",
       "50735  b30f23a13ea180021abfcb8f98d126cc                1   \n",
       "\n",
       "                                   city            DateTime    UNX_time  \n",
       "41675  e6705560085199e9674cd721ee844d0d 2015-09-13 00:00:44  1442102444  \n",
       "41533  e6705560085199e9674cd721ee844d0d 2015-09-13 00:00:53  1442102453  \n",
       "61228  e6705560085199e9674cd721ee844d0d 2015-09-13 00:01:47  1442102507  \n",
       "41753  e6705560085199e9674cd721ee844d0d 2015-09-13 00:03:43  1442102623  \n",
       "50735  e6705560085199e9674cd721ee844d0d 2015-09-13 00:04:21  1442102661  "
      ]
     },
     "execution_count": 79,
     "metadata": {},
     "output_type": "execute_result"
    }
   ],
   "source": [
    "dfB['DateTime'] = pd.to_datetime(dfB['order_created_datetime'], format='%Y-%m-%d %H:%M:%S.%f') #%S%d%b%Y:%H:%M:%S.%f')\n",
    "dfB['UNX_time'] = dfB.DateTime.astype('int64') //10**9\n",
    "dfB = dfB.sort_values(by=['DateTime'])\n",
    "dfB.head()"
   ]
  },
  {
   "cell_type": "code",
   "execution_count": 80,
   "metadata": {},
   "outputs": [
    {
     "name": "stdout",
     "output_type": "stream",
     "text": [
      "251\n"
     ]
    }
   ],
   "source": [
    "multi_count_1 = 0\n",
    "for i in range(len(dfB)-1):\n",
    "    '''Перебираем строки и проверяем если номера заказов в строке и строке +1 совпадают, то сравниваем время, \n",
    "    если время в менее максимального времени в Мультизаказах ресторанов А, добавляем +1 в счeтчик'''\n",
    "    if dfB.rest_id.iloc[i] == dfB.rest_id.iloc[i+1] and (dfB.UNX_time.iloc[i] - dfB.UNX_time.iloc[i+1]) < t_multi:\n",
    "        multi_count += 1\n",
    "print(multi_count)\n",
    "            "
   ]
  },
  {
   "cell_type": "code",
   "execution_count": 85,
   "metadata": {},
   "outputs": [
    {
     "name": "stdout",
     "output_type": "stream",
     "text": [
      "276\n"
     ]
    }
   ],
   "source": [
    "multi_count_2 = 0\n",
    "rest = 0\n",
    "        \n",
    "def dfB_new():\n",
    "    '''Создаём функцию, которая создаёт ДатаФреймы по всем уникальным rest_id и сотрирует по дате в формате Юникс'''\n",
    "    for rest in dfB.rest_id.unique():\n",
    "        df_new = dfB[dfB.rest_id == rest]\n",
    "        df_new = df_new.sort_values(by=['UNX_time'])\n",
    "        return df_new\n",
    "         \n",
    "for time in range(len(dfB_new())-1):\n",
    "    '''Считаем сколько раз встречается разница во времени между заказми одного rest_id, \n",
    "    что бы собрать мультизаказ по тем же условиям по которым собирались мульти заказы в выборке А'''\n",
    "    if (dfB_new().UNX_time.iloc[time] - dfB_new().UNX_time.iloc[time+1]) < t_multi:\n",
    "        multi_count_2 += 1\n",
    "print(multi_count_2)"
   ]
  },
  {
   "cell_type": "code",
   "execution_count": 88,
   "metadata": {},
   "outputs": [
    {
     "name": "stdout",
     "output_type": "stream",
     "text": [
      "Процент двойных заказов от общего числа заказов 0.97 %\n"
     ]
    }
   ],
   "source": [
    "result_multiorder = (multi_count_2 * 2) / len(dfB)\n",
    "print(\"Процент двойных заказов от общего числа заказов\", round(result_multiorder*100, 2),'%')"
   ]
  }
 ],
 "metadata": {
  "colab": {
   "collapsed_sections": [],
   "name": "EDA-GROUP-8.ipynb",
   "provenance": []
  },
  "kernelspec": {
   "display_name": "Python 3",
   "language": "python",
   "name": "python3"
  },
  "language_info": {
   "codemirror_mode": {
    "name": "ipython",
    "version": 3
   },
   "file_extension": ".py",
   "mimetype": "text/x-python",
   "name": "python",
   "nbconvert_exporter": "python",
   "pygments_lexer": "ipython3",
   "version": "3.8.8"
  }
 },
 "nbformat": 4,
 "nbformat_minor": 1
}
