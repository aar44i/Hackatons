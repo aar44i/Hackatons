{
 "cells": [
  {
   "cell_type": "markdown",
   "metadata": {
    "id": "zyaaM9Vx1o2M"
   },
   "source": [
    "# Tools"
   ]
  },
  {
   "cell_type": "code",
   "execution_count": 1,
   "metadata": {
    "executionInfo": {
     "elapsed": 3482,
     "status": "ok",
     "timestamp": 1603727459136,
     "user": {
      "displayName": "Павел Дудукин",
      "photoUrl": "https://lh3.googleusercontent.com/a-/AOh14GjMwidJT4YV9rFcO76RaS6Wfxyck6cRFmZUZarkLg=s64",
      "userId": "12797132001216754756"
     },
     "user_tz": -180
    },
    "id": "oaC8eyDbCqLl"
   },
   "outputs": [],
   "source": [
    "from PIL import Image\n",
    "\n",
    "from os import listdir\n",
    "from os.path import isfile, join\n",
    "\n",
    "from tensorflow import keras\n",
    "from tensorflow.keras import layers\n",
    "\n",
    "import pandas as pd\n",
    "import numpy as np\n",
    "import json\n",
    "\n",
    "import matplotlib.pyplot as plt\n",
    "\n",
    "import keras, keras.layers as L\n",
    "import tensorflow as tf\n",
    "\n",
    "from keras.models import Sequential\n",
    "from keras.layers.normalization import BatchNormalization\n",
    "from keras.layers.convolutional import Conv2D\n",
    "from keras.layers.convolutional import MaxPooling2D\n",
    "from keras.layers.core import Activation, Flatten, Dropout, Dense\n",
    "from keras import backend as K\n",
    "from keras.preprocessing.image import ImageDataGenerator\n",
    "from keras.optimizers import Adam\n",
    "from keras.preprocessing import image\n",
    "from keras.preprocessing.image import img_to_array\n",
    "from sklearn.preprocessing import MultiLabelBinarizer\n",
    "from sklearn.model_selection import train_test_split"
   ]
  },
  {
   "cell_type": "markdown",
   "metadata": {
    "id": "FKHLVMe9Cp2o"
   },
   "source": [
    "# Functions"
   ]
  },
  {
   "cell_type": "code",
   "execution_count": 2,
   "metadata": {
    "executionInfo": {
     "elapsed": 687,
     "status": "ok",
     "timestamp": 1603727513702,
     "user": {
      "displayName": "Павел Дудукин",
      "photoUrl": "https://lh3.googleusercontent.com/a-/AOh14GjMwidJT4YV9rFcO76RaS6Wfxyck6cRFmZUZarkLg=s64",
      "userId": "12797132001216754756"
     },
     "user_tz": -180
    },
    "id": "BuZ9CkvBCpHc"
   },
   "outputs": [],
   "source": [
    "def convert_image_to_array(img, image_size):\n",
    "    try:\n",
    "      return np.array(img.resize((image_size, image_size), Image.ANTIALIAS))\n",
    "    except BaseException as e:\n",
    "      print('Error!')\n",
    "      print(e)\n",
    "      plt.imshow(np.array(img) / 255)"
   ]
  },
  {
   "cell_type": "markdown",
   "metadata": {
    "id": "eRsypfkI1xCY"
   },
   "source": [
    "# Get data"
   ]
  },
  {
   "cell_type": "code",
   "execution_count": 13,
   "metadata": {
    "colab": {
     "base_uri": "https://localhost:8080/",
     "height": 34
    },
    "executionInfo": {
     "elapsed": 34841,
     "status": "ok",
     "timestamp": 1603727797185,
     "user": {
      "displayName": "Павел Дудукин",
      "photoUrl": "https://lh3.googleusercontent.com/a-/AOh14GjMwidJT4YV9rFcO76RaS6Wfxyck6cRFmZUZarkLg=s64",
      "userId": "12797132001216754756"
     },
     "user_tz": -180
    },
    "id": "Ikg6SJd8_w5i",
    "outputId": "71684c46-a686-4570-be6f-38b975003d76"
   },
   "outputs": [
    {
     "name": "stdout",
     "output_type": "stream",
     "text": [
      "Mounted at /content/drive\n"
     ]
    }
   ],
   "source": [
    "from google.colab import drive\n",
    "drive.mount('/content/drive', force_remount=True)"
   ]
  },
  {
   "cell_type": "code",
   "execution_count": 15,
   "metadata": {
    "colab": {
     "base_uri": "https://localhost:8080/",
     "height": 1000
    },
    "executionInfo": {
     "elapsed": 633,
     "status": "ok",
     "timestamp": 1603727820606,
     "user": {
      "displayName": "Павел Дудукин",
      "photoUrl": "https://lh3.googleusercontent.com/a-/AOh14GjMwidJT4YV9rFcO76RaS6Wfxyck6cRFmZUZarkLg=s64",
      "userId": "12797132001216754756"
     },
     "user_tz": -180
    },
    "id": "qVOtCvKgoEqQ",
    "outputId": "afce9303-daab-4021-c77b-da18090290e0"
   },
   "outputs": [
    {
     "data": {
      "text/plain": [
       "['lemon-dataset',\n",
       " 'конкуренция (2).gsheet',\n",
       " 'Копия конкуренция.gsheet',\n",
       " 'конкуренция (1).gsheet',\n",
       " 'конкуренция.gsheet',\n",
       " 'IMG_7587.JPG',\n",
       " 'IMG_7571.JPG',\n",
       " 'IMG_7591.JPG',\n",
       " 'IMG_7589.JPG',\n",
       " 'IMG_7573.JPG',\n",
       " 'IMG_7581.JPG',\n",
       " 'IMG_7584.JPG',\n",
       " 'IMG_7583.JPG',\n",
       " 'IMG_7577.JPG',\n",
       " 'IMG_7578.JPG',\n",
       " 'IMG_7569.JPG',\n",
       " 'IMG_7582.JPG',\n",
       " 'IMG_7576.JPG',\n",
       " 'IMG_7586.JPG',\n",
       " 'IMG_7575.JPG',\n",
       " 'IMG_7588.JPG',\n",
       " 'IMG_7574.JPG',\n",
       " 'IMG_7580.JPG',\n",
       " 'IMG_7570.JPG',\n",
       " 'IMG_7572.JPG',\n",
       " 'IMG_7568.JPG',\n",
       " 'IMG_7590.JPG',\n",
       " 'IMG_7579.JPG',\n",
       " 'IMG_7585.JPG',\n",
       " 'CV_Dudukin_SPG.pdf',\n",
       " 'CL_Dudukin_SPG.pdf',\n",
       " 'Untitled document (1).gdoc',\n",
       " 'желез.иванов (11.04.14).docx',\n",
       " 'images (12).pdf',\n",
       " 'images (11).pdf',\n",
       " 'images (10).pdf',\n",
       " 'images (9).pdf',\n",
       " 'images (8).pdf',\n",
       " 'Untitled document.gdoc',\n",
       " 'images (7).pdf',\n",
       " 'images (6).pdf',\n",
       " 'images (5).pdf',\n",
       " 'images (4).pdf',\n",
       " 'images (3).pdf',\n",
       " 'images (2).pdf',\n",
       " 'images (1).pdf',\n",
       " 'images.pdf',\n",
       " 'SSRN_ID392043_code030408590.pdf',\n",
       " 'image1.PNG',\n",
       " 'Untitled map.gmap',\n",
       " 'EY_case_CollectiveNESs(2).pdf',\n",
       " 'CLR2012_sf_02.42_23.04_final.pdf',\n",
       " 'CLR-Beyond The Scope.pdf',\n",
       " 'Наш фотик',\n",
       " 'SAS in 50 minutes.pdf',\n",
       " 'hall_dzh_k_opciony_fyuchersy_i_drugie_proizvodnye_finansovye.djvu',\n",
       " 'Банкетное меню.pdf',\n",
       " 'Certification.rar',\n",
       " '20180106_154346.mp4',\n",
       " '20180106_152800.mp4',\n",
       " 'task2_ solving_.py',\n",
       " 'Screencastify',\n",
       " 'Colab Notebooks',\n",
       " 'Advanced Analytics Club Survey 2019.gform',\n",
       " 'Untitled form (Responses).gsheet',\n",
       " 'ADVANCED ANALYTICS CLUB.mp4',\n",
       " 'Dudukin Pavel_OfferLetter.pdf',\n",
       " '01.JPG',\n",
       " 'positive.csv',\n",
       " 'negative.csv',\n",
       " 'ML Course Sber 2020',\n",
       " 'PH2Dataset.rar',\n",
       " 'PH2Dataset',\n",
       " 'Kaggle_GlobalWheatDetection',\n",
       " 'Презентация без названия.gslides',\n",
       " 'Копия Модерация изображений: уроки этикета от Data Scientist’a (1).gdoc',\n",
       " 'Lemon Control Quality Dataset - описание.gdoc',\n",
       " 'мотивационное письмо_v02.gdoc',\n",
       " '11092020 Модерация изображений: уроки этикета от Data Scientist’a.gdoc',\n",
       " 'мотивационное письмо_v03.gdoc',\n",
       " 'Img premoderation models',\n",
       " 'Предсказание сх культуры.gdoc',\n",
       " 'y_preds.csv',\n",
       " 'Копия Модерация изображений: уроки этикета от Data Scientist’a.gdoc',\n",
       " 'DS Чемпионат']"
      ]
     },
     "execution_count": 15,
     "metadata": {
      "tags": []
     },
     "output_type": "execute_result"
    }
   ],
   "source": [
    "import os\n",
    "os.listdir('./drive/My Drive')"
   ]
  },
  {
   "cell_type": "code",
   "execution_count": 17,
   "metadata": {
    "executionInfo": {
     "elapsed": 8961,
     "status": "ok",
     "timestamp": 1603727870992,
     "user": {
      "displayName": "Павел Дудукин",
      "photoUrl": "https://lh3.googleusercontent.com/a-/AOh14GjMwidJT4YV9rFcO76RaS6Wfxyck6cRFmZUZarkLg=s64",
      "userId": "12797132001216754756"
     },
     "user_tz": -180
    },
    "id": "W3-B5rSo_2YB"
   },
   "outputs": [],
   "source": [
    "train_dir = 'drive/My Drive/DS Чемпионат/Качество лимонов/lemon-dataset/images/train/'\n",
    "test_dir = 'drive/My Drive/DS Чемпионат/Качество лимонов/lemon-dataset/images/test/'\n",
    "\n",
    "images_train_filenames =  [f for f in listdir(train_dir) if isfile(join(train_dir, f))]\n",
    "images_test_filenames =  [f for f in listdir(test_dir) if isfile(join(test_dir, f))]"
   ]
  },
  {
   "cell_type": "code",
   "execution_count": 18,
   "metadata": {
    "executionInfo": {
     "elapsed": 2691,
     "status": "ok",
     "timestamp": 1603727879215,
     "user": {
      "displayName": "Павел Дудукин",
      "photoUrl": "https://lh3.googleusercontent.com/a-/AOh14GjMwidJT4YV9rFcO76RaS6Wfxyck6cRFmZUZarkLg=s64",
      "userId": "12797132001216754756"
     },
     "user_tz": -180
    },
    "id": "3-kEx5wjBdxD"
   },
   "outputs": [],
   "source": [
    "annotations_dir = 'drive/My Drive/DS Чемпионат/Качество лимонов/lemon-dataset/annotations/'\n",
    "\n",
    "with open(annotations_dir + 'instances_default.json', 'r') as fp:\n",
    "    data = json.load(fp)"
   ]
  },
  {
   "cell_type": "code",
   "execution_count": 19,
   "metadata": {
    "executionInfo": {
     "elapsed": 1861,
     "status": "ok",
     "timestamp": 1603727879216,
     "user": {
      "displayName": "Павел Дудукин",
      "photoUrl": "https://lh3.googleusercontent.com/a-/AOh14GjMwidJT4YV9rFcO76RaS6Wfxyck6cRFmZUZarkLg=s64",
      "userId": "12797132001216754756"
     },
     "user_tz": -180
    },
    "id": "tmkREvPlCGGK"
   },
   "outputs": [],
   "source": [
    "df_annotations = data['annotations']\n",
    "df_annotations = pd.DataFrame(df_annotations)"
   ]
  },
  {
   "cell_type": "code",
   "execution_count": 20,
   "metadata": {
    "executionInfo": {
     "elapsed": 1562,
     "status": "ok",
     "timestamp": 1603727879217,
     "user": {
      "displayName": "Павел Дудукин",
      "photoUrl": "https://lh3.googleusercontent.com/a-/AOh14GjMwidJT4YV9rFcO76RaS6Wfxyck6cRFmZUZarkLg=s64",
      "userId": "12797132001216754756"
     },
     "user_tz": -180
    },
    "id": "d7EL8Ka6C4AY"
   },
   "outputs": [],
   "source": [
    "df_images = data['images']\n",
    "df_images = pd.DataFrame(df_images)"
   ]
  },
  {
   "cell_type": "code",
   "execution_count": null,
   "metadata": {
    "colab": {
     "base_uri": "https://localhost:8080/",
     "height": 50
    },
    "id": "IGSqHGibA38q",
    "outputId": "8fbebb9f-ae08-421f-9688-51ae0e527053"
   },
   "outputs": [
    {
     "name": "stdout",
     "output_type": "stream",
     "text": [
      "CPU times: user 1.17 s, sys: 0 ns, total: 1.17 s\n",
      "Wall time: 1.17 s\n"
     ]
    }
   ],
   "source": [
    "%%time\n",
    "\n",
    "mapper = dict()\n",
    "\n",
    "for index, row in df_annotations.iterrows():\n",
    "  if mapper.get(row['image_id'], None) is None:\n",
    "    mapper[row['image_id']] = set()\n",
    "  mapper[row['image_id']].add(row['category_id'])"
   ]
  },
  {
   "cell_type": "code",
   "execution_count": null,
   "metadata": {
    "id": "iqDGADa5DJ04"
   },
   "outputs": [],
   "source": [
    "image_size = 256"
   ]
  },
  {
   "cell_type": "code",
   "execution_count": null,
   "metadata": {
    "colab": {
     "base_uri": "https://localhost:8080/",
     "height": 50
    },
    "id": "033zjdLUOgFT",
    "outputId": "c7b03f0c-a20f-4fa0-9062-6003010c5365"
   },
   "outputs": [
    {
     "name": "stdout",
     "output_type": "stream",
     "text": [
      "CPU times: user 1min, sys: 906 ms, total: 1min 1s\n",
      "Wall time: 1min 4s\n"
     ]
    }
   ],
   "source": [
    "%%time\n",
    "\n",
    "X_train, y_train = [], []\n",
    "\n",
    "for index, row in df_images.iterrows():\n",
    "  im = Image.open(train_dir + row['file_name'])\n",
    "  im_array = convert_image_to_array(im, image_size = image_size)\n",
    "  cat = np.zeros(9, dtype = int)\n",
    "  for x in mapper[row['id']]:\n",
    "    cat[x - 1] = 1\n",
    "  X_train.append(im_array)\n",
    "  y_train.append(cat)"
   ]
  },
  {
   "cell_type": "code",
   "execution_count": null,
   "metadata": {
    "id": "bll_Ph-_MZ_e"
   },
   "outputs": [],
   "source": [
    "X_train = np.array(X_train)\n",
    "y_train = np.array(y_train)"
   ]
  },
  {
   "cell_type": "code",
   "execution_count": null,
   "metadata": {
    "colab": {
     "base_uri": "https://localhost:8080/",
     "height": 33
    },
    "id": "GjfKxEVu_2ad",
    "outputId": "6429d9b0-a7fc-4c05-9d17-1dc0258f2bb2"
   },
   "outputs": [
    {
     "data": {
      "text/plain": [
       "((1984, 256, 256, 3), (1984, 9))"
      ]
     },
     "execution_count": 12,
     "metadata": {
      "tags": []
     },
     "output_type": "execute_result"
    }
   ],
   "source": [
    "X_train.shape, y_train.shape"
   ]
  },
  {
   "cell_type": "code",
   "execution_count": null,
   "metadata": {
    "colab": {
     "base_uri": "https://localhost:8080/",
     "height": 50
    },
    "id": "ycnQA2I9_2c3",
    "outputId": "9d14b003-b99a-4564-b561-f351823c26d4"
   },
   "outputs": [
    {
     "name": "stdout",
     "output_type": "stream",
     "text": [
      "CPU times: user 13.7 s, sys: 136 ms, total: 13.9 s\n",
      "Wall time: 14.7 s\n"
     ]
    }
   ],
   "source": [
    "%%time\n",
    "\n",
    "X_test = []\n",
    "id_test = []\n",
    "\n",
    "for filename in images_test_filenames:\n",
    "  im = Image.open(test_dir + filename)\n",
    "  im_array = convert_image_to_array(im, image_size)\n",
    "  X_test.append(im_array)\n",
    "  id_test.append(filename)"
   ]
  },
  {
   "cell_type": "code",
   "execution_count": null,
   "metadata": {
    "id": "nf_ifmByJbCl"
   },
   "outputs": [],
   "source": [
    "X_test = np.array(X_test)"
   ]
  },
  {
   "cell_type": "markdown",
   "metadata": {
    "id": "tPm01j3rJbYb"
   },
   "source": [
    "# Model"
   ]
  },
  {
   "cell_type": "code",
   "execution_count": null,
   "metadata": {
    "id": "o6GBfRtFJdQy"
   },
   "outputs": [],
   "source": [
    "def get_model():\n",
    "  model = keras.models.Sequential()\n",
    "\n",
    "  model.add(Conv2D(32, (3, 3), padding=\"same\",input_shape=[image_size, image_size, 3]))\n",
    "  model.add(Activation(\"relu\"))\n",
    "  model.add(BatchNormalization(axis=-1))\n",
    "  model.add(MaxPooling2D(pool_size=(3, 3)))\n",
    "  model.add(Dropout(0.25))\n",
    "\n",
    "  model.add(Conv2D(64, (3, 3), padding=\"same\"))\n",
    "  model.add(Activation(\"relu\"))\n",
    "  model.add(BatchNormalization(axis=-1))\n",
    "\n",
    "  model.add(Conv2D(64, (3, 3), padding=\"same\"))\n",
    "  model.add(Activation(\"relu\"))\n",
    "  model.add(BatchNormalization(axis=-1))\n",
    "  model.add(MaxPooling2D(pool_size=(2, 2)))\n",
    "  model.add(Dropout(0.25))\n",
    "\n",
    "  model.add(Conv2D(128, (3, 3), padding=\"same\"))\n",
    "  model.add(Activation(\"relu\"))\n",
    "  model.add(BatchNormalization(axis=-1))\n",
    "\n",
    "  model.add(Conv2D(128, (3, 3), padding=\"same\"))\n",
    "  model.add(Activation(\"relu\"))\n",
    "  model.add(BatchNormalization(axis=-1))\n",
    "\n",
    "  model.add(MaxPooling2D(pool_size=(2, 2)))\n",
    "  model.add(Dropout(0.25))\n",
    "  model.add(Flatten())\n",
    "  model.add(Dense(1024))\n",
    "  model.add(Activation(\"relu\"))\n",
    "  model.add(BatchNormalization())\n",
    "  model.add(Dropout(0.5))\n",
    "\n",
    "  model.add(Dense(9))\n",
    "  model.add(Activation(\"sigmoid\"))\n",
    "\n",
    "  model.compile(loss='binary_crossentropy', optimizer='adam', metrics=\n",
    "                [keras.metrics.AUC(name='roc_auc', curve = 'ROC'),\n",
    "                 keras.metrics.AUC(name='roc_auc_multi_label', curve = 'ROC', multi_label=True)])\n",
    "\n",
    "  return model"
   ]
  },
  {
   "cell_type": "code",
   "execution_count": null,
   "metadata": {
    "id": "RY3wk2WgJdS1"
   },
   "outputs": [],
   "source": [
    "aug = ImageDataGenerator(\n",
    "    rotation_range=25, width_shift_range=0.1,\n",
    "    height_shift_range=0.1, shear_range=0.2, \n",
    "    zoom_range=0.2,horizontal_flip=True, \n",
    "    fill_mode=\"nearest\")"
   ]
  },
  {
   "cell_type": "code",
   "execution_count": null,
   "metadata": {
    "colab": {
     "base_uri": "https://localhost:8080/",
     "height": 1000
    },
    "id": "eZVjOb1jJdVC",
    "outputId": "317366ae-3fb8-430b-c5b2-2b022e3f3f8e"
   },
   "outputs": [
    {
     "name": "stdout",
     "output_type": "stream",
     "text": [
      "Model: \"sequential\"\n",
      "_________________________________________________________________\n",
      "Layer (type)                 Output Shape              Param #   \n",
      "=================================================================\n",
      "conv2d (Conv2D)              (None, 256, 256, 32)      896       \n",
      "_________________________________________________________________\n",
      "activation (Activation)      (None, 256, 256, 32)      0         \n",
      "_________________________________________________________________\n",
      "batch_normalization (BatchNo (None, 256, 256, 32)      128       \n",
      "_________________________________________________________________\n",
      "max_pooling2d (MaxPooling2D) (None, 85, 85, 32)        0         \n",
      "_________________________________________________________________\n",
      "dropout (Dropout)            (None, 85, 85, 32)        0         \n",
      "_________________________________________________________________\n",
      "conv2d_1 (Conv2D)            (None, 85, 85, 64)        18496     \n",
      "_________________________________________________________________\n",
      "activation_1 (Activation)    (None, 85, 85, 64)        0         \n",
      "_________________________________________________________________\n",
      "batch_normalization_1 (Batch (None, 85, 85, 64)        256       \n",
      "_________________________________________________________________\n",
      "conv2d_2 (Conv2D)            (None, 85, 85, 64)        36928     \n",
      "_________________________________________________________________\n",
      "activation_2 (Activation)    (None, 85, 85, 64)        0         \n",
      "_________________________________________________________________\n",
      "batch_normalization_2 (Batch (None, 85, 85, 64)        256       \n",
      "_________________________________________________________________\n",
      "max_pooling2d_1 (MaxPooling2 (None, 42, 42, 64)        0         \n",
      "_________________________________________________________________\n",
      "dropout_1 (Dropout)          (None, 42, 42, 64)        0         \n",
      "_________________________________________________________________\n",
      "conv2d_3 (Conv2D)            (None, 42, 42, 128)       73856     \n",
      "_________________________________________________________________\n",
      "activation_3 (Activation)    (None, 42, 42, 128)       0         \n",
      "_________________________________________________________________\n",
      "batch_normalization_3 (Batch (None, 42, 42, 128)       512       \n",
      "_________________________________________________________________\n",
      "conv2d_4 (Conv2D)            (None, 42, 42, 128)       147584    \n",
      "_________________________________________________________________\n",
      "activation_4 (Activation)    (None, 42, 42, 128)       0         \n",
      "_________________________________________________________________\n",
      "batch_normalization_4 (Batch (None, 42, 42, 128)       512       \n",
      "_________________________________________________________________\n",
      "max_pooling2d_2 (MaxPooling2 (None, 21, 21, 128)       0         \n",
      "_________________________________________________________________\n",
      "dropout_2 (Dropout)          (None, 21, 21, 128)       0         \n",
      "_________________________________________________________________\n",
      "flatten (Flatten)            (None, 56448)             0         \n",
      "_________________________________________________________________\n",
      "dense (Dense)                (None, 1024)              57803776  \n",
      "_________________________________________________________________\n",
      "activation_5 (Activation)    (None, 1024)              0         \n",
      "_________________________________________________________________\n",
      "batch_normalization_5 (Batch (None, 1024)              4096      \n",
      "_________________________________________________________________\n",
      "dropout_3 (Dropout)          (None, 1024)              0         \n",
      "_________________________________________________________________\n",
      "dense_1 (Dense)              (None, 9)                 9225      \n",
      "_________________________________________________________________\n",
      "activation_6 (Activation)    (None, 9)                 0         \n",
      "=================================================================\n",
      "Total params: 58,096,521\n",
      "Trainable params: 58,093,641\n",
      "Non-trainable params: 2,880\n",
      "_________________________________________________________________\n"
     ]
    }
   ],
   "source": [
    "model = get_model()\n",
    "\n",
    "model.summary()"
   ]
  },
  {
   "cell_type": "code",
   "execution_count": null,
   "metadata": {
    "colab": {
     "base_uri": "https://localhost:8080/",
     "height": 368
    },
    "id": "vj_z2MtaJmqQ",
    "outputId": "3d244a69-6932-45da-8379-6dc065ce7ecd"
   },
   "outputs": [
    {
     "name": "stdout",
     "output_type": "stream",
     "text": [
      "WARNING:tensorflow:From <timed exec>:8: Model.fit_generator (from tensorflow.python.keras.engine.training) is deprecated and will be removed in a future version.\n",
      "Instructions for updating:\n",
      "Please use Model.fit, which supports generators.\n",
      "Epoch 1/8\n",
      "62/62 [==============================] - 399s 6s/step - loss: 0.7436 - roc_auc: 0.6115 - roc_auc_multi_label: 0.5878\n",
      "Epoch 2/8\n",
      "62/62 [==============================] - 402s 6s/step - loss: 0.4355 - roc_auc: 0.7791 - roc_auc_multi_label: 0.5258\n",
      "Epoch 3/8\n",
      "62/62 [==============================] - 401s 6s/step - loss: 0.3767 - roc_auc: 0.8403 - roc_auc_multi_label: 0.5592\n",
      "Epoch 4/8\n",
      "62/62 [==============================] - 399s 6s/step - loss: 0.3649 - roc_auc: 0.8523 - roc_auc_multi_label: 0.5398\n",
      "Epoch 5/8\n",
      "62/62 [==============================] - 403s 6s/step - loss: 0.3562 - roc_auc: 0.8601 - roc_auc_multi_label: 0.6349\n",
      "Epoch 6/8\n",
      "62/62 [==============================] - 402s 6s/step - loss: 0.3614 - roc_auc: 0.8581 - roc_auc_multi_label: 0.6222\n",
      "Epoch 7/8\n",
      "62/62 [==============================] - 398s 6s/step - loss: 0.3568 - roc_auc: 0.8627 - roc_auc_multi_label: 0.6205\n",
      "Epoch 8/8\n",
      "62/62 [==============================] - 399s 6s/step - loss: 0.3514 - roc_auc: 0.8660 - roc_auc_multi_label: 0.6276\n",
      "CPU times: user 1h 44min 46s, sys: 50.8 s, total: 1h 45min 37s\n",
      "Wall time: 54min 23s\n"
     ]
    }
   ],
   "source": [
    "%%time\n",
    "\n",
    "BS = 32\n",
    "EPOCHS = 8\n",
    "\n",
    "history = model.fit_generator(\n",
    "    aug.flow(X_train, y_train, batch_size=BS),\n",
    "    steps_per_epoch=len(X_train) // BS,\n",
    "    epochs=EPOCHS, verbose=1)"
   ]
  },
  {
   "cell_type": "code",
   "execution_count": null,
   "metadata": {
    "colab": {
     "base_uri": "https://localhost:8080/",
     "height": 100
    },
    "id": "U4ldWJfcaLyS",
    "outputId": "b5f70514-93b6-4ac8-dd96-0122698afe18"
   },
   "outputs": [
    {
     "name": "stdout",
     "output_type": "stream",
     "text": [
      "WARNING:tensorflow:From <timed exec>:2: Sequential.predict_proba (from tensorflow.python.keras.engine.sequential) is deprecated and will be removed after 2021-01-01.\n",
      "Instructions for updating:\n",
      "Please use `model.predict()` instead.\n",
      "CPU times: user 37.9 s, sys: 308 ms, total: 38.3 s\n",
      "Wall time: 19.7 s\n"
     ]
    }
   ],
   "source": [
    "%%time\n",
    "\n",
    "y_preds = model.predict_proba(X_test)\n",
    "\n",
    "for i in range(len(y_preds)):\n",
    "  y_preds[i] = np.array(y_preds[i] >= 0.5)\n",
    "\n",
    "y_preds = np.array(y_preds, dtype = int)"
   ]
  },
  {
   "cell_type": "code",
   "execution_count": null,
   "metadata": {
    "id": "CN2CG2TmaKDQ"
   },
   "outputs": [],
   "source": [
    "y_preds = pd.DataFrame(data = np.concatenate((np.array(id_test).reshape(-1, 1), y_preds), axis = 1), index = None, columns=['image_id'] + list(map(str, range(1, 10))))\n",
    "y_preds.to_csv('drive/My Drive/DS Чемпионат/Качество лимонов/y_preds.csv', index = None)"
   ]
  },
  {
   "cell_type": "code",
   "execution_count": null,
   "metadata": {
    "id": "0KfMTsR2mq_y"
   },
   "outputs": [],
   "source": []
  }
 ],
 "metadata": {
  "colab": {
   "collapsed_sections": [],
   "name": "Lemon_task_baseline.ipynb",
   "provenance": []
  },
  "kernelspec": {
   "display_name": "Python 3",
   "language": "python",
   "name": "python3"
  },
  "language_info": {
   "codemirror_mode": {
    "name": "ipython",
    "version": 3
   },
   "file_extension": ".py",
   "mimetype": "text/x-python",
   "name": "python",
   "nbconvert_exporter": "python",
   "pygments_lexer": "ipython3",
   "version": "3.7.6"
  },
  "toc": {
   "base_numbering": 1,
   "nav_menu": {},
   "number_sections": true,
   "sideBar": true,
   "skip_h1_title": false,
   "title_cell": "Table of Contents",
   "title_sidebar": "Contents",
   "toc_cell": false,
   "toc_position": {},
   "toc_section_display": true,
   "toc_window_display": false
  }
 },
 "nbformat": 4,
 "nbformat_minor": 1
}
